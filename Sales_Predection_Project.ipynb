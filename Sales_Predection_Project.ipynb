{
  "cells": [
    {
      "cell_type": "markdown",
      "metadata": {
        "id": "view-in-github",
        "colab_type": "text"
      },
      "source": [
        "<a href=\"https://colab.research.google.com/github/ReaganTiburan/Sales-Prediction/blob/main/Sales_Predection_Project.ipynb\" target=\"_parent\"><img src=\"https://colab.research.google.com/assets/colab-badge.svg\" alt=\"Open In Colab\"/></a>"
      ]
    },
    {
      "cell_type": "markdown",
      "metadata": {
        "id": "E94Jzga5EYtY"
      },
      "source": [
        "## Mount Drive, Import Libraries, Load our Dataset"
      ]
    },
    {
      "cell_type": "code",
      "execution_count": 1,
      "metadata": {
        "colab": {
          "base_uri": "https://localhost:8080/"
        },
        "id": "gY3fVOoGEXen",
        "outputId": "1789cfc8-6bb9-4f99-c0c0-cd1831924449"
      },
      "outputs": [
        {
          "output_type": "stream",
          "name": "stdout",
          "text": [
            "Drive already mounted at /content/drive; to attempt to forcibly remount, call drive.mount(\"/content/drive\", force_remount=True).\n"
          ]
        }
      ],
      "source": [
        "from google.colab import drive\n",
        "drive.mount('/content/drive')"
      ]
    },
    {
      "cell_type": "code",
      "execution_count": 2,
      "metadata": {
        "id": "XqOkWD0XbqiY"
      },
      "outputs": [],
      "source": [
        "import pandas as pd\n",
        "import numpy as np\n",
        "\n",
        "import matplotlib.pyplot as plt\n",
        "import seaborn as sns\n",
        "\n",
        "import warnings\n",
        "warnings.filterwarnings('ignore')\n",
        "\n",
        "from sklearn.model_selection import train_test_split\n",
        "from sklearn.compose import make_column_selector, make_column_transformer\n",
        "from sklearn.pipeline import make_pipeline\n",
        "from sklearn.impute import SimpleImputer\n",
        "from sklearn.preprocessing import StandardScaler, OneHotEncoder\n",
        "from sklearn import set_config\n",
        "set_config(display = 'diagram')\n",
        "from sklearn.metrics  import r2_score, mean_absolute_error, mean_squared_error \n",
        "from sklearn.linear_model import LinearRegression\n",
        "from sklearn.tree import DecisionTreeRegressor, DecisionTreeClassifier"
      ]
    },
    {
      "cell_type": "code",
      "execution_count": 3,
      "metadata": {
        "colab": {
          "base_uri": "https://localhost:8080/",
          "height": 0
        },
        "id": "H0W4PouVXeZO",
        "outputId": "334d6067-eba3-4ac4-b56c-5f727dc95c3e"
      },
      "outputs": [
        {
          "output_type": "execute_result",
          "data": {
            "text/plain": [
              "   Item_Identifier  Item_Weight Item_Fat_Content  Item_Visibility  \\\n",
              "0            FDA15        9.300          Low Fat         0.016047   \n",
              "1            DRC01        5.920          Regular         0.019278   \n",
              "2            FDN15       17.500          Low Fat         0.016760   \n",
              "3            FDX07       19.200          Regular         0.000000   \n",
              "4            NCD19        8.930          Low Fat         0.000000   \n",
              "5            FDP36       10.395          Regular         0.000000   \n",
              "6            FDO10       13.650          Regular         0.012741   \n",
              "7            FDP10          NaN          Low Fat         0.127470   \n",
              "8            FDH17       16.200          Regular         0.016687   \n",
              "9            FDU28       19.200          Regular         0.094450   \n",
              "10           FDY07       11.800          Low Fat         0.000000   \n",
              "11           FDA03       18.500          Regular         0.045464   \n",
              "12           FDX32       15.100          Regular         0.100014   \n",
              "13           FDS46       17.600          Regular         0.047257   \n",
              "14           FDF32       16.350          Low Fat         0.068024   \n",
              "15           FDP49        9.000          Regular         0.069089   \n",
              "16           NCB42       11.800          Low Fat         0.008596   \n",
              "17           FDP49        9.000          Regular         0.069196   \n",
              "18           DRI11          NaN          Low Fat         0.034238   \n",
              "19           FDU02       13.350          Low Fat         0.102492   \n",
              "\n",
              "                Item_Type  Item_MRP Outlet_Identifier  \\\n",
              "0                   Dairy  249.8092            OUT049   \n",
              "1             Soft Drinks   48.2692            OUT018   \n",
              "2                    Meat  141.6180            OUT049   \n",
              "3   Fruits and Vegetables  182.0950            OUT010   \n",
              "4               Household   53.8614            OUT013   \n",
              "5            Baking Goods   51.4008            OUT018   \n",
              "6             Snack Foods   57.6588            OUT013   \n",
              "7             Snack Foods  107.7622            OUT027   \n",
              "8            Frozen Foods   96.9726            OUT045   \n",
              "9            Frozen Foods  187.8214            OUT017   \n",
              "10  Fruits and Vegetables   45.5402            OUT049   \n",
              "11                  Dairy  144.1102            OUT046   \n",
              "12  Fruits and Vegetables  145.4786            OUT049   \n",
              "13            Snack Foods  119.6782            OUT046   \n",
              "14  Fruits and Vegetables  196.4426            OUT013   \n",
              "15              Breakfast   56.3614            OUT046   \n",
              "16     Health and Hygiene  115.3492            OUT018   \n",
              "17              Breakfast   54.3614            OUT049   \n",
              "18            Hard Drinks  113.2834            OUT027   \n",
              "19                  Dairy  230.5352            OUT035   \n",
              "\n",
              "    Outlet_Establishment_Year Outlet_Size Outlet_Location_Type  \\\n",
              "0                        1999      Medium               Tier 1   \n",
              "1                        2009      Medium               Tier 3   \n",
              "2                        1999      Medium               Tier 1   \n",
              "3                        1998         NaN               Tier 3   \n",
              "4                        1987        High               Tier 3   \n",
              "5                        2009      Medium               Tier 3   \n",
              "6                        1987        High               Tier 3   \n",
              "7                        1985      Medium               Tier 3   \n",
              "8                        2002         NaN               Tier 2   \n",
              "9                        2007         NaN               Tier 2   \n",
              "10                       1999      Medium               Tier 1   \n",
              "11                       1997       Small               Tier 1   \n",
              "12                       1999      Medium               Tier 1   \n",
              "13                       1997       Small               Tier 1   \n",
              "14                       1987        High               Tier 3   \n",
              "15                       1997       Small               Tier 1   \n",
              "16                       2009      Medium               Tier 3   \n",
              "17                       1999      Medium               Tier 1   \n",
              "18                       1985      Medium               Tier 3   \n",
              "19                       2004       Small               Tier 2   \n",
              "\n",
              "          Outlet_Type  Item_Outlet_Sales  \n",
              "0   Supermarket Type1          3735.1380  \n",
              "1   Supermarket Type2           443.4228  \n",
              "2   Supermarket Type1          2097.2700  \n",
              "3       Grocery Store           732.3800  \n",
              "4   Supermarket Type1           994.7052  \n",
              "5   Supermarket Type2           556.6088  \n",
              "6   Supermarket Type1           343.5528  \n",
              "7   Supermarket Type3          4022.7636  \n",
              "8   Supermarket Type1          1076.5986  \n",
              "9   Supermarket Type1          4710.5350  \n",
              "10  Supermarket Type1          1516.0266  \n",
              "11  Supermarket Type1          2187.1530  \n",
              "12  Supermarket Type1          1589.2646  \n",
              "13  Supermarket Type1          2145.2076  \n",
              "14  Supermarket Type1          1977.4260  \n",
              "15  Supermarket Type1          1547.3192  \n",
              "16  Supermarket Type2          1621.8888  \n",
              "17  Supermarket Type1           718.3982  \n",
              "18  Supermarket Type3          2303.6680  \n",
              "19  Supermarket Type1          2748.4224  "
            ],
            "text/html": [
              "\n",
              "  <div id=\"df-703b319c-6a05-41b2-bd89-4e3f2ed80203\">\n",
              "    <div class=\"colab-df-container\">\n",
              "      <div>\n",
              "<style scoped>\n",
              "    .dataframe tbody tr th:only-of-type {\n",
              "        vertical-align: middle;\n",
              "    }\n",
              "\n",
              "    .dataframe tbody tr th {\n",
              "        vertical-align: top;\n",
              "    }\n",
              "\n",
              "    .dataframe thead th {\n",
              "        text-align: right;\n",
              "    }\n",
              "</style>\n",
              "<table border=\"1\" class=\"dataframe\">\n",
              "  <thead>\n",
              "    <tr style=\"text-align: right;\">\n",
              "      <th></th>\n",
              "      <th>Item_Identifier</th>\n",
              "      <th>Item_Weight</th>\n",
              "      <th>Item_Fat_Content</th>\n",
              "      <th>Item_Visibility</th>\n",
              "      <th>Item_Type</th>\n",
              "      <th>Item_MRP</th>\n",
              "      <th>Outlet_Identifier</th>\n",
              "      <th>Outlet_Establishment_Year</th>\n",
              "      <th>Outlet_Size</th>\n",
              "      <th>Outlet_Location_Type</th>\n",
              "      <th>Outlet_Type</th>\n",
              "      <th>Item_Outlet_Sales</th>\n",
              "    </tr>\n",
              "  </thead>\n",
              "  <tbody>\n",
              "    <tr>\n",
              "      <th>0</th>\n",
              "      <td>FDA15</td>\n",
              "      <td>9.300</td>\n",
              "      <td>Low Fat</td>\n",
              "      <td>0.016047</td>\n",
              "      <td>Dairy</td>\n",
              "      <td>249.8092</td>\n",
              "      <td>OUT049</td>\n",
              "      <td>1999</td>\n",
              "      <td>Medium</td>\n",
              "      <td>Tier 1</td>\n",
              "      <td>Supermarket Type1</td>\n",
              "      <td>3735.1380</td>\n",
              "    </tr>\n",
              "    <tr>\n",
              "      <th>1</th>\n",
              "      <td>DRC01</td>\n",
              "      <td>5.920</td>\n",
              "      <td>Regular</td>\n",
              "      <td>0.019278</td>\n",
              "      <td>Soft Drinks</td>\n",
              "      <td>48.2692</td>\n",
              "      <td>OUT018</td>\n",
              "      <td>2009</td>\n",
              "      <td>Medium</td>\n",
              "      <td>Tier 3</td>\n",
              "      <td>Supermarket Type2</td>\n",
              "      <td>443.4228</td>\n",
              "    </tr>\n",
              "    <tr>\n",
              "      <th>2</th>\n",
              "      <td>FDN15</td>\n",
              "      <td>17.500</td>\n",
              "      <td>Low Fat</td>\n",
              "      <td>0.016760</td>\n",
              "      <td>Meat</td>\n",
              "      <td>141.6180</td>\n",
              "      <td>OUT049</td>\n",
              "      <td>1999</td>\n",
              "      <td>Medium</td>\n",
              "      <td>Tier 1</td>\n",
              "      <td>Supermarket Type1</td>\n",
              "      <td>2097.2700</td>\n",
              "    </tr>\n",
              "    <tr>\n",
              "      <th>3</th>\n",
              "      <td>FDX07</td>\n",
              "      <td>19.200</td>\n",
              "      <td>Regular</td>\n",
              "      <td>0.000000</td>\n",
              "      <td>Fruits and Vegetables</td>\n",
              "      <td>182.0950</td>\n",
              "      <td>OUT010</td>\n",
              "      <td>1998</td>\n",
              "      <td>NaN</td>\n",
              "      <td>Tier 3</td>\n",
              "      <td>Grocery Store</td>\n",
              "      <td>732.3800</td>\n",
              "    </tr>\n",
              "    <tr>\n",
              "      <th>4</th>\n",
              "      <td>NCD19</td>\n",
              "      <td>8.930</td>\n",
              "      <td>Low Fat</td>\n",
              "      <td>0.000000</td>\n",
              "      <td>Household</td>\n",
              "      <td>53.8614</td>\n",
              "      <td>OUT013</td>\n",
              "      <td>1987</td>\n",
              "      <td>High</td>\n",
              "      <td>Tier 3</td>\n",
              "      <td>Supermarket Type1</td>\n",
              "      <td>994.7052</td>\n",
              "    </tr>\n",
              "    <tr>\n",
              "      <th>5</th>\n",
              "      <td>FDP36</td>\n",
              "      <td>10.395</td>\n",
              "      <td>Regular</td>\n",
              "      <td>0.000000</td>\n",
              "      <td>Baking Goods</td>\n",
              "      <td>51.4008</td>\n",
              "      <td>OUT018</td>\n",
              "      <td>2009</td>\n",
              "      <td>Medium</td>\n",
              "      <td>Tier 3</td>\n",
              "      <td>Supermarket Type2</td>\n",
              "      <td>556.6088</td>\n",
              "    </tr>\n",
              "    <tr>\n",
              "      <th>6</th>\n",
              "      <td>FDO10</td>\n",
              "      <td>13.650</td>\n",
              "      <td>Regular</td>\n",
              "      <td>0.012741</td>\n",
              "      <td>Snack Foods</td>\n",
              "      <td>57.6588</td>\n",
              "      <td>OUT013</td>\n",
              "      <td>1987</td>\n",
              "      <td>High</td>\n",
              "      <td>Tier 3</td>\n",
              "      <td>Supermarket Type1</td>\n",
              "      <td>343.5528</td>\n",
              "    </tr>\n",
              "    <tr>\n",
              "      <th>7</th>\n",
              "      <td>FDP10</td>\n",
              "      <td>NaN</td>\n",
              "      <td>Low Fat</td>\n",
              "      <td>0.127470</td>\n",
              "      <td>Snack Foods</td>\n",
              "      <td>107.7622</td>\n",
              "      <td>OUT027</td>\n",
              "      <td>1985</td>\n",
              "      <td>Medium</td>\n",
              "      <td>Tier 3</td>\n",
              "      <td>Supermarket Type3</td>\n",
              "      <td>4022.7636</td>\n",
              "    </tr>\n",
              "    <tr>\n",
              "      <th>8</th>\n",
              "      <td>FDH17</td>\n",
              "      <td>16.200</td>\n",
              "      <td>Regular</td>\n",
              "      <td>0.016687</td>\n",
              "      <td>Frozen Foods</td>\n",
              "      <td>96.9726</td>\n",
              "      <td>OUT045</td>\n",
              "      <td>2002</td>\n",
              "      <td>NaN</td>\n",
              "      <td>Tier 2</td>\n",
              "      <td>Supermarket Type1</td>\n",
              "      <td>1076.5986</td>\n",
              "    </tr>\n",
              "    <tr>\n",
              "      <th>9</th>\n",
              "      <td>FDU28</td>\n",
              "      <td>19.200</td>\n",
              "      <td>Regular</td>\n",
              "      <td>0.094450</td>\n",
              "      <td>Frozen Foods</td>\n",
              "      <td>187.8214</td>\n",
              "      <td>OUT017</td>\n",
              "      <td>2007</td>\n",
              "      <td>NaN</td>\n",
              "      <td>Tier 2</td>\n",
              "      <td>Supermarket Type1</td>\n",
              "      <td>4710.5350</td>\n",
              "    </tr>\n",
              "    <tr>\n",
              "      <th>10</th>\n",
              "      <td>FDY07</td>\n",
              "      <td>11.800</td>\n",
              "      <td>Low Fat</td>\n",
              "      <td>0.000000</td>\n",
              "      <td>Fruits and Vegetables</td>\n",
              "      <td>45.5402</td>\n",
              "      <td>OUT049</td>\n",
              "      <td>1999</td>\n",
              "      <td>Medium</td>\n",
              "      <td>Tier 1</td>\n",
              "      <td>Supermarket Type1</td>\n",
              "      <td>1516.0266</td>\n",
              "    </tr>\n",
              "    <tr>\n",
              "      <th>11</th>\n",
              "      <td>FDA03</td>\n",
              "      <td>18.500</td>\n",
              "      <td>Regular</td>\n",
              "      <td>0.045464</td>\n",
              "      <td>Dairy</td>\n",
              "      <td>144.1102</td>\n",
              "      <td>OUT046</td>\n",
              "      <td>1997</td>\n",
              "      <td>Small</td>\n",
              "      <td>Tier 1</td>\n",
              "      <td>Supermarket Type1</td>\n",
              "      <td>2187.1530</td>\n",
              "    </tr>\n",
              "    <tr>\n",
              "      <th>12</th>\n",
              "      <td>FDX32</td>\n",
              "      <td>15.100</td>\n",
              "      <td>Regular</td>\n",
              "      <td>0.100014</td>\n",
              "      <td>Fruits and Vegetables</td>\n",
              "      <td>145.4786</td>\n",
              "      <td>OUT049</td>\n",
              "      <td>1999</td>\n",
              "      <td>Medium</td>\n",
              "      <td>Tier 1</td>\n",
              "      <td>Supermarket Type1</td>\n",
              "      <td>1589.2646</td>\n",
              "    </tr>\n",
              "    <tr>\n",
              "      <th>13</th>\n",
              "      <td>FDS46</td>\n",
              "      <td>17.600</td>\n",
              "      <td>Regular</td>\n",
              "      <td>0.047257</td>\n",
              "      <td>Snack Foods</td>\n",
              "      <td>119.6782</td>\n",
              "      <td>OUT046</td>\n",
              "      <td>1997</td>\n",
              "      <td>Small</td>\n",
              "      <td>Tier 1</td>\n",
              "      <td>Supermarket Type1</td>\n",
              "      <td>2145.2076</td>\n",
              "    </tr>\n",
              "    <tr>\n",
              "      <th>14</th>\n",
              "      <td>FDF32</td>\n",
              "      <td>16.350</td>\n",
              "      <td>Low Fat</td>\n",
              "      <td>0.068024</td>\n",
              "      <td>Fruits and Vegetables</td>\n",
              "      <td>196.4426</td>\n",
              "      <td>OUT013</td>\n",
              "      <td>1987</td>\n",
              "      <td>High</td>\n",
              "      <td>Tier 3</td>\n",
              "      <td>Supermarket Type1</td>\n",
              "      <td>1977.4260</td>\n",
              "    </tr>\n",
              "    <tr>\n",
              "      <th>15</th>\n",
              "      <td>FDP49</td>\n",
              "      <td>9.000</td>\n",
              "      <td>Regular</td>\n",
              "      <td>0.069089</td>\n",
              "      <td>Breakfast</td>\n",
              "      <td>56.3614</td>\n",
              "      <td>OUT046</td>\n",
              "      <td>1997</td>\n",
              "      <td>Small</td>\n",
              "      <td>Tier 1</td>\n",
              "      <td>Supermarket Type1</td>\n",
              "      <td>1547.3192</td>\n",
              "    </tr>\n",
              "    <tr>\n",
              "      <th>16</th>\n",
              "      <td>NCB42</td>\n",
              "      <td>11.800</td>\n",
              "      <td>Low Fat</td>\n",
              "      <td>0.008596</td>\n",
              "      <td>Health and Hygiene</td>\n",
              "      <td>115.3492</td>\n",
              "      <td>OUT018</td>\n",
              "      <td>2009</td>\n",
              "      <td>Medium</td>\n",
              "      <td>Tier 3</td>\n",
              "      <td>Supermarket Type2</td>\n",
              "      <td>1621.8888</td>\n",
              "    </tr>\n",
              "    <tr>\n",
              "      <th>17</th>\n",
              "      <td>FDP49</td>\n",
              "      <td>9.000</td>\n",
              "      <td>Regular</td>\n",
              "      <td>0.069196</td>\n",
              "      <td>Breakfast</td>\n",
              "      <td>54.3614</td>\n",
              "      <td>OUT049</td>\n",
              "      <td>1999</td>\n",
              "      <td>Medium</td>\n",
              "      <td>Tier 1</td>\n",
              "      <td>Supermarket Type1</td>\n",
              "      <td>718.3982</td>\n",
              "    </tr>\n",
              "    <tr>\n",
              "      <th>18</th>\n",
              "      <td>DRI11</td>\n",
              "      <td>NaN</td>\n",
              "      <td>Low Fat</td>\n",
              "      <td>0.034238</td>\n",
              "      <td>Hard Drinks</td>\n",
              "      <td>113.2834</td>\n",
              "      <td>OUT027</td>\n",
              "      <td>1985</td>\n",
              "      <td>Medium</td>\n",
              "      <td>Tier 3</td>\n",
              "      <td>Supermarket Type3</td>\n",
              "      <td>2303.6680</td>\n",
              "    </tr>\n",
              "    <tr>\n",
              "      <th>19</th>\n",
              "      <td>FDU02</td>\n",
              "      <td>13.350</td>\n",
              "      <td>Low Fat</td>\n",
              "      <td>0.102492</td>\n",
              "      <td>Dairy</td>\n",
              "      <td>230.5352</td>\n",
              "      <td>OUT035</td>\n",
              "      <td>2004</td>\n",
              "      <td>Small</td>\n",
              "      <td>Tier 2</td>\n",
              "      <td>Supermarket Type1</td>\n",
              "      <td>2748.4224</td>\n",
              "    </tr>\n",
              "  </tbody>\n",
              "</table>\n",
              "</div>\n",
              "      <button class=\"colab-df-convert\" onclick=\"convertToInteractive('df-703b319c-6a05-41b2-bd89-4e3f2ed80203')\"\n",
              "              title=\"Convert this dataframe to an interactive table.\"\n",
              "              style=\"display:none;\">\n",
              "        \n",
              "  <svg xmlns=\"http://www.w3.org/2000/svg\" height=\"24px\"viewBox=\"0 0 24 24\"\n",
              "       width=\"24px\">\n",
              "    <path d=\"M0 0h24v24H0V0z\" fill=\"none\"/>\n",
              "    <path d=\"M18.56 5.44l.94 2.06.94-2.06 2.06-.94-2.06-.94-.94-2.06-.94 2.06-2.06.94zm-11 1L8.5 8.5l.94-2.06 2.06-.94-2.06-.94L8.5 2.5l-.94 2.06-2.06.94zm10 10l.94 2.06.94-2.06 2.06-.94-2.06-.94-.94-2.06-.94 2.06-2.06.94z\"/><path d=\"M17.41 7.96l-1.37-1.37c-.4-.4-.92-.59-1.43-.59-.52 0-1.04.2-1.43.59L10.3 9.45l-7.72 7.72c-.78.78-.78 2.05 0 2.83L4 21.41c.39.39.9.59 1.41.59.51 0 1.02-.2 1.41-.59l7.78-7.78 2.81-2.81c.8-.78.8-2.07 0-2.86zM5.41 20L4 18.59l7.72-7.72 1.47 1.35L5.41 20z\"/>\n",
              "  </svg>\n",
              "      </button>\n",
              "      \n",
              "  <style>\n",
              "    .colab-df-container {\n",
              "      display:flex;\n",
              "      flex-wrap:wrap;\n",
              "      gap: 12px;\n",
              "    }\n",
              "\n",
              "    .colab-df-convert {\n",
              "      background-color: #E8F0FE;\n",
              "      border: none;\n",
              "      border-radius: 50%;\n",
              "      cursor: pointer;\n",
              "      display: none;\n",
              "      fill: #1967D2;\n",
              "      height: 32px;\n",
              "      padding: 0 0 0 0;\n",
              "      width: 32px;\n",
              "    }\n",
              "\n",
              "    .colab-df-convert:hover {\n",
              "      background-color: #E2EBFA;\n",
              "      box-shadow: 0px 1px 2px rgba(60, 64, 67, 0.3), 0px 1px 3px 1px rgba(60, 64, 67, 0.15);\n",
              "      fill: #174EA6;\n",
              "    }\n",
              "\n",
              "    [theme=dark] .colab-df-convert {\n",
              "      background-color: #3B4455;\n",
              "      fill: #D2E3FC;\n",
              "    }\n",
              "\n",
              "    [theme=dark] .colab-df-convert:hover {\n",
              "      background-color: #434B5C;\n",
              "      box-shadow: 0px 1px 3px 1px rgba(0, 0, 0, 0.15);\n",
              "      filter: drop-shadow(0px 1px 2px rgba(0, 0, 0, 0.3));\n",
              "      fill: #FFFFFF;\n",
              "    }\n",
              "  </style>\n",
              "\n",
              "      <script>\n",
              "        const buttonEl =\n",
              "          document.querySelector('#df-703b319c-6a05-41b2-bd89-4e3f2ed80203 button.colab-df-convert');\n",
              "        buttonEl.style.display =\n",
              "          google.colab.kernel.accessAllowed ? 'block' : 'none';\n",
              "\n",
              "        async function convertToInteractive(key) {\n",
              "          const element = document.querySelector('#df-703b319c-6a05-41b2-bd89-4e3f2ed80203');\n",
              "          const dataTable =\n",
              "            await google.colab.kernel.invokeFunction('convertToInteractive',\n",
              "                                                     [key], {});\n",
              "          if (!dataTable) return;\n",
              "\n",
              "          const docLinkHtml = 'Like what you see? Visit the ' +\n",
              "            '<a target=\"_blank\" href=https://colab.research.google.com/notebooks/data_table.ipynb>data table notebook</a>'\n",
              "            + ' to learn more about interactive tables.';\n",
              "          element.innerHTML = '';\n",
              "          dataTable['output_type'] = 'display_data';\n",
              "          await google.colab.output.renderOutput(dataTable, element);\n",
              "          const docLink = document.createElement('div');\n",
              "          docLink.innerHTML = docLinkHtml;\n",
              "          element.appendChild(docLink);\n",
              "        }\n",
              "      </script>\n",
              "    </div>\n",
              "  </div>\n",
              "  "
            ]
          },
          "metadata": {},
          "execution_count": 3
        }
      ],
      "source": [
        "filename = '/content/drive/MyDrive/Coding Dojo Project/Coding Dojo/02 Week 2: Pandas/03_Attachments/sales_predictions.csv'\n",
        "df = pd.read_csv(filename)\n",
        "df.head(20)"
      ]
    },
    {
      "cell_type": "markdown",
      "metadata": {
        "id": "KqGlIfKC0Y6d"
      },
      "source": [
        "## 1) How many rows and columns?"
      ]
    },
    {
      "cell_type": "code",
      "execution_count": 4,
      "metadata": {
        "colab": {
          "base_uri": "https://localhost:8080/"
        },
        "id": "DBwDb1vgX9S8",
        "outputId": "b148aa61-8e3b-443f-a8d7-f686039fbd6b"
      },
      "outputs": [
        {
          "output_type": "execute_result",
          "data": {
            "text/plain": [
              "(8523, 12)"
            ]
          },
          "metadata": {},
          "execution_count": 4
        }
      ],
      "source": [
        "df.shape"
      ]
    },
    {
      "cell_type": "markdown",
      "metadata": {
        "id": "o4t5w6aV0qMV"
      },
      "source": [
        "# 2) What are the datatypes of each variable?"
      ]
    },
    {
      "cell_type": "code",
      "execution_count": 5,
      "metadata": {
        "colab": {
          "base_uri": "https://localhost:8080/"
        },
        "id": "m2ePNhB6syo-",
        "outputId": "b7d2bcdb-56a7-4951-ee58-947448bafc6e"
      },
      "outputs": [
        {
          "output_type": "stream",
          "name": "stdout",
          "text": [
            "<class 'pandas.core.frame.DataFrame'>\n",
            "RangeIndex: 8523 entries, 0 to 8522\n",
            "Data columns (total 12 columns):\n",
            " #   Column                     Non-Null Count  Dtype  \n",
            "---  ------                     --------------  -----  \n",
            " 0   Item_Identifier            8523 non-null   object \n",
            " 1   Item_Weight                7060 non-null   float64\n",
            " 2   Item_Fat_Content           8523 non-null   object \n",
            " 3   Item_Visibility            8523 non-null   float64\n",
            " 4   Item_Type                  8523 non-null   object \n",
            " 5   Item_MRP                   8523 non-null   float64\n",
            " 6   Outlet_Identifier          8523 non-null   object \n",
            " 7   Outlet_Establishment_Year  8523 non-null   int64  \n",
            " 8   Outlet_Size                6113 non-null   object \n",
            " 9   Outlet_Location_Type       8523 non-null   object \n",
            " 10  Outlet_Type                8523 non-null   object \n",
            " 11  Item_Outlet_Sales          8523 non-null   float64\n",
            "dtypes: float64(4), int64(1), object(7)\n",
            "memory usage: 799.2+ KB\n"
          ]
        }
      ],
      "source": [
        "df.info()"
      ]
    },
    {
      "cell_type": "markdown",
      "metadata": {
        "id": "DGO95ymX0yy9"
      },
      "source": [
        "# 3) Are there duplicates? If so, drop any duplicates."
      ]
    },
    {
      "cell_type": "code",
      "execution_count": 6,
      "metadata": {
        "colab": {
          "base_uri": "https://localhost:8080/"
        },
        "id": "ftGAGeKls7ad",
        "outputId": "ca7c091c-40d2-4445-c354-d0a304be199a"
      },
      "outputs": [
        {
          "output_type": "execute_result",
          "data": {
            "text/plain": [
              "0"
            ]
          },
          "metadata": {},
          "execution_count": 6
        }
      ],
      "source": [
        "df.duplicated().sum()"
      ]
    },
    {
      "cell_type": "markdown",
      "metadata": {
        "id": "eX_b_j5Y05qG"
      },
      "source": [
        "# 4) Identify missing values."
      ]
    },
    {
      "cell_type": "code",
      "execution_count": 7,
      "metadata": {
        "colab": {
          "base_uri": "https://localhost:8080/"
        },
        "id": "IeYEcIOmvXle",
        "outputId": "79bab86a-46a6-40ed-b23d-eb508ad8d6f1"
      },
      "outputs": [
        {
          "output_type": "execute_result",
          "data": {
            "text/plain": [
              "Item_Identifier                 0\n",
              "Item_Weight                  1463\n",
              "Item_Fat_Content                0\n",
              "Item_Visibility                 0\n",
              "Item_Type                       0\n",
              "Item_MRP                        0\n",
              "Outlet_Identifier               0\n",
              "Outlet_Establishment_Year       0\n",
              "Outlet_Size                  2410\n",
              "Outlet_Location_Type            0\n",
              "Outlet_Type                     0\n",
              "Item_Outlet_Sales               0\n",
              "dtype: int64"
            ]
          },
          "metadata": {},
          "execution_count": 7
        }
      ],
      "source": [
        "df.isnull().sum()"
      ]
    },
    {
      "cell_type": "markdown",
      "metadata": {
        "id": "U8UTjrbu1AVF"
      },
      "source": [
        "# 5) Decide on how to address the missing values and do it! (This requires your judgement, so explain your choice)."
      ]
    },
    {
      "cell_type": "code",
      "execution_count": 8,
      "metadata": {
        "colab": {
          "base_uri": "https://localhost:8080/"
        },
        "id": "CJBOY8PthK73",
        "outputId": "246e8c06-3242-4c1e-b15b-2d2a61846ab4"
      },
      "outputs": [
        {
          "output_type": "stream",
          "name": "stdout",
          "text": [
            "<class 'pandas.core.frame.DataFrame'>\n",
            "RangeIndex: 8523 entries, 0 to 8522\n",
            "Data columns (total 12 columns):\n",
            " #   Column                     Non-Null Count  Dtype  \n",
            "---  ------                     --------------  -----  \n",
            " 0   Item_Identifier            8523 non-null   object \n",
            " 1   Item_Weight                7060 non-null   float64\n",
            " 2   Item_Fat_Content           8523 non-null   object \n",
            " 3   Item_Visibility            8523 non-null   float64\n",
            " 4   Item_Type                  8523 non-null   object \n",
            " 5   Item_MRP                   8523 non-null   float64\n",
            " 6   Outlet_Identifier          8523 non-null   object \n",
            " 7   Outlet_Establishment_Year  8523 non-null   int64  \n",
            " 8   Outlet_Size                6113 non-null   object \n",
            " 9   Outlet_Location_Type       8523 non-null   object \n",
            " 10  Outlet_Type                8523 non-null   object \n",
            " 11  Item_Outlet_Sales          8523 non-null   float64\n",
            "dtypes: float64(4), int64(1), object(7)\n",
            "memory usage: 799.2+ KB\n"
          ]
        },
        {
          "output_type": "execute_result",
          "data": {
            "text/plain": [
              "(8523, 12)"
            ]
          },
          "metadata": {},
          "execution_count": 8
        }
      ],
      "source": [
        "df.info()\n",
        "df.shape"
      ]
    },
    {
      "cell_type": "markdown",
      "metadata": {
        "id": "N4bqQ-RAj04H"
      },
      "source": [
        "## Addressing Null Values on column 'Item_Weight'"
      ]
    },
    {
      "cell_type": "code",
      "execution_count": 9,
      "metadata": {
        "colab": {
          "base_uri": "https://localhost:8080/",
          "height": 0
        },
        "id": "ozPb8d1UiVZO",
        "outputId": "f062f63e-0a9f-4d8c-922a-11b4e5e22294"
      },
      "outputs": [
        {
          "output_type": "execute_result",
          "data": {
            "text/plain": [
              "     Item_Identifier  Item_Weight Item_Fat_Content  Item_Visibility  \\\n",
              "7              FDP10          NaN          Low Fat         0.127470   \n",
              "18             DRI11          NaN          Low Fat         0.034238   \n",
              "21             FDW12          NaN          Regular         0.035400   \n",
              "23             FDC37          NaN          Low Fat         0.057557   \n",
              "29             FDC14          NaN          Regular         0.072222   \n",
              "...              ...          ...              ...              ...   \n",
              "8485           DRK37          NaN          Low Fat         0.043792   \n",
              "8487           DRG13          NaN          Low Fat         0.037006   \n",
              "8488           NCN14          NaN          Low Fat         0.091473   \n",
              "8490           FDU44          NaN          Regular         0.102296   \n",
              "8504           NCN18          NaN          Low Fat         0.124111   \n",
              "\n",
              "                  Item_Type  Item_MRP Outlet_Identifier  \\\n",
              "7               Snack Foods  107.7622            OUT027   \n",
              "18              Hard Drinks  113.2834            OUT027   \n",
              "21             Baking Goods  144.5444            OUT027   \n",
              "23             Baking Goods  107.6938            OUT019   \n",
              "29                   Canned   43.6454            OUT019   \n",
              "...                     ...       ...               ...   \n",
              "8485            Soft Drinks  189.0530            OUT027   \n",
              "8487            Soft Drinks  164.7526            OUT027   \n",
              "8488                 Others  184.6608            OUT027   \n",
              "8490  Fruits and Vegetables  162.3552            OUT019   \n",
              "8504              Household  111.7544            OUT027   \n",
              "\n",
              "      Outlet_Establishment_Year Outlet_Size Outlet_Location_Type  \\\n",
              "7                          1985      Medium               Tier 3   \n",
              "18                         1985      Medium               Tier 3   \n",
              "21                         1985      Medium               Tier 3   \n",
              "23                         1985       Small               Tier 1   \n",
              "29                         1985       Small               Tier 1   \n",
              "...                         ...         ...                  ...   \n",
              "8485                       1985      Medium               Tier 3   \n",
              "8487                       1985      Medium               Tier 3   \n",
              "8488                       1985      Medium               Tier 3   \n",
              "8490                       1985       Small               Tier 1   \n",
              "8504                       1985      Medium               Tier 3   \n",
              "\n",
              "            Outlet_Type  Item_Outlet_Sales  \n",
              "7     Supermarket Type3          4022.7636  \n",
              "18    Supermarket Type3          2303.6680  \n",
              "21    Supermarket Type3          4064.0432  \n",
              "23        Grocery Store           214.3876  \n",
              "29        Grocery Store           125.8362  \n",
              "...                 ...                ...  \n",
              "8485  Supermarket Type3          6261.8490  \n",
              "8487  Supermarket Type3          4111.3150  \n",
              "8488  Supermarket Type3          2756.4120  \n",
              "8490      Grocery Store           487.3656  \n",
              "8504  Supermarket Type3          4138.6128  \n",
              "\n",
              "[1463 rows x 12 columns]"
            ],
            "text/html": [
              "\n",
              "  <div id=\"df-d7a8cd3e-db0e-478e-8f92-a080c81a1f65\">\n",
              "    <div class=\"colab-df-container\">\n",
              "      <div>\n",
              "<style scoped>\n",
              "    .dataframe tbody tr th:only-of-type {\n",
              "        vertical-align: middle;\n",
              "    }\n",
              "\n",
              "    .dataframe tbody tr th {\n",
              "        vertical-align: top;\n",
              "    }\n",
              "\n",
              "    .dataframe thead th {\n",
              "        text-align: right;\n",
              "    }\n",
              "</style>\n",
              "<table border=\"1\" class=\"dataframe\">\n",
              "  <thead>\n",
              "    <tr style=\"text-align: right;\">\n",
              "      <th></th>\n",
              "      <th>Item_Identifier</th>\n",
              "      <th>Item_Weight</th>\n",
              "      <th>Item_Fat_Content</th>\n",
              "      <th>Item_Visibility</th>\n",
              "      <th>Item_Type</th>\n",
              "      <th>Item_MRP</th>\n",
              "      <th>Outlet_Identifier</th>\n",
              "      <th>Outlet_Establishment_Year</th>\n",
              "      <th>Outlet_Size</th>\n",
              "      <th>Outlet_Location_Type</th>\n",
              "      <th>Outlet_Type</th>\n",
              "      <th>Item_Outlet_Sales</th>\n",
              "    </tr>\n",
              "  </thead>\n",
              "  <tbody>\n",
              "    <tr>\n",
              "      <th>7</th>\n",
              "      <td>FDP10</td>\n",
              "      <td>NaN</td>\n",
              "      <td>Low Fat</td>\n",
              "      <td>0.127470</td>\n",
              "      <td>Snack Foods</td>\n",
              "      <td>107.7622</td>\n",
              "      <td>OUT027</td>\n",
              "      <td>1985</td>\n",
              "      <td>Medium</td>\n",
              "      <td>Tier 3</td>\n",
              "      <td>Supermarket Type3</td>\n",
              "      <td>4022.7636</td>\n",
              "    </tr>\n",
              "    <tr>\n",
              "      <th>18</th>\n",
              "      <td>DRI11</td>\n",
              "      <td>NaN</td>\n",
              "      <td>Low Fat</td>\n",
              "      <td>0.034238</td>\n",
              "      <td>Hard Drinks</td>\n",
              "      <td>113.2834</td>\n",
              "      <td>OUT027</td>\n",
              "      <td>1985</td>\n",
              "      <td>Medium</td>\n",
              "      <td>Tier 3</td>\n",
              "      <td>Supermarket Type3</td>\n",
              "      <td>2303.6680</td>\n",
              "    </tr>\n",
              "    <tr>\n",
              "      <th>21</th>\n",
              "      <td>FDW12</td>\n",
              "      <td>NaN</td>\n",
              "      <td>Regular</td>\n",
              "      <td>0.035400</td>\n",
              "      <td>Baking Goods</td>\n",
              "      <td>144.5444</td>\n",
              "      <td>OUT027</td>\n",
              "      <td>1985</td>\n",
              "      <td>Medium</td>\n",
              "      <td>Tier 3</td>\n",
              "      <td>Supermarket Type3</td>\n",
              "      <td>4064.0432</td>\n",
              "    </tr>\n",
              "    <tr>\n",
              "      <th>23</th>\n",
              "      <td>FDC37</td>\n",
              "      <td>NaN</td>\n",
              "      <td>Low Fat</td>\n",
              "      <td>0.057557</td>\n",
              "      <td>Baking Goods</td>\n",
              "      <td>107.6938</td>\n",
              "      <td>OUT019</td>\n",
              "      <td>1985</td>\n",
              "      <td>Small</td>\n",
              "      <td>Tier 1</td>\n",
              "      <td>Grocery Store</td>\n",
              "      <td>214.3876</td>\n",
              "    </tr>\n",
              "    <tr>\n",
              "      <th>29</th>\n",
              "      <td>FDC14</td>\n",
              "      <td>NaN</td>\n",
              "      <td>Regular</td>\n",
              "      <td>0.072222</td>\n",
              "      <td>Canned</td>\n",
              "      <td>43.6454</td>\n",
              "      <td>OUT019</td>\n",
              "      <td>1985</td>\n",
              "      <td>Small</td>\n",
              "      <td>Tier 1</td>\n",
              "      <td>Grocery Store</td>\n",
              "      <td>125.8362</td>\n",
              "    </tr>\n",
              "    <tr>\n",
              "      <th>...</th>\n",
              "      <td>...</td>\n",
              "      <td>...</td>\n",
              "      <td>...</td>\n",
              "      <td>...</td>\n",
              "      <td>...</td>\n",
              "      <td>...</td>\n",
              "      <td>...</td>\n",
              "      <td>...</td>\n",
              "      <td>...</td>\n",
              "      <td>...</td>\n",
              "      <td>...</td>\n",
              "      <td>...</td>\n",
              "    </tr>\n",
              "    <tr>\n",
              "      <th>8485</th>\n",
              "      <td>DRK37</td>\n",
              "      <td>NaN</td>\n",
              "      <td>Low Fat</td>\n",
              "      <td>0.043792</td>\n",
              "      <td>Soft Drinks</td>\n",
              "      <td>189.0530</td>\n",
              "      <td>OUT027</td>\n",
              "      <td>1985</td>\n",
              "      <td>Medium</td>\n",
              "      <td>Tier 3</td>\n",
              "      <td>Supermarket Type3</td>\n",
              "      <td>6261.8490</td>\n",
              "    </tr>\n",
              "    <tr>\n",
              "      <th>8487</th>\n",
              "      <td>DRG13</td>\n",
              "      <td>NaN</td>\n",
              "      <td>Low Fat</td>\n",
              "      <td>0.037006</td>\n",
              "      <td>Soft Drinks</td>\n",
              "      <td>164.7526</td>\n",
              "      <td>OUT027</td>\n",
              "      <td>1985</td>\n",
              "      <td>Medium</td>\n",
              "      <td>Tier 3</td>\n",
              "      <td>Supermarket Type3</td>\n",
              "      <td>4111.3150</td>\n",
              "    </tr>\n",
              "    <tr>\n",
              "      <th>8488</th>\n",
              "      <td>NCN14</td>\n",
              "      <td>NaN</td>\n",
              "      <td>Low Fat</td>\n",
              "      <td>0.091473</td>\n",
              "      <td>Others</td>\n",
              "      <td>184.6608</td>\n",
              "      <td>OUT027</td>\n",
              "      <td>1985</td>\n",
              "      <td>Medium</td>\n",
              "      <td>Tier 3</td>\n",
              "      <td>Supermarket Type3</td>\n",
              "      <td>2756.4120</td>\n",
              "    </tr>\n",
              "    <tr>\n",
              "      <th>8490</th>\n",
              "      <td>FDU44</td>\n",
              "      <td>NaN</td>\n",
              "      <td>Regular</td>\n",
              "      <td>0.102296</td>\n",
              "      <td>Fruits and Vegetables</td>\n",
              "      <td>162.3552</td>\n",
              "      <td>OUT019</td>\n",
              "      <td>1985</td>\n",
              "      <td>Small</td>\n",
              "      <td>Tier 1</td>\n",
              "      <td>Grocery Store</td>\n",
              "      <td>487.3656</td>\n",
              "    </tr>\n",
              "    <tr>\n",
              "      <th>8504</th>\n",
              "      <td>NCN18</td>\n",
              "      <td>NaN</td>\n",
              "      <td>Low Fat</td>\n",
              "      <td>0.124111</td>\n",
              "      <td>Household</td>\n",
              "      <td>111.7544</td>\n",
              "      <td>OUT027</td>\n",
              "      <td>1985</td>\n",
              "      <td>Medium</td>\n",
              "      <td>Tier 3</td>\n",
              "      <td>Supermarket Type3</td>\n",
              "      <td>4138.6128</td>\n",
              "    </tr>\n",
              "  </tbody>\n",
              "</table>\n",
              "<p>1463 rows × 12 columns</p>\n",
              "</div>\n",
              "      <button class=\"colab-df-convert\" onclick=\"convertToInteractive('df-d7a8cd3e-db0e-478e-8f92-a080c81a1f65')\"\n",
              "              title=\"Convert this dataframe to an interactive table.\"\n",
              "              style=\"display:none;\">\n",
              "        \n",
              "  <svg xmlns=\"http://www.w3.org/2000/svg\" height=\"24px\"viewBox=\"0 0 24 24\"\n",
              "       width=\"24px\">\n",
              "    <path d=\"M0 0h24v24H0V0z\" fill=\"none\"/>\n",
              "    <path d=\"M18.56 5.44l.94 2.06.94-2.06 2.06-.94-2.06-.94-.94-2.06-.94 2.06-2.06.94zm-11 1L8.5 8.5l.94-2.06 2.06-.94-2.06-.94L8.5 2.5l-.94 2.06-2.06.94zm10 10l.94 2.06.94-2.06 2.06-.94-2.06-.94-.94-2.06-.94 2.06-2.06.94z\"/><path d=\"M17.41 7.96l-1.37-1.37c-.4-.4-.92-.59-1.43-.59-.52 0-1.04.2-1.43.59L10.3 9.45l-7.72 7.72c-.78.78-.78 2.05 0 2.83L4 21.41c.39.39.9.59 1.41.59.51 0 1.02-.2 1.41-.59l7.78-7.78 2.81-2.81c.8-.78.8-2.07 0-2.86zM5.41 20L4 18.59l7.72-7.72 1.47 1.35L5.41 20z\"/>\n",
              "  </svg>\n",
              "      </button>\n",
              "      \n",
              "  <style>\n",
              "    .colab-df-container {\n",
              "      display:flex;\n",
              "      flex-wrap:wrap;\n",
              "      gap: 12px;\n",
              "    }\n",
              "\n",
              "    .colab-df-convert {\n",
              "      background-color: #E8F0FE;\n",
              "      border: none;\n",
              "      border-radius: 50%;\n",
              "      cursor: pointer;\n",
              "      display: none;\n",
              "      fill: #1967D2;\n",
              "      height: 32px;\n",
              "      padding: 0 0 0 0;\n",
              "      width: 32px;\n",
              "    }\n",
              "\n",
              "    .colab-df-convert:hover {\n",
              "      background-color: #E2EBFA;\n",
              "      box-shadow: 0px 1px 2px rgba(60, 64, 67, 0.3), 0px 1px 3px 1px rgba(60, 64, 67, 0.15);\n",
              "      fill: #174EA6;\n",
              "    }\n",
              "\n",
              "    [theme=dark] .colab-df-convert {\n",
              "      background-color: #3B4455;\n",
              "      fill: #D2E3FC;\n",
              "    }\n",
              "\n",
              "    [theme=dark] .colab-df-convert:hover {\n",
              "      background-color: #434B5C;\n",
              "      box-shadow: 0px 1px 3px 1px rgba(0, 0, 0, 0.15);\n",
              "      filter: drop-shadow(0px 1px 2px rgba(0, 0, 0, 0.3));\n",
              "      fill: #FFFFFF;\n",
              "    }\n",
              "  </style>\n",
              "\n",
              "      <script>\n",
              "        const buttonEl =\n",
              "          document.querySelector('#df-d7a8cd3e-db0e-478e-8f92-a080c81a1f65 button.colab-df-convert');\n",
              "        buttonEl.style.display =\n",
              "          google.colab.kernel.accessAllowed ? 'block' : 'none';\n",
              "\n",
              "        async function convertToInteractive(key) {\n",
              "          const element = document.querySelector('#df-d7a8cd3e-db0e-478e-8f92-a080c81a1f65');\n",
              "          const dataTable =\n",
              "            await google.colab.kernel.invokeFunction('convertToInteractive',\n",
              "                                                     [key], {});\n",
              "          if (!dataTable) return;\n",
              "\n",
              "          const docLinkHtml = 'Like what you see? Visit the ' +\n",
              "            '<a target=\"_blank\" href=https://colab.research.google.com/notebooks/data_table.ipynb>data table notebook</a>'\n",
              "            + ' to learn more about interactive tables.';\n",
              "          element.innerHTML = '';\n",
              "          dataTable['output_type'] = 'display_data';\n",
              "          await google.colab.output.renderOutput(dataTable, element);\n",
              "          const docLink = document.createElement('div');\n",
              "          docLink.innerHTML = docLinkHtml;\n",
              "          element.appendChild(docLink);\n",
              "        }\n",
              "      </script>\n",
              "    </div>\n",
              "  </div>\n",
              "  "
            ]
          },
          "metadata": {},
          "execution_count": 9
        }
      ],
      "source": [
        "df[df['Item_Weight'].isnull()]"
      ]
    },
    {
      "cell_type": "code",
      "execution_count": 10,
      "metadata": {
        "colab": {
          "base_uri": "https://localhost:8080/",
          "height": 0
        },
        "id": "OCNNG7FaieZH",
        "outputId": "3fc17e34-22a9-4a8d-9a29-6bf88090502b"
      },
      "outputs": [
        {
          "output_type": "execute_result",
          "data": {
            "text/plain": [
              "     Item_Identifier  Item_Weight Item_Fat_Content  Item_Visibility  \\\n",
              "7              FDP10          NaN          Low Fat         0.127470   \n",
              "585            FDP10         19.0          Low Fat         0.128066   \n",
              "2623           FDP10         19.0          Low Fat         0.128815   \n",
              "3382           FDP10         19.0          Low Fat         0.128289   \n",
              "4585           FDP10         19.0          Low Fat         0.128090   \n",
              "6087           FDP10         19.0          Low Fat         0.128350   \n",
              "7883           FDP10         19.0          Low Fat         0.127984   \n",
              "\n",
              "        Item_Type  Item_MRP Outlet_Identifier  Outlet_Establishment_Year  \\\n",
              "7     Snack Foods  107.7622            OUT027                       1985   \n",
              "585   Snack Foods  104.3622            OUT035                       2004   \n",
              "2623  Snack Foods  107.6622            OUT017                       2007   \n",
              "3382  Snack Foods  104.9622            OUT049                       1999   \n",
              "4585  Snack Foods  107.0622            OUT046                       1997   \n",
              "6087  Snack Foods  106.5622            OUT045                       2002   \n",
              "7883  Snack Foods  107.6622            OUT013                       1987   \n",
              "\n",
              "     Outlet_Size Outlet_Location_Type        Outlet_Type  Item_Outlet_Sales  \n",
              "7         Medium               Tier 3  Supermarket Type3          4022.7636  \n",
              "585        Small               Tier 2  Supermarket Type1          1905.5196  \n",
              "2623         NaN               Tier 2  Supermarket Type1          1164.4842  \n",
              "3382      Medium               Tier 1  Supermarket Type1          1164.4842  \n",
              "4585       Small               Tier 1  Supermarket Type1          1376.2086  \n",
              "6087         NaN               Tier 2  Supermarket Type1          1482.0708  \n",
              "7883        High               Tier 3  Supermarket Type1          1270.3464  "
            ],
            "text/html": [
              "\n",
              "  <div id=\"df-8463990d-b7f6-47cc-9845-818eead2c181\">\n",
              "    <div class=\"colab-df-container\">\n",
              "      <div>\n",
              "<style scoped>\n",
              "    .dataframe tbody tr th:only-of-type {\n",
              "        vertical-align: middle;\n",
              "    }\n",
              "\n",
              "    .dataframe tbody tr th {\n",
              "        vertical-align: top;\n",
              "    }\n",
              "\n",
              "    .dataframe thead th {\n",
              "        text-align: right;\n",
              "    }\n",
              "</style>\n",
              "<table border=\"1\" class=\"dataframe\">\n",
              "  <thead>\n",
              "    <tr style=\"text-align: right;\">\n",
              "      <th></th>\n",
              "      <th>Item_Identifier</th>\n",
              "      <th>Item_Weight</th>\n",
              "      <th>Item_Fat_Content</th>\n",
              "      <th>Item_Visibility</th>\n",
              "      <th>Item_Type</th>\n",
              "      <th>Item_MRP</th>\n",
              "      <th>Outlet_Identifier</th>\n",
              "      <th>Outlet_Establishment_Year</th>\n",
              "      <th>Outlet_Size</th>\n",
              "      <th>Outlet_Location_Type</th>\n",
              "      <th>Outlet_Type</th>\n",
              "      <th>Item_Outlet_Sales</th>\n",
              "    </tr>\n",
              "  </thead>\n",
              "  <tbody>\n",
              "    <tr>\n",
              "      <th>7</th>\n",
              "      <td>FDP10</td>\n",
              "      <td>NaN</td>\n",
              "      <td>Low Fat</td>\n",
              "      <td>0.127470</td>\n",
              "      <td>Snack Foods</td>\n",
              "      <td>107.7622</td>\n",
              "      <td>OUT027</td>\n",
              "      <td>1985</td>\n",
              "      <td>Medium</td>\n",
              "      <td>Tier 3</td>\n",
              "      <td>Supermarket Type3</td>\n",
              "      <td>4022.7636</td>\n",
              "    </tr>\n",
              "    <tr>\n",
              "      <th>585</th>\n",
              "      <td>FDP10</td>\n",
              "      <td>19.0</td>\n",
              "      <td>Low Fat</td>\n",
              "      <td>0.128066</td>\n",
              "      <td>Snack Foods</td>\n",
              "      <td>104.3622</td>\n",
              "      <td>OUT035</td>\n",
              "      <td>2004</td>\n",
              "      <td>Small</td>\n",
              "      <td>Tier 2</td>\n",
              "      <td>Supermarket Type1</td>\n",
              "      <td>1905.5196</td>\n",
              "    </tr>\n",
              "    <tr>\n",
              "      <th>2623</th>\n",
              "      <td>FDP10</td>\n",
              "      <td>19.0</td>\n",
              "      <td>Low Fat</td>\n",
              "      <td>0.128815</td>\n",
              "      <td>Snack Foods</td>\n",
              "      <td>107.6622</td>\n",
              "      <td>OUT017</td>\n",
              "      <td>2007</td>\n",
              "      <td>NaN</td>\n",
              "      <td>Tier 2</td>\n",
              "      <td>Supermarket Type1</td>\n",
              "      <td>1164.4842</td>\n",
              "    </tr>\n",
              "    <tr>\n",
              "      <th>3382</th>\n",
              "      <td>FDP10</td>\n",
              "      <td>19.0</td>\n",
              "      <td>Low Fat</td>\n",
              "      <td>0.128289</td>\n",
              "      <td>Snack Foods</td>\n",
              "      <td>104.9622</td>\n",
              "      <td>OUT049</td>\n",
              "      <td>1999</td>\n",
              "      <td>Medium</td>\n",
              "      <td>Tier 1</td>\n",
              "      <td>Supermarket Type1</td>\n",
              "      <td>1164.4842</td>\n",
              "    </tr>\n",
              "    <tr>\n",
              "      <th>4585</th>\n",
              "      <td>FDP10</td>\n",
              "      <td>19.0</td>\n",
              "      <td>Low Fat</td>\n",
              "      <td>0.128090</td>\n",
              "      <td>Snack Foods</td>\n",
              "      <td>107.0622</td>\n",
              "      <td>OUT046</td>\n",
              "      <td>1997</td>\n",
              "      <td>Small</td>\n",
              "      <td>Tier 1</td>\n",
              "      <td>Supermarket Type1</td>\n",
              "      <td>1376.2086</td>\n",
              "    </tr>\n",
              "    <tr>\n",
              "      <th>6087</th>\n",
              "      <td>FDP10</td>\n",
              "      <td>19.0</td>\n",
              "      <td>Low Fat</td>\n",
              "      <td>0.128350</td>\n",
              "      <td>Snack Foods</td>\n",
              "      <td>106.5622</td>\n",
              "      <td>OUT045</td>\n",
              "      <td>2002</td>\n",
              "      <td>NaN</td>\n",
              "      <td>Tier 2</td>\n",
              "      <td>Supermarket Type1</td>\n",
              "      <td>1482.0708</td>\n",
              "    </tr>\n",
              "    <tr>\n",
              "      <th>7883</th>\n",
              "      <td>FDP10</td>\n",
              "      <td>19.0</td>\n",
              "      <td>Low Fat</td>\n",
              "      <td>0.127984</td>\n",
              "      <td>Snack Foods</td>\n",
              "      <td>107.6622</td>\n",
              "      <td>OUT013</td>\n",
              "      <td>1987</td>\n",
              "      <td>High</td>\n",
              "      <td>Tier 3</td>\n",
              "      <td>Supermarket Type1</td>\n",
              "      <td>1270.3464</td>\n",
              "    </tr>\n",
              "  </tbody>\n",
              "</table>\n",
              "</div>\n",
              "      <button class=\"colab-df-convert\" onclick=\"convertToInteractive('df-8463990d-b7f6-47cc-9845-818eead2c181')\"\n",
              "              title=\"Convert this dataframe to an interactive table.\"\n",
              "              style=\"display:none;\">\n",
              "        \n",
              "  <svg xmlns=\"http://www.w3.org/2000/svg\" height=\"24px\"viewBox=\"0 0 24 24\"\n",
              "       width=\"24px\">\n",
              "    <path d=\"M0 0h24v24H0V0z\" fill=\"none\"/>\n",
              "    <path d=\"M18.56 5.44l.94 2.06.94-2.06 2.06-.94-2.06-.94-.94-2.06-.94 2.06-2.06.94zm-11 1L8.5 8.5l.94-2.06 2.06-.94-2.06-.94L8.5 2.5l-.94 2.06-2.06.94zm10 10l.94 2.06.94-2.06 2.06-.94-2.06-.94-.94-2.06-.94 2.06-2.06.94z\"/><path d=\"M17.41 7.96l-1.37-1.37c-.4-.4-.92-.59-1.43-.59-.52 0-1.04.2-1.43.59L10.3 9.45l-7.72 7.72c-.78.78-.78 2.05 0 2.83L4 21.41c.39.39.9.59 1.41.59.51 0 1.02-.2 1.41-.59l7.78-7.78 2.81-2.81c.8-.78.8-2.07 0-2.86zM5.41 20L4 18.59l7.72-7.72 1.47 1.35L5.41 20z\"/>\n",
              "  </svg>\n",
              "      </button>\n",
              "      \n",
              "  <style>\n",
              "    .colab-df-container {\n",
              "      display:flex;\n",
              "      flex-wrap:wrap;\n",
              "      gap: 12px;\n",
              "    }\n",
              "\n",
              "    .colab-df-convert {\n",
              "      background-color: #E8F0FE;\n",
              "      border: none;\n",
              "      border-radius: 50%;\n",
              "      cursor: pointer;\n",
              "      display: none;\n",
              "      fill: #1967D2;\n",
              "      height: 32px;\n",
              "      padding: 0 0 0 0;\n",
              "      width: 32px;\n",
              "    }\n",
              "\n",
              "    .colab-df-convert:hover {\n",
              "      background-color: #E2EBFA;\n",
              "      box-shadow: 0px 1px 2px rgba(60, 64, 67, 0.3), 0px 1px 3px 1px rgba(60, 64, 67, 0.15);\n",
              "      fill: #174EA6;\n",
              "    }\n",
              "\n",
              "    [theme=dark] .colab-df-convert {\n",
              "      background-color: #3B4455;\n",
              "      fill: #D2E3FC;\n",
              "    }\n",
              "\n",
              "    [theme=dark] .colab-df-convert:hover {\n",
              "      background-color: #434B5C;\n",
              "      box-shadow: 0px 1px 3px 1px rgba(0, 0, 0, 0.15);\n",
              "      filter: drop-shadow(0px 1px 2px rgba(0, 0, 0, 0.3));\n",
              "      fill: #FFFFFF;\n",
              "    }\n",
              "  </style>\n",
              "\n",
              "      <script>\n",
              "        const buttonEl =\n",
              "          document.querySelector('#df-8463990d-b7f6-47cc-9845-818eead2c181 button.colab-df-convert');\n",
              "        buttonEl.style.display =\n",
              "          google.colab.kernel.accessAllowed ? 'block' : 'none';\n",
              "\n",
              "        async function convertToInteractive(key) {\n",
              "          const element = document.querySelector('#df-8463990d-b7f6-47cc-9845-818eead2c181');\n",
              "          const dataTable =\n",
              "            await google.colab.kernel.invokeFunction('convertToInteractive',\n",
              "                                                     [key], {});\n",
              "          if (!dataTable) return;\n",
              "\n",
              "          const docLinkHtml = 'Like what you see? Visit the ' +\n",
              "            '<a target=\"_blank\" href=https://colab.research.google.com/notebooks/data_table.ipynb>data table notebook</a>'\n",
              "            + ' to learn more about interactive tables.';\n",
              "          element.innerHTML = '';\n",
              "          dataTable['output_type'] = 'display_data';\n",
              "          await google.colab.output.renderOutput(dataTable, element);\n",
              "          const docLink = document.createElement('div');\n",
              "          docLink.innerHTML = docLinkHtml;\n",
              "          element.appendChild(docLink);\n",
              "        }\n",
              "      </script>\n",
              "    </div>\n",
              "  </div>\n",
              "  "
            ]
          },
          "metadata": {},
          "execution_count": 10
        }
      ],
      "source": [
        "df[df['Item_Identifier'] == 'FDP10'] "
      ]
    },
    {
      "cell_type": "code",
      "execution_count": 11,
      "metadata": {
        "colab": {
          "base_uri": "https://localhost:8080/"
        },
        "id": "o0b5kBStsey1",
        "outputId": "6f57ff4a-8fec-4cbd-84fd-c66298f77db6"
      },
      "outputs": [
        {
          "output_type": "stream",
          "name": "stdout",
          "text": [
            "<class 'pandas.core.frame.DataFrame'>\n",
            "Int64Index: 7060 entries, 0 to 8522\n",
            "Data columns (total 12 columns):\n",
            " #   Column                     Non-Null Count  Dtype  \n",
            "---  ------                     --------------  -----  \n",
            " 0   Item_Identifier            7060 non-null   object \n",
            " 1   Item_Weight                7060 non-null   float64\n",
            " 2   Item_Fat_Content           7060 non-null   object \n",
            " 3   Item_Visibility            7060 non-null   float64\n",
            " 4   Item_Type                  7060 non-null   object \n",
            " 5   Item_MRP                   7060 non-null   float64\n",
            " 6   Outlet_Identifier          7060 non-null   object \n",
            " 7   Outlet_Establishment_Year  7060 non-null   int64  \n",
            " 8   Outlet_Size                4650 non-null   object \n",
            " 9   Outlet_Location_Type       7060 non-null   object \n",
            " 10  Outlet_Type                7060 non-null   object \n",
            " 11  Item_Outlet_Sales          7060 non-null   float64\n",
            "dtypes: float64(4), int64(1), object(7)\n",
            "memory usage: 717.0+ KB\n"
          ]
        },
        {
          "output_type": "execute_result",
          "data": {
            "text/plain": [
              "(7060, 12)"
            ]
          },
          "metadata": {},
          "execution_count": 11
        }
      ],
      "source": [
        "filtered_df = df[df['Item_Weight'].notnull()] # filter all non-Null values at column 'Item_Weight'\n",
        "filtered_df.info()\n",
        "filtered_df.shape"
      ]
    },
    {
      "cell_type": "code",
      "execution_count": 12,
      "metadata": {
        "colab": {
          "base_uri": "https://localhost:8080/"
        },
        "id": "Hh2BHAOcvkWC",
        "outputId": "d9dc6e7e-6882-462c-9fc8-cff16aa60628"
      },
      "outputs": [
        {
          "output_type": "execute_result",
          "data": {
            "text/plain": [
              "5505"
            ]
          },
          "metadata": {},
          "execution_count": 12
        }
      ],
      "source": [
        "selected = filtered_df[['Item_Identifier','Item_Weight']] # Create a New DataFrame containing the 2 columns only.\n",
        "selected.duplicated().sum()"
      ]
    },
    {
      "cell_type": "code",
      "execution_count": 13,
      "metadata": {
        "colab": {
          "base_uri": "https://localhost:8080/"
        },
        "id": "SNlxZuTK3Owh",
        "outputId": "df219ff5-e650-4b61-e771-5c84a020278e"
      },
      "outputs": [
        {
          "output_type": "stream",
          "name": "stdout",
          "text": [
            "<class 'pandas.core.frame.DataFrame'>\n",
            "Int64Index: 1555 entries, 0 to 8471\n",
            "Data columns (total 2 columns):\n",
            " #   Column           Non-Null Count  Dtype  \n",
            "---  ------           --------------  -----  \n",
            " 0   Item_Identifier  1555 non-null   object \n",
            " 1   Item_Weight      1555 non-null   float64\n",
            "dtypes: float64(1), object(1)\n",
            "memory usage: 36.4+ KB\n"
          ]
        },
        {
          "output_type": "execute_result",
          "data": {
            "text/plain": [
              "(1555, 2)"
            ]
          },
          "metadata": {},
          "execution_count": 13
        }
      ],
      "source": [
        "unique = selected.drop_duplicates(subset=['Item_Identifier', 'Item_Weight']) # delete duplicate values\n",
        "unique.info()\n",
        "unique.shape"
      ]
    },
    {
      "cell_type": "code",
      "execution_count": 14,
      "metadata": {
        "colab": {
          "base_uri": "https://localhost:8080/",
          "height": 0
        },
        "id": "RzHKHp5i_TqT",
        "outputId": "be8b528d-b1f0-4939-ff0a-9e4a60b2c14c"
      },
      "outputs": [
        {
          "output_type": "execute_result",
          "data": {
            "text/plain": [
              "     Item_Identifier  Item_Weight Item_Fat_Content  Item_Visibility  \\\n",
              "0              FDA15        9.300          Low Fat         0.016047   \n",
              "1              DRC01        5.920          Regular         0.019278   \n",
              "2              FDN15       17.500          Low Fat         0.016760   \n",
              "3              FDX07       19.200          Regular         0.000000   \n",
              "4              NCD19        8.930          Low Fat         0.000000   \n",
              "...              ...          ...              ...              ...   \n",
              "8518           FDF22        6.865          Low Fat         0.056783   \n",
              "8519           FDS36        8.380          Regular         0.046982   \n",
              "8520           NCJ29       10.600          Low Fat         0.035186   \n",
              "8521           FDN46        7.210          Regular         0.145221   \n",
              "8522           DRG01       14.800          Low Fat         0.044878   \n",
              "\n",
              "                  Item_Type  Item_MRP Outlet_Identifier  \\\n",
              "0                     Dairy  249.8092            OUT049   \n",
              "1               Soft Drinks   48.2692            OUT018   \n",
              "2                      Meat  141.6180            OUT049   \n",
              "3     Fruits and Vegetables  182.0950            OUT010   \n",
              "4                 Household   53.8614            OUT013   \n",
              "...                     ...       ...               ...   \n",
              "8518            Snack Foods  214.5218            OUT013   \n",
              "8519           Baking Goods  108.1570            OUT045   \n",
              "8520     Health and Hygiene   85.1224            OUT035   \n",
              "8521            Snack Foods  103.1332            OUT018   \n",
              "8522            Soft Drinks   75.4670            OUT046   \n",
              "\n",
              "      Outlet_Establishment_Year Outlet_Size Outlet_Location_Type  \\\n",
              "0                          1999      Medium               Tier 1   \n",
              "1                          2009      Medium               Tier 3   \n",
              "2                          1999      Medium               Tier 1   \n",
              "3                          1998         NaN               Tier 3   \n",
              "4                          1987        High               Tier 3   \n",
              "...                         ...         ...                  ...   \n",
              "8518                       1987        High               Tier 3   \n",
              "8519                       2002         NaN               Tier 2   \n",
              "8520                       2004       Small               Tier 2   \n",
              "8521                       2009      Medium               Tier 3   \n",
              "8522                       1997       Small               Tier 1   \n",
              "\n",
              "            Outlet_Type  Item_Outlet_Sales    Temp  \n",
              "0     Supermarket Type1          3735.1380   9.300  \n",
              "1     Supermarket Type2           443.4228   5.920  \n",
              "2     Supermarket Type1          2097.2700  17.500  \n",
              "3         Grocery Store           732.3800  19.200  \n",
              "4     Supermarket Type1           994.7052   8.930  \n",
              "...                 ...                ...     ...  \n",
              "8518  Supermarket Type1          2778.3834   6.865  \n",
              "8519  Supermarket Type1           549.2850   8.380  \n",
              "8520  Supermarket Type1          1193.1136  10.600  \n",
              "8521  Supermarket Type2          1845.5976   7.210  \n",
              "8522  Supermarket Type1           765.6700  14.800  \n",
              "\n",
              "[8523 rows x 13 columns]"
            ],
            "text/html": [
              "\n",
              "  <div id=\"df-a3e667b4-b6f2-4548-b05a-9cf0cb28f900\">\n",
              "    <div class=\"colab-df-container\">\n",
              "      <div>\n",
              "<style scoped>\n",
              "    .dataframe tbody tr th:only-of-type {\n",
              "        vertical-align: middle;\n",
              "    }\n",
              "\n",
              "    .dataframe tbody tr th {\n",
              "        vertical-align: top;\n",
              "    }\n",
              "\n",
              "    .dataframe thead th {\n",
              "        text-align: right;\n",
              "    }\n",
              "</style>\n",
              "<table border=\"1\" class=\"dataframe\">\n",
              "  <thead>\n",
              "    <tr style=\"text-align: right;\">\n",
              "      <th></th>\n",
              "      <th>Item_Identifier</th>\n",
              "      <th>Item_Weight</th>\n",
              "      <th>Item_Fat_Content</th>\n",
              "      <th>Item_Visibility</th>\n",
              "      <th>Item_Type</th>\n",
              "      <th>Item_MRP</th>\n",
              "      <th>Outlet_Identifier</th>\n",
              "      <th>Outlet_Establishment_Year</th>\n",
              "      <th>Outlet_Size</th>\n",
              "      <th>Outlet_Location_Type</th>\n",
              "      <th>Outlet_Type</th>\n",
              "      <th>Item_Outlet_Sales</th>\n",
              "      <th>Temp</th>\n",
              "    </tr>\n",
              "  </thead>\n",
              "  <tbody>\n",
              "    <tr>\n",
              "      <th>0</th>\n",
              "      <td>FDA15</td>\n",
              "      <td>9.300</td>\n",
              "      <td>Low Fat</td>\n",
              "      <td>0.016047</td>\n",
              "      <td>Dairy</td>\n",
              "      <td>249.8092</td>\n",
              "      <td>OUT049</td>\n",
              "      <td>1999</td>\n",
              "      <td>Medium</td>\n",
              "      <td>Tier 1</td>\n",
              "      <td>Supermarket Type1</td>\n",
              "      <td>3735.1380</td>\n",
              "      <td>9.300</td>\n",
              "    </tr>\n",
              "    <tr>\n",
              "      <th>1</th>\n",
              "      <td>DRC01</td>\n",
              "      <td>5.920</td>\n",
              "      <td>Regular</td>\n",
              "      <td>0.019278</td>\n",
              "      <td>Soft Drinks</td>\n",
              "      <td>48.2692</td>\n",
              "      <td>OUT018</td>\n",
              "      <td>2009</td>\n",
              "      <td>Medium</td>\n",
              "      <td>Tier 3</td>\n",
              "      <td>Supermarket Type2</td>\n",
              "      <td>443.4228</td>\n",
              "      <td>5.920</td>\n",
              "    </tr>\n",
              "    <tr>\n",
              "      <th>2</th>\n",
              "      <td>FDN15</td>\n",
              "      <td>17.500</td>\n",
              "      <td>Low Fat</td>\n",
              "      <td>0.016760</td>\n",
              "      <td>Meat</td>\n",
              "      <td>141.6180</td>\n",
              "      <td>OUT049</td>\n",
              "      <td>1999</td>\n",
              "      <td>Medium</td>\n",
              "      <td>Tier 1</td>\n",
              "      <td>Supermarket Type1</td>\n",
              "      <td>2097.2700</td>\n",
              "      <td>17.500</td>\n",
              "    </tr>\n",
              "    <tr>\n",
              "      <th>3</th>\n",
              "      <td>FDX07</td>\n",
              "      <td>19.200</td>\n",
              "      <td>Regular</td>\n",
              "      <td>0.000000</td>\n",
              "      <td>Fruits and Vegetables</td>\n",
              "      <td>182.0950</td>\n",
              "      <td>OUT010</td>\n",
              "      <td>1998</td>\n",
              "      <td>NaN</td>\n",
              "      <td>Tier 3</td>\n",
              "      <td>Grocery Store</td>\n",
              "      <td>732.3800</td>\n",
              "      <td>19.200</td>\n",
              "    </tr>\n",
              "    <tr>\n",
              "      <th>4</th>\n",
              "      <td>NCD19</td>\n",
              "      <td>8.930</td>\n",
              "      <td>Low Fat</td>\n",
              "      <td>0.000000</td>\n",
              "      <td>Household</td>\n",
              "      <td>53.8614</td>\n",
              "      <td>OUT013</td>\n",
              "      <td>1987</td>\n",
              "      <td>High</td>\n",
              "      <td>Tier 3</td>\n",
              "      <td>Supermarket Type1</td>\n",
              "      <td>994.7052</td>\n",
              "      <td>8.930</td>\n",
              "    </tr>\n",
              "    <tr>\n",
              "      <th>...</th>\n",
              "      <td>...</td>\n",
              "      <td>...</td>\n",
              "      <td>...</td>\n",
              "      <td>...</td>\n",
              "      <td>...</td>\n",
              "      <td>...</td>\n",
              "      <td>...</td>\n",
              "      <td>...</td>\n",
              "      <td>...</td>\n",
              "      <td>...</td>\n",
              "      <td>...</td>\n",
              "      <td>...</td>\n",
              "      <td>...</td>\n",
              "    </tr>\n",
              "    <tr>\n",
              "      <th>8518</th>\n",
              "      <td>FDF22</td>\n",
              "      <td>6.865</td>\n",
              "      <td>Low Fat</td>\n",
              "      <td>0.056783</td>\n",
              "      <td>Snack Foods</td>\n",
              "      <td>214.5218</td>\n",
              "      <td>OUT013</td>\n",
              "      <td>1987</td>\n",
              "      <td>High</td>\n",
              "      <td>Tier 3</td>\n",
              "      <td>Supermarket Type1</td>\n",
              "      <td>2778.3834</td>\n",
              "      <td>6.865</td>\n",
              "    </tr>\n",
              "    <tr>\n",
              "      <th>8519</th>\n",
              "      <td>FDS36</td>\n",
              "      <td>8.380</td>\n",
              "      <td>Regular</td>\n",
              "      <td>0.046982</td>\n",
              "      <td>Baking Goods</td>\n",
              "      <td>108.1570</td>\n",
              "      <td>OUT045</td>\n",
              "      <td>2002</td>\n",
              "      <td>NaN</td>\n",
              "      <td>Tier 2</td>\n",
              "      <td>Supermarket Type1</td>\n",
              "      <td>549.2850</td>\n",
              "      <td>8.380</td>\n",
              "    </tr>\n",
              "    <tr>\n",
              "      <th>8520</th>\n",
              "      <td>NCJ29</td>\n",
              "      <td>10.600</td>\n",
              "      <td>Low Fat</td>\n",
              "      <td>0.035186</td>\n",
              "      <td>Health and Hygiene</td>\n",
              "      <td>85.1224</td>\n",
              "      <td>OUT035</td>\n",
              "      <td>2004</td>\n",
              "      <td>Small</td>\n",
              "      <td>Tier 2</td>\n",
              "      <td>Supermarket Type1</td>\n",
              "      <td>1193.1136</td>\n",
              "      <td>10.600</td>\n",
              "    </tr>\n",
              "    <tr>\n",
              "      <th>8521</th>\n",
              "      <td>FDN46</td>\n",
              "      <td>7.210</td>\n",
              "      <td>Regular</td>\n",
              "      <td>0.145221</td>\n",
              "      <td>Snack Foods</td>\n",
              "      <td>103.1332</td>\n",
              "      <td>OUT018</td>\n",
              "      <td>2009</td>\n",
              "      <td>Medium</td>\n",
              "      <td>Tier 3</td>\n",
              "      <td>Supermarket Type2</td>\n",
              "      <td>1845.5976</td>\n",
              "      <td>7.210</td>\n",
              "    </tr>\n",
              "    <tr>\n",
              "      <th>8522</th>\n",
              "      <td>DRG01</td>\n",
              "      <td>14.800</td>\n",
              "      <td>Low Fat</td>\n",
              "      <td>0.044878</td>\n",
              "      <td>Soft Drinks</td>\n",
              "      <td>75.4670</td>\n",
              "      <td>OUT046</td>\n",
              "      <td>1997</td>\n",
              "      <td>Small</td>\n",
              "      <td>Tier 1</td>\n",
              "      <td>Supermarket Type1</td>\n",
              "      <td>765.6700</td>\n",
              "      <td>14.800</td>\n",
              "    </tr>\n",
              "  </tbody>\n",
              "</table>\n",
              "<p>8523 rows × 13 columns</p>\n",
              "</div>\n",
              "      <button class=\"colab-df-convert\" onclick=\"convertToInteractive('df-a3e667b4-b6f2-4548-b05a-9cf0cb28f900')\"\n",
              "              title=\"Convert this dataframe to an interactive table.\"\n",
              "              style=\"display:none;\">\n",
              "        \n",
              "  <svg xmlns=\"http://www.w3.org/2000/svg\" height=\"24px\"viewBox=\"0 0 24 24\"\n",
              "       width=\"24px\">\n",
              "    <path d=\"M0 0h24v24H0V0z\" fill=\"none\"/>\n",
              "    <path d=\"M18.56 5.44l.94 2.06.94-2.06 2.06-.94-2.06-.94-.94-2.06-.94 2.06-2.06.94zm-11 1L8.5 8.5l.94-2.06 2.06-.94-2.06-.94L8.5 2.5l-.94 2.06-2.06.94zm10 10l.94 2.06.94-2.06 2.06-.94-2.06-.94-.94-2.06-.94 2.06-2.06.94z\"/><path d=\"M17.41 7.96l-1.37-1.37c-.4-.4-.92-.59-1.43-.59-.52 0-1.04.2-1.43.59L10.3 9.45l-7.72 7.72c-.78.78-.78 2.05 0 2.83L4 21.41c.39.39.9.59 1.41.59.51 0 1.02-.2 1.41-.59l7.78-7.78 2.81-2.81c.8-.78.8-2.07 0-2.86zM5.41 20L4 18.59l7.72-7.72 1.47 1.35L5.41 20z\"/>\n",
              "  </svg>\n",
              "      </button>\n",
              "      \n",
              "  <style>\n",
              "    .colab-df-container {\n",
              "      display:flex;\n",
              "      flex-wrap:wrap;\n",
              "      gap: 12px;\n",
              "    }\n",
              "\n",
              "    .colab-df-convert {\n",
              "      background-color: #E8F0FE;\n",
              "      border: none;\n",
              "      border-radius: 50%;\n",
              "      cursor: pointer;\n",
              "      display: none;\n",
              "      fill: #1967D2;\n",
              "      height: 32px;\n",
              "      padding: 0 0 0 0;\n",
              "      width: 32px;\n",
              "    }\n",
              "\n",
              "    .colab-df-convert:hover {\n",
              "      background-color: #E2EBFA;\n",
              "      box-shadow: 0px 1px 2px rgba(60, 64, 67, 0.3), 0px 1px 3px 1px rgba(60, 64, 67, 0.15);\n",
              "      fill: #174EA6;\n",
              "    }\n",
              "\n",
              "    [theme=dark] .colab-df-convert {\n",
              "      background-color: #3B4455;\n",
              "      fill: #D2E3FC;\n",
              "    }\n",
              "\n",
              "    [theme=dark] .colab-df-convert:hover {\n",
              "      background-color: #434B5C;\n",
              "      box-shadow: 0px 1px 3px 1px rgba(0, 0, 0, 0.15);\n",
              "      filter: drop-shadow(0px 1px 2px rgba(0, 0, 0, 0.3));\n",
              "      fill: #FFFFFF;\n",
              "    }\n",
              "  </style>\n",
              "\n",
              "      <script>\n",
              "        const buttonEl =\n",
              "          document.querySelector('#df-a3e667b4-b6f2-4548-b05a-9cf0cb28f900 button.colab-df-convert');\n",
              "        buttonEl.style.display =\n",
              "          google.colab.kernel.accessAllowed ? 'block' : 'none';\n",
              "\n",
              "        async function convertToInteractive(key) {\n",
              "          const element = document.querySelector('#df-a3e667b4-b6f2-4548-b05a-9cf0cb28f900');\n",
              "          const dataTable =\n",
              "            await google.colab.kernel.invokeFunction('convertToInteractive',\n",
              "                                                     [key], {});\n",
              "          if (!dataTable) return;\n",
              "\n",
              "          const docLinkHtml = 'Like what you see? Visit the ' +\n",
              "            '<a target=\"_blank\" href=https://colab.research.google.com/notebooks/data_table.ipynb>data table notebook</a>'\n",
              "            + ' to learn more about interactive tables.';\n",
              "          element.innerHTML = '';\n",
              "          dataTable['output_type'] = 'display_data';\n",
              "          await google.colab.output.renderOutput(dataTable, element);\n",
              "          const docLink = document.createElement('div');\n",
              "          docLink.innerHTML = docLinkHtml;\n",
              "          element.appendChild(docLink);\n",
              "        }\n",
              "      </script>\n",
              "    </div>\n",
              "  </div>\n",
              "  "
            ]
          },
          "metadata": {},
          "execution_count": 14
        }
      ],
      "source": [
        "unique.set_index('Item_Identifier', inplace=True) # Assigning column 'Item_Identifier' as the Index\n",
        "df['Temp']=df.Item_Identifier.map(unique.Item_Weight) # code for vlookup from two DataFrames\n",
        "df"
      ]
    },
    {
      "cell_type": "markdown",
      "metadata": {
        "id": "Ktu7gv2cmPJO"
      },
      "source": [
        "Check Temp Value Column is Added with Values."
      ]
    },
    {
      "cell_type": "code",
      "execution_count": 15,
      "metadata": {
        "colab": {
          "base_uri": "https://localhost:8080/"
        },
        "id": "92kW-N30jZav",
        "outputId": "189169a2-1fe5-4637-e716-03d83c8d3ae4"
      },
      "outputs": [
        {
          "output_type": "stream",
          "name": "stdout",
          "text": [
            "<class 'pandas.core.frame.DataFrame'>\n",
            "RangeIndex: 8523 entries, 0 to 8522\n",
            "Data columns (total 13 columns):\n",
            " #   Column                     Non-Null Count  Dtype  \n",
            "---  ------                     --------------  -----  \n",
            " 0   Item_Identifier            8523 non-null   object \n",
            " 1   Item_Weight                7060 non-null   float64\n",
            " 2   Item_Fat_Content           8523 non-null   object \n",
            " 3   Item_Visibility            8523 non-null   float64\n",
            " 4   Item_Type                  8523 non-null   object \n",
            " 5   Item_MRP                   8523 non-null   float64\n",
            " 6   Outlet_Identifier          8523 non-null   object \n",
            " 7   Outlet_Establishment_Year  8523 non-null   int64  \n",
            " 8   Outlet_Size                6113 non-null   object \n",
            " 9   Outlet_Location_Type       8523 non-null   object \n",
            " 10  Outlet_Type                8523 non-null   object \n",
            " 11  Item_Outlet_Sales          8523 non-null   float64\n",
            " 12  Temp                       8519 non-null   float64\n",
            "dtypes: float64(5), int64(1), object(7)\n",
            "memory usage: 865.7+ KB\n"
          ]
        }
      ],
      "source": [
        "df.info()"
      ]
    },
    {
      "cell_type": "code",
      "execution_count": 16,
      "metadata": {
        "colab": {
          "base_uri": "https://localhost:8080/",
          "height": 0
        },
        "id": "JPwePJBcGmNA",
        "outputId": "e983773b-89ec-454e-d634-a4908e900087"
      },
      "outputs": [
        {
          "output_type": "execute_result",
          "data": {
            "text/plain": [
              "     Item_Identifier  Item_Weight Item_Fat_Content  Item_Visibility  \\\n",
              "927            FDN52          NaN          Regular         0.130933   \n",
              "1922           FDK57          NaN          Low Fat         0.079904   \n",
              "4187           FDE52          NaN          Regular         0.029742   \n",
              "5022           FDQ60          NaN          Regular         0.191501   \n",
              "\n",
              "         Item_Type  Item_MRP Outlet_Identifier  Outlet_Establishment_Year  \\\n",
              "927   Frozen Foods   86.9198            OUT027                       1985   \n",
              "1922   Snack Foods  120.0440            OUT027                       1985   \n",
              "4187         Dairy   88.9514            OUT027                       1985   \n",
              "5022  Baking Goods  121.2098            OUT019                       1985   \n",
              "\n",
              "     Outlet_Size Outlet_Location_Type        Outlet_Type  Item_Outlet_Sales  \\\n",
              "927       Medium               Tier 3  Supermarket Type3          1569.9564   \n",
              "1922      Medium               Tier 3  Supermarket Type3          4434.2280   \n",
              "4187      Medium               Tier 3  Supermarket Type3          3453.5046   \n",
              "5022       Small               Tier 1      Grocery Store           120.5098   \n",
              "\n",
              "      Temp  \n",
              "927    NaN  \n",
              "1922   NaN  \n",
              "4187   NaN  \n",
              "5022   NaN  "
            ],
            "text/html": [
              "\n",
              "  <div id=\"df-34a45d86-0d66-4cb0-a187-db36dd448ac2\">\n",
              "    <div class=\"colab-df-container\">\n",
              "      <div>\n",
              "<style scoped>\n",
              "    .dataframe tbody tr th:only-of-type {\n",
              "        vertical-align: middle;\n",
              "    }\n",
              "\n",
              "    .dataframe tbody tr th {\n",
              "        vertical-align: top;\n",
              "    }\n",
              "\n",
              "    .dataframe thead th {\n",
              "        text-align: right;\n",
              "    }\n",
              "</style>\n",
              "<table border=\"1\" class=\"dataframe\">\n",
              "  <thead>\n",
              "    <tr style=\"text-align: right;\">\n",
              "      <th></th>\n",
              "      <th>Item_Identifier</th>\n",
              "      <th>Item_Weight</th>\n",
              "      <th>Item_Fat_Content</th>\n",
              "      <th>Item_Visibility</th>\n",
              "      <th>Item_Type</th>\n",
              "      <th>Item_MRP</th>\n",
              "      <th>Outlet_Identifier</th>\n",
              "      <th>Outlet_Establishment_Year</th>\n",
              "      <th>Outlet_Size</th>\n",
              "      <th>Outlet_Location_Type</th>\n",
              "      <th>Outlet_Type</th>\n",
              "      <th>Item_Outlet_Sales</th>\n",
              "      <th>Temp</th>\n",
              "    </tr>\n",
              "  </thead>\n",
              "  <tbody>\n",
              "    <tr>\n",
              "      <th>927</th>\n",
              "      <td>FDN52</td>\n",
              "      <td>NaN</td>\n",
              "      <td>Regular</td>\n",
              "      <td>0.130933</td>\n",
              "      <td>Frozen Foods</td>\n",
              "      <td>86.9198</td>\n",
              "      <td>OUT027</td>\n",
              "      <td>1985</td>\n",
              "      <td>Medium</td>\n",
              "      <td>Tier 3</td>\n",
              "      <td>Supermarket Type3</td>\n",
              "      <td>1569.9564</td>\n",
              "      <td>NaN</td>\n",
              "    </tr>\n",
              "    <tr>\n",
              "      <th>1922</th>\n",
              "      <td>FDK57</td>\n",
              "      <td>NaN</td>\n",
              "      <td>Low Fat</td>\n",
              "      <td>0.079904</td>\n",
              "      <td>Snack Foods</td>\n",
              "      <td>120.0440</td>\n",
              "      <td>OUT027</td>\n",
              "      <td>1985</td>\n",
              "      <td>Medium</td>\n",
              "      <td>Tier 3</td>\n",
              "      <td>Supermarket Type3</td>\n",
              "      <td>4434.2280</td>\n",
              "      <td>NaN</td>\n",
              "    </tr>\n",
              "    <tr>\n",
              "      <th>4187</th>\n",
              "      <td>FDE52</td>\n",
              "      <td>NaN</td>\n",
              "      <td>Regular</td>\n",
              "      <td>0.029742</td>\n",
              "      <td>Dairy</td>\n",
              "      <td>88.9514</td>\n",
              "      <td>OUT027</td>\n",
              "      <td>1985</td>\n",
              "      <td>Medium</td>\n",
              "      <td>Tier 3</td>\n",
              "      <td>Supermarket Type3</td>\n",
              "      <td>3453.5046</td>\n",
              "      <td>NaN</td>\n",
              "    </tr>\n",
              "    <tr>\n",
              "      <th>5022</th>\n",
              "      <td>FDQ60</td>\n",
              "      <td>NaN</td>\n",
              "      <td>Regular</td>\n",
              "      <td>0.191501</td>\n",
              "      <td>Baking Goods</td>\n",
              "      <td>121.2098</td>\n",
              "      <td>OUT019</td>\n",
              "      <td>1985</td>\n",
              "      <td>Small</td>\n",
              "      <td>Tier 1</td>\n",
              "      <td>Grocery Store</td>\n",
              "      <td>120.5098</td>\n",
              "      <td>NaN</td>\n",
              "    </tr>\n",
              "  </tbody>\n",
              "</table>\n",
              "</div>\n",
              "      <button class=\"colab-df-convert\" onclick=\"convertToInteractive('df-34a45d86-0d66-4cb0-a187-db36dd448ac2')\"\n",
              "              title=\"Convert this dataframe to an interactive table.\"\n",
              "              style=\"display:none;\">\n",
              "        \n",
              "  <svg xmlns=\"http://www.w3.org/2000/svg\" height=\"24px\"viewBox=\"0 0 24 24\"\n",
              "       width=\"24px\">\n",
              "    <path d=\"M0 0h24v24H0V0z\" fill=\"none\"/>\n",
              "    <path d=\"M18.56 5.44l.94 2.06.94-2.06 2.06-.94-2.06-.94-.94-2.06-.94 2.06-2.06.94zm-11 1L8.5 8.5l.94-2.06 2.06-.94-2.06-.94L8.5 2.5l-.94 2.06-2.06.94zm10 10l.94 2.06.94-2.06 2.06-.94-2.06-.94-.94-2.06-.94 2.06-2.06.94z\"/><path d=\"M17.41 7.96l-1.37-1.37c-.4-.4-.92-.59-1.43-.59-.52 0-1.04.2-1.43.59L10.3 9.45l-7.72 7.72c-.78.78-.78 2.05 0 2.83L4 21.41c.39.39.9.59 1.41.59.51 0 1.02-.2 1.41-.59l7.78-7.78 2.81-2.81c.8-.78.8-2.07 0-2.86zM5.41 20L4 18.59l7.72-7.72 1.47 1.35L5.41 20z\"/>\n",
              "  </svg>\n",
              "      </button>\n",
              "      \n",
              "  <style>\n",
              "    .colab-df-container {\n",
              "      display:flex;\n",
              "      flex-wrap:wrap;\n",
              "      gap: 12px;\n",
              "    }\n",
              "\n",
              "    .colab-df-convert {\n",
              "      background-color: #E8F0FE;\n",
              "      border: none;\n",
              "      border-radius: 50%;\n",
              "      cursor: pointer;\n",
              "      display: none;\n",
              "      fill: #1967D2;\n",
              "      height: 32px;\n",
              "      padding: 0 0 0 0;\n",
              "      width: 32px;\n",
              "    }\n",
              "\n",
              "    .colab-df-convert:hover {\n",
              "      background-color: #E2EBFA;\n",
              "      box-shadow: 0px 1px 2px rgba(60, 64, 67, 0.3), 0px 1px 3px 1px rgba(60, 64, 67, 0.15);\n",
              "      fill: #174EA6;\n",
              "    }\n",
              "\n",
              "    [theme=dark] .colab-df-convert {\n",
              "      background-color: #3B4455;\n",
              "      fill: #D2E3FC;\n",
              "    }\n",
              "\n",
              "    [theme=dark] .colab-df-convert:hover {\n",
              "      background-color: #434B5C;\n",
              "      box-shadow: 0px 1px 3px 1px rgba(0, 0, 0, 0.15);\n",
              "      filter: drop-shadow(0px 1px 2px rgba(0, 0, 0, 0.3));\n",
              "      fill: #FFFFFF;\n",
              "    }\n",
              "  </style>\n",
              "\n",
              "      <script>\n",
              "        const buttonEl =\n",
              "          document.querySelector('#df-34a45d86-0d66-4cb0-a187-db36dd448ac2 button.colab-df-convert');\n",
              "        buttonEl.style.display =\n",
              "          google.colab.kernel.accessAllowed ? 'block' : 'none';\n",
              "\n",
              "        async function convertToInteractive(key) {\n",
              "          const element = document.querySelector('#df-34a45d86-0d66-4cb0-a187-db36dd448ac2');\n",
              "          const dataTable =\n",
              "            await google.colab.kernel.invokeFunction('convertToInteractive',\n",
              "                                                     [key], {});\n",
              "          if (!dataTable) return;\n",
              "\n",
              "          const docLinkHtml = 'Like what you see? Visit the ' +\n",
              "            '<a target=\"_blank\" href=https://colab.research.google.com/notebooks/data_table.ipynb>data table notebook</a>'\n",
              "            + ' to learn more about interactive tables.';\n",
              "          element.innerHTML = '';\n",
              "          dataTable['output_type'] = 'display_data';\n",
              "          await google.colab.output.renderOutput(dataTable, element);\n",
              "          const docLink = document.createElement('div');\n",
              "          docLink.innerHTML = docLinkHtml;\n",
              "          element.appendChild(docLink);\n",
              "        }\n",
              "      </script>\n",
              "    </div>\n",
              "  </div>\n",
              "  "
            ]
          },
          "metadata": {},
          "execution_count": 16
        }
      ],
      "source": [
        "df[df['Temp'].isna()] # Filter NaN value at column Temp"
      ]
    },
    {
      "cell_type": "code",
      "source": [
        "df = df[df['Temp'].notna()] # Drop remaining 4 rows with Nan Value at column Temp"
      ],
      "metadata": {
        "id": "N9J0hahgpFm5"
      },
      "execution_count": 17,
      "outputs": []
    },
    {
      "cell_type": "code",
      "execution_count": 18,
      "metadata": {
        "colab": {
          "base_uri": "https://localhost:8080/"
        },
        "id": "roLMa_88xZfV",
        "outputId": "daec70d9-787f-42ad-e7d4-9beacecc252c"
      },
      "outputs": [
        {
          "output_type": "stream",
          "name": "stdout",
          "text": [
            "<class 'pandas.core.frame.DataFrame'>\n",
            "Int64Index: 8519 entries, 0 to 8522\n",
            "Data columns (total 13 columns):\n",
            " #   Column                     Non-Null Count  Dtype  \n",
            "---  ------                     --------------  -----  \n",
            " 0   Item_Identifier            8519 non-null   object \n",
            " 1   Item_Weight                7060 non-null   float64\n",
            " 2   Item_Fat_Content           8519 non-null   object \n",
            " 3   Item_Visibility            8519 non-null   float64\n",
            " 4   Item_Type                  8519 non-null   object \n",
            " 5   Item_MRP                   8519 non-null   float64\n",
            " 6   Outlet_Identifier          8519 non-null   object \n",
            " 7   Outlet_Establishment_Year  8519 non-null   int64  \n",
            " 8   Outlet_Size                6109 non-null   object \n",
            " 9   Outlet_Location_Type       8519 non-null   object \n",
            " 10  Outlet_Type                8519 non-null   object \n",
            " 11  Item_Outlet_Sales          8519 non-null   float64\n",
            " 12  Temp                       8519 non-null   float64\n",
            "dtypes: float64(5), int64(1), object(7)\n",
            "memory usage: 931.8+ KB\n"
          ]
        }
      ],
      "source": [
        "df.info()"
      ]
    },
    {
      "cell_type": "code",
      "execution_count": 19,
      "metadata": {
        "id": "NEHfoJcWzB_e"
      },
      "outputs": [],
      "source": [
        "df.drop(['Item_Weight'], axis=1, inplace=True) # Drop column 'Item_Weight'"
      ]
    },
    {
      "cell_type": "code",
      "execution_count": 20,
      "metadata": {
        "colab": {
          "base_uri": "https://localhost:8080/",
          "height": 0
        },
        "id": "HUHRkCLK1iE-",
        "outputId": "b592ca8c-d343-44fa-e006-3956103116ed"
      },
      "outputs": [
        {
          "output_type": "execute_result",
          "data": {
            "text/plain": [
              "     Item_Identifier Item_Fat_Content  Item_Visibility              Item_Type  \\\n",
              "0              FDA15          Low Fat         0.016047                  Dairy   \n",
              "1              DRC01          Regular         0.019278            Soft Drinks   \n",
              "2              FDN15          Low Fat         0.016760                   Meat   \n",
              "3              FDX07          Regular         0.000000  Fruits and Vegetables   \n",
              "4              NCD19          Low Fat         0.000000              Household   \n",
              "...              ...              ...              ...                    ...   \n",
              "8518           FDF22          Low Fat         0.056783            Snack Foods   \n",
              "8519           FDS36          Regular         0.046982           Baking Goods   \n",
              "8520           NCJ29          Low Fat         0.035186     Health and Hygiene   \n",
              "8521           FDN46          Regular         0.145221            Snack Foods   \n",
              "8522           DRG01          Low Fat         0.044878            Soft Drinks   \n",
              "\n",
              "      Item_MRP Outlet_Identifier  Outlet_Establishment_Year Outlet_Size  \\\n",
              "0     249.8092            OUT049                       1999      Medium   \n",
              "1      48.2692            OUT018                       2009      Medium   \n",
              "2     141.6180            OUT049                       1999      Medium   \n",
              "3     182.0950            OUT010                       1998         NaN   \n",
              "4      53.8614            OUT013                       1987        High   \n",
              "...        ...               ...                        ...         ...   \n",
              "8518  214.5218            OUT013                       1987        High   \n",
              "8519  108.1570            OUT045                       2002         NaN   \n",
              "8520   85.1224            OUT035                       2004       Small   \n",
              "8521  103.1332            OUT018                       2009      Medium   \n",
              "8522   75.4670            OUT046                       1997       Small   \n",
              "\n",
              "     Outlet_Location_Type        Outlet_Type  Item_Outlet_Sales    Temp  \n",
              "0                  Tier 1  Supermarket Type1          3735.1380   9.300  \n",
              "1                  Tier 3  Supermarket Type2           443.4228   5.920  \n",
              "2                  Tier 1  Supermarket Type1          2097.2700  17.500  \n",
              "3                  Tier 3      Grocery Store           732.3800  19.200  \n",
              "4                  Tier 3  Supermarket Type1           994.7052   8.930  \n",
              "...                   ...                ...                ...     ...  \n",
              "8518               Tier 3  Supermarket Type1          2778.3834   6.865  \n",
              "8519               Tier 2  Supermarket Type1           549.2850   8.380  \n",
              "8520               Tier 2  Supermarket Type1          1193.1136  10.600  \n",
              "8521               Tier 3  Supermarket Type2          1845.5976   7.210  \n",
              "8522               Tier 1  Supermarket Type1           765.6700  14.800  \n",
              "\n",
              "[8519 rows x 12 columns]"
            ],
            "text/html": [
              "\n",
              "  <div id=\"df-5dc504c7-0621-4e0c-a9bc-4e62d20fa1fd\">\n",
              "    <div class=\"colab-df-container\">\n",
              "      <div>\n",
              "<style scoped>\n",
              "    .dataframe tbody tr th:only-of-type {\n",
              "        vertical-align: middle;\n",
              "    }\n",
              "\n",
              "    .dataframe tbody tr th {\n",
              "        vertical-align: top;\n",
              "    }\n",
              "\n",
              "    .dataframe thead th {\n",
              "        text-align: right;\n",
              "    }\n",
              "</style>\n",
              "<table border=\"1\" class=\"dataframe\">\n",
              "  <thead>\n",
              "    <tr style=\"text-align: right;\">\n",
              "      <th></th>\n",
              "      <th>Item_Identifier</th>\n",
              "      <th>Item_Fat_Content</th>\n",
              "      <th>Item_Visibility</th>\n",
              "      <th>Item_Type</th>\n",
              "      <th>Item_MRP</th>\n",
              "      <th>Outlet_Identifier</th>\n",
              "      <th>Outlet_Establishment_Year</th>\n",
              "      <th>Outlet_Size</th>\n",
              "      <th>Outlet_Location_Type</th>\n",
              "      <th>Outlet_Type</th>\n",
              "      <th>Item_Outlet_Sales</th>\n",
              "      <th>Temp</th>\n",
              "    </tr>\n",
              "  </thead>\n",
              "  <tbody>\n",
              "    <tr>\n",
              "      <th>0</th>\n",
              "      <td>FDA15</td>\n",
              "      <td>Low Fat</td>\n",
              "      <td>0.016047</td>\n",
              "      <td>Dairy</td>\n",
              "      <td>249.8092</td>\n",
              "      <td>OUT049</td>\n",
              "      <td>1999</td>\n",
              "      <td>Medium</td>\n",
              "      <td>Tier 1</td>\n",
              "      <td>Supermarket Type1</td>\n",
              "      <td>3735.1380</td>\n",
              "      <td>9.300</td>\n",
              "    </tr>\n",
              "    <tr>\n",
              "      <th>1</th>\n",
              "      <td>DRC01</td>\n",
              "      <td>Regular</td>\n",
              "      <td>0.019278</td>\n",
              "      <td>Soft Drinks</td>\n",
              "      <td>48.2692</td>\n",
              "      <td>OUT018</td>\n",
              "      <td>2009</td>\n",
              "      <td>Medium</td>\n",
              "      <td>Tier 3</td>\n",
              "      <td>Supermarket Type2</td>\n",
              "      <td>443.4228</td>\n",
              "      <td>5.920</td>\n",
              "    </tr>\n",
              "    <tr>\n",
              "      <th>2</th>\n",
              "      <td>FDN15</td>\n",
              "      <td>Low Fat</td>\n",
              "      <td>0.016760</td>\n",
              "      <td>Meat</td>\n",
              "      <td>141.6180</td>\n",
              "      <td>OUT049</td>\n",
              "      <td>1999</td>\n",
              "      <td>Medium</td>\n",
              "      <td>Tier 1</td>\n",
              "      <td>Supermarket Type1</td>\n",
              "      <td>2097.2700</td>\n",
              "      <td>17.500</td>\n",
              "    </tr>\n",
              "    <tr>\n",
              "      <th>3</th>\n",
              "      <td>FDX07</td>\n",
              "      <td>Regular</td>\n",
              "      <td>0.000000</td>\n",
              "      <td>Fruits and Vegetables</td>\n",
              "      <td>182.0950</td>\n",
              "      <td>OUT010</td>\n",
              "      <td>1998</td>\n",
              "      <td>NaN</td>\n",
              "      <td>Tier 3</td>\n",
              "      <td>Grocery Store</td>\n",
              "      <td>732.3800</td>\n",
              "      <td>19.200</td>\n",
              "    </tr>\n",
              "    <tr>\n",
              "      <th>4</th>\n",
              "      <td>NCD19</td>\n",
              "      <td>Low Fat</td>\n",
              "      <td>0.000000</td>\n",
              "      <td>Household</td>\n",
              "      <td>53.8614</td>\n",
              "      <td>OUT013</td>\n",
              "      <td>1987</td>\n",
              "      <td>High</td>\n",
              "      <td>Tier 3</td>\n",
              "      <td>Supermarket Type1</td>\n",
              "      <td>994.7052</td>\n",
              "      <td>8.930</td>\n",
              "    </tr>\n",
              "    <tr>\n",
              "      <th>...</th>\n",
              "      <td>...</td>\n",
              "      <td>...</td>\n",
              "      <td>...</td>\n",
              "      <td>...</td>\n",
              "      <td>...</td>\n",
              "      <td>...</td>\n",
              "      <td>...</td>\n",
              "      <td>...</td>\n",
              "      <td>...</td>\n",
              "      <td>...</td>\n",
              "      <td>...</td>\n",
              "      <td>...</td>\n",
              "    </tr>\n",
              "    <tr>\n",
              "      <th>8518</th>\n",
              "      <td>FDF22</td>\n",
              "      <td>Low Fat</td>\n",
              "      <td>0.056783</td>\n",
              "      <td>Snack Foods</td>\n",
              "      <td>214.5218</td>\n",
              "      <td>OUT013</td>\n",
              "      <td>1987</td>\n",
              "      <td>High</td>\n",
              "      <td>Tier 3</td>\n",
              "      <td>Supermarket Type1</td>\n",
              "      <td>2778.3834</td>\n",
              "      <td>6.865</td>\n",
              "    </tr>\n",
              "    <tr>\n",
              "      <th>8519</th>\n",
              "      <td>FDS36</td>\n",
              "      <td>Regular</td>\n",
              "      <td>0.046982</td>\n",
              "      <td>Baking Goods</td>\n",
              "      <td>108.1570</td>\n",
              "      <td>OUT045</td>\n",
              "      <td>2002</td>\n",
              "      <td>NaN</td>\n",
              "      <td>Tier 2</td>\n",
              "      <td>Supermarket Type1</td>\n",
              "      <td>549.2850</td>\n",
              "      <td>8.380</td>\n",
              "    </tr>\n",
              "    <tr>\n",
              "      <th>8520</th>\n",
              "      <td>NCJ29</td>\n",
              "      <td>Low Fat</td>\n",
              "      <td>0.035186</td>\n",
              "      <td>Health and Hygiene</td>\n",
              "      <td>85.1224</td>\n",
              "      <td>OUT035</td>\n",
              "      <td>2004</td>\n",
              "      <td>Small</td>\n",
              "      <td>Tier 2</td>\n",
              "      <td>Supermarket Type1</td>\n",
              "      <td>1193.1136</td>\n",
              "      <td>10.600</td>\n",
              "    </tr>\n",
              "    <tr>\n",
              "      <th>8521</th>\n",
              "      <td>FDN46</td>\n",
              "      <td>Regular</td>\n",
              "      <td>0.145221</td>\n",
              "      <td>Snack Foods</td>\n",
              "      <td>103.1332</td>\n",
              "      <td>OUT018</td>\n",
              "      <td>2009</td>\n",
              "      <td>Medium</td>\n",
              "      <td>Tier 3</td>\n",
              "      <td>Supermarket Type2</td>\n",
              "      <td>1845.5976</td>\n",
              "      <td>7.210</td>\n",
              "    </tr>\n",
              "    <tr>\n",
              "      <th>8522</th>\n",
              "      <td>DRG01</td>\n",
              "      <td>Low Fat</td>\n",
              "      <td>0.044878</td>\n",
              "      <td>Soft Drinks</td>\n",
              "      <td>75.4670</td>\n",
              "      <td>OUT046</td>\n",
              "      <td>1997</td>\n",
              "      <td>Small</td>\n",
              "      <td>Tier 1</td>\n",
              "      <td>Supermarket Type1</td>\n",
              "      <td>765.6700</td>\n",
              "      <td>14.800</td>\n",
              "    </tr>\n",
              "  </tbody>\n",
              "</table>\n",
              "<p>8519 rows × 12 columns</p>\n",
              "</div>\n",
              "      <button class=\"colab-df-convert\" onclick=\"convertToInteractive('df-5dc504c7-0621-4e0c-a9bc-4e62d20fa1fd')\"\n",
              "              title=\"Convert this dataframe to an interactive table.\"\n",
              "              style=\"display:none;\">\n",
              "        \n",
              "  <svg xmlns=\"http://www.w3.org/2000/svg\" height=\"24px\"viewBox=\"0 0 24 24\"\n",
              "       width=\"24px\">\n",
              "    <path d=\"M0 0h24v24H0V0z\" fill=\"none\"/>\n",
              "    <path d=\"M18.56 5.44l.94 2.06.94-2.06 2.06-.94-2.06-.94-.94-2.06-.94 2.06-2.06.94zm-11 1L8.5 8.5l.94-2.06 2.06-.94-2.06-.94L8.5 2.5l-.94 2.06-2.06.94zm10 10l.94 2.06.94-2.06 2.06-.94-2.06-.94-.94-2.06-.94 2.06-2.06.94z\"/><path d=\"M17.41 7.96l-1.37-1.37c-.4-.4-.92-.59-1.43-.59-.52 0-1.04.2-1.43.59L10.3 9.45l-7.72 7.72c-.78.78-.78 2.05 0 2.83L4 21.41c.39.39.9.59 1.41.59.51 0 1.02-.2 1.41-.59l7.78-7.78 2.81-2.81c.8-.78.8-2.07 0-2.86zM5.41 20L4 18.59l7.72-7.72 1.47 1.35L5.41 20z\"/>\n",
              "  </svg>\n",
              "      </button>\n",
              "      \n",
              "  <style>\n",
              "    .colab-df-container {\n",
              "      display:flex;\n",
              "      flex-wrap:wrap;\n",
              "      gap: 12px;\n",
              "    }\n",
              "\n",
              "    .colab-df-convert {\n",
              "      background-color: #E8F0FE;\n",
              "      border: none;\n",
              "      border-radius: 50%;\n",
              "      cursor: pointer;\n",
              "      display: none;\n",
              "      fill: #1967D2;\n",
              "      height: 32px;\n",
              "      padding: 0 0 0 0;\n",
              "      width: 32px;\n",
              "    }\n",
              "\n",
              "    .colab-df-convert:hover {\n",
              "      background-color: #E2EBFA;\n",
              "      box-shadow: 0px 1px 2px rgba(60, 64, 67, 0.3), 0px 1px 3px 1px rgba(60, 64, 67, 0.15);\n",
              "      fill: #174EA6;\n",
              "    }\n",
              "\n",
              "    [theme=dark] .colab-df-convert {\n",
              "      background-color: #3B4455;\n",
              "      fill: #D2E3FC;\n",
              "    }\n",
              "\n",
              "    [theme=dark] .colab-df-convert:hover {\n",
              "      background-color: #434B5C;\n",
              "      box-shadow: 0px 1px 3px 1px rgba(0, 0, 0, 0.15);\n",
              "      filter: drop-shadow(0px 1px 2px rgba(0, 0, 0, 0.3));\n",
              "      fill: #FFFFFF;\n",
              "    }\n",
              "  </style>\n",
              "\n",
              "      <script>\n",
              "        const buttonEl =\n",
              "          document.querySelector('#df-5dc504c7-0621-4e0c-a9bc-4e62d20fa1fd button.colab-df-convert');\n",
              "        buttonEl.style.display =\n",
              "          google.colab.kernel.accessAllowed ? 'block' : 'none';\n",
              "\n",
              "        async function convertToInteractive(key) {\n",
              "          const element = document.querySelector('#df-5dc504c7-0621-4e0c-a9bc-4e62d20fa1fd');\n",
              "          const dataTable =\n",
              "            await google.colab.kernel.invokeFunction('convertToInteractive',\n",
              "                                                     [key], {});\n",
              "          if (!dataTable) return;\n",
              "\n",
              "          const docLinkHtml = 'Like what you see? Visit the ' +\n",
              "            '<a target=\"_blank\" href=https://colab.research.google.com/notebooks/data_table.ipynb>data table notebook</a>'\n",
              "            + ' to learn more about interactive tables.';\n",
              "          element.innerHTML = '';\n",
              "          dataTable['output_type'] = 'display_data';\n",
              "          await google.colab.output.renderOutput(dataTable, element);\n",
              "          const docLink = document.createElement('div');\n",
              "          docLink.innerHTML = docLinkHtml;\n",
              "          element.appendChild(docLink);\n",
              "        }\n",
              "      </script>\n",
              "    </div>\n",
              "  </div>\n",
              "  "
            ]
          },
          "metadata": {},
          "execution_count": 20
        }
      ],
      "source": [
        "df"
      ]
    },
    {
      "cell_type": "code",
      "execution_count": 21,
      "metadata": {
        "colab": {
          "base_uri": "https://localhost:8080/",
          "height": 0
        },
        "id": "WvyeUkUj2Gid",
        "outputId": "8f034aed-c171-4c73-f8a7-c1f4a0565e33"
      },
      "outputs": [
        {
          "output_type": "execute_result",
          "data": {
            "text/plain": [
              "     Item_Identifier Item_Fat_Content  Item_Visibility              Item_Type  \\\n",
              "0              FDA15          Low Fat         0.016047                  Dairy   \n",
              "1              DRC01          Regular         0.019278            Soft Drinks   \n",
              "2              FDN15          Low Fat         0.016760                   Meat   \n",
              "3              FDX07          Regular         0.000000  Fruits and Vegetables   \n",
              "4              NCD19          Low Fat         0.000000              Household   \n",
              "...              ...              ...              ...                    ...   \n",
              "8518           FDF22          Low Fat         0.056783            Snack Foods   \n",
              "8519           FDS36          Regular         0.046982           Baking Goods   \n",
              "8520           NCJ29          Low Fat         0.035186     Health and Hygiene   \n",
              "8521           FDN46          Regular         0.145221            Snack Foods   \n",
              "8522           DRG01          Low Fat         0.044878            Soft Drinks   \n",
              "\n",
              "      Item_MRP Outlet_Identifier  Outlet_Establishment_Year Outlet_Size  \\\n",
              "0     249.8092            OUT049                       1999      Medium   \n",
              "1      48.2692            OUT018                       2009      Medium   \n",
              "2     141.6180            OUT049                       1999      Medium   \n",
              "3     182.0950            OUT010                       1998         NaN   \n",
              "4      53.8614            OUT013                       1987        High   \n",
              "...        ...               ...                        ...         ...   \n",
              "8518  214.5218            OUT013                       1987        High   \n",
              "8519  108.1570            OUT045                       2002         NaN   \n",
              "8520   85.1224            OUT035                       2004       Small   \n",
              "8521  103.1332            OUT018                       2009      Medium   \n",
              "8522   75.4670            OUT046                       1997       Small   \n",
              "\n",
              "     Outlet_Location_Type        Outlet_Type  Item_Outlet_Sales  Item_Weight  \n",
              "0                  Tier 1  Supermarket Type1          3735.1380        9.300  \n",
              "1                  Tier 3  Supermarket Type2           443.4228        5.920  \n",
              "2                  Tier 1  Supermarket Type1          2097.2700       17.500  \n",
              "3                  Tier 3      Grocery Store           732.3800       19.200  \n",
              "4                  Tier 3  Supermarket Type1           994.7052        8.930  \n",
              "...                   ...                ...                ...          ...  \n",
              "8518               Tier 3  Supermarket Type1          2778.3834        6.865  \n",
              "8519               Tier 2  Supermarket Type1           549.2850        8.380  \n",
              "8520               Tier 2  Supermarket Type1          1193.1136       10.600  \n",
              "8521               Tier 3  Supermarket Type2          1845.5976        7.210  \n",
              "8522               Tier 1  Supermarket Type1           765.6700       14.800  \n",
              "\n",
              "[8519 rows x 12 columns]"
            ],
            "text/html": [
              "\n",
              "  <div id=\"df-5d19d781-b4c5-4f0a-9c9e-5d90dbcf629f\">\n",
              "    <div class=\"colab-df-container\">\n",
              "      <div>\n",
              "<style scoped>\n",
              "    .dataframe tbody tr th:only-of-type {\n",
              "        vertical-align: middle;\n",
              "    }\n",
              "\n",
              "    .dataframe tbody tr th {\n",
              "        vertical-align: top;\n",
              "    }\n",
              "\n",
              "    .dataframe thead th {\n",
              "        text-align: right;\n",
              "    }\n",
              "</style>\n",
              "<table border=\"1\" class=\"dataframe\">\n",
              "  <thead>\n",
              "    <tr style=\"text-align: right;\">\n",
              "      <th></th>\n",
              "      <th>Item_Identifier</th>\n",
              "      <th>Item_Fat_Content</th>\n",
              "      <th>Item_Visibility</th>\n",
              "      <th>Item_Type</th>\n",
              "      <th>Item_MRP</th>\n",
              "      <th>Outlet_Identifier</th>\n",
              "      <th>Outlet_Establishment_Year</th>\n",
              "      <th>Outlet_Size</th>\n",
              "      <th>Outlet_Location_Type</th>\n",
              "      <th>Outlet_Type</th>\n",
              "      <th>Item_Outlet_Sales</th>\n",
              "      <th>Item_Weight</th>\n",
              "    </tr>\n",
              "  </thead>\n",
              "  <tbody>\n",
              "    <tr>\n",
              "      <th>0</th>\n",
              "      <td>FDA15</td>\n",
              "      <td>Low Fat</td>\n",
              "      <td>0.016047</td>\n",
              "      <td>Dairy</td>\n",
              "      <td>249.8092</td>\n",
              "      <td>OUT049</td>\n",
              "      <td>1999</td>\n",
              "      <td>Medium</td>\n",
              "      <td>Tier 1</td>\n",
              "      <td>Supermarket Type1</td>\n",
              "      <td>3735.1380</td>\n",
              "      <td>9.300</td>\n",
              "    </tr>\n",
              "    <tr>\n",
              "      <th>1</th>\n",
              "      <td>DRC01</td>\n",
              "      <td>Regular</td>\n",
              "      <td>0.019278</td>\n",
              "      <td>Soft Drinks</td>\n",
              "      <td>48.2692</td>\n",
              "      <td>OUT018</td>\n",
              "      <td>2009</td>\n",
              "      <td>Medium</td>\n",
              "      <td>Tier 3</td>\n",
              "      <td>Supermarket Type2</td>\n",
              "      <td>443.4228</td>\n",
              "      <td>5.920</td>\n",
              "    </tr>\n",
              "    <tr>\n",
              "      <th>2</th>\n",
              "      <td>FDN15</td>\n",
              "      <td>Low Fat</td>\n",
              "      <td>0.016760</td>\n",
              "      <td>Meat</td>\n",
              "      <td>141.6180</td>\n",
              "      <td>OUT049</td>\n",
              "      <td>1999</td>\n",
              "      <td>Medium</td>\n",
              "      <td>Tier 1</td>\n",
              "      <td>Supermarket Type1</td>\n",
              "      <td>2097.2700</td>\n",
              "      <td>17.500</td>\n",
              "    </tr>\n",
              "    <tr>\n",
              "      <th>3</th>\n",
              "      <td>FDX07</td>\n",
              "      <td>Regular</td>\n",
              "      <td>0.000000</td>\n",
              "      <td>Fruits and Vegetables</td>\n",
              "      <td>182.0950</td>\n",
              "      <td>OUT010</td>\n",
              "      <td>1998</td>\n",
              "      <td>NaN</td>\n",
              "      <td>Tier 3</td>\n",
              "      <td>Grocery Store</td>\n",
              "      <td>732.3800</td>\n",
              "      <td>19.200</td>\n",
              "    </tr>\n",
              "    <tr>\n",
              "      <th>4</th>\n",
              "      <td>NCD19</td>\n",
              "      <td>Low Fat</td>\n",
              "      <td>0.000000</td>\n",
              "      <td>Household</td>\n",
              "      <td>53.8614</td>\n",
              "      <td>OUT013</td>\n",
              "      <td>1987</td>\n",
              "      <td>High</td>\n",
              "      <td>Tier 3</td>\n",
              "      <td>Supermarket Type1</td>\n",
              "      <td>994.7052</td>\n",
              "      <td>8.930</td>\n",
              "    </tr>\n",
              "    <tr>\n",
              "      <th>...</th>\n",
              "      <td>...</td>\n",
              "      <td>...</td>\n",
              "      <td>...</td>\n",
              "      <td>...</td>\n",
              "      <td>...</td>\n",
              "      <td>...</td>\n",
              "      <td>...</td>\n",
              "      <td>...</td>\n",
              "      <td>...</td>\n",
              "      <td>...</td>\n",
              "      <td>...</td>\n",
              "      <td>...</td>\n",
              "    </tr>\n",
              "    <tr>\n",
              "      <th>8518</th>\n",
              "      <td>FDF22</td>\n",
              "      <td>Low Fat</td>\n",
              "      <td>0.056783</td>\n",
              "      <td>Snack Foods</td>\n",
              "      <td>214.5218</td>\n",
              "      <td>OUT013</td>\n",
              "      <td>1987</td>\n",
              "      <td>High</td>\n",
              "      <td>Tier 3</td>\n",
              "      <td>Supermarket Type1</td>\n",
              "      <td>2778.3834</td>\n",
              "      <td>6.865</td>\n",
              "    </tr>\n",
              "    <tr>\n",
              "      <th>8519</th>\n",
              "      <td>FDS36</td>\n",
              "      <td>Regular</td>\n",
              "      <td>0.046982</td>\n",
              "      <td>Baking Goods</td>\n",
              "      <td>108.1570</td>\n",
              "      <td>OUT045</td>\n",
              "      <td>2002</td>\n",
              "      <td>NaN</td>\n",
              "      <td>Tier 2</td>\n",
              "      <td>Supermarket Type1</td>\n",
              "      <td>549.2850</td>\n",
              "      <td>8.380</td>\n",
              "    </tr>\n",
              "    <tr>\n",
              "      <th>8520</th>\n",
              "      <td>NCJ29</td>\n",
              "      <td>Low Fat</td>\n",
              "      <td>0.035186</td>\n",
              "      <td>Health and Hygiene</td>\n",
              "      <td>85.1224</td>\n",
              "      <td>OUT035</td>\n",
              "      <td>2004</td>\n",
              "      <td>Small</td>\n",
              "      <td>Tier 2</td>\n",
              "      <td>Supermarket Type1</td>\n",
              "      <td>1193.1136</td>\n",
              "      <td>10.600</td>\n",
              "    </tr>\n",
              "    <tr>\n",
              "      <th>8521</th>\n",
              "      <td>FDN46</td>\n",
              "      <td>Regular</td>\n",
              "      <td>0.145221</td>\n",
              "      <td>Snack Foods</td>\n",
              "      <td>103.1332</td>\n",
              "      <td>OUT018</td>\n",
              "      <td>2009</td>\n",
              "      <td>Medium</td>\n",
              "      <td>Tier 3</td>\n",
              "      <td>Supermarket Type2</td>\n",
              "      <td>1845.5976</td>\n",
              "      <td>7.210</td>\n",
              "    </tr>\n",
              "    <tr>\n",
              "      <th>8522</th>\n",
              "      <td>DRG01</td>\n",
              "      <td>Low Fat</td>\n",
              "      <td>0.044878</td>\n",
              "      <td>Soft Drinks</td>\n",
              "      <td>75.4670</td>\n",
              "      <td>OUT046</td>\n",
              "      <td>1997</td>\n",
              "      <td>Small</td>\n",
              "      <td>Tier 1</td>\n",
              "      <td>Supermarket Type1</td>\n",
              "      <td>765.6700</td>\n",
              "      <td>14.800</td>\n",
              "    </tr>\n",
              "  </tbody>\n",
              "</table>\n",
              "<p>8519 rows × 12 columns</p>\n",
              "</div>\n",
              "      <button class=\"colab-df-convert\" onclick=\"convertToInteractive('df-5d19d781-b4c5-4f0a-9c9e-5d90dbcf629f')\"\n",
              "              title=\"Convert this dataframe to an interactive table.\"\n",
              "              style=\"display:none;\">\n",
              "        \n",
              "  <svg xmlns=\"http://www.w3.org/2000/svg\" height=\"24px\"viewBox=\"0 0 24 24\"\n",
              "       width=\"24px\">\n",
              "    <path d=\"M0 0h24v24H0V0z\" fill=\"none\"/>\n",
              "    <path d=\"M18.56 5.44l.94 2.06.94-2.06 2.06-.94-2.06-.94-.94-2.06-.94 2.06-2.06.94zm-11 1L8.5 8.5l.94-2.06 2.06-.94-2.06-.94L8.5 2.5l-.94 2.06-2.06.94zm10 10l.94 2.06.94-2.06 2.06-.94-2.06-.94-.94-2.06-.94 2.06-2.06.94z\"/><path d=\"M17.41 7.96l-1.37-1.37c-.4-.4-.92-.59-1.43-.59-.52 0-1.04.2-1.43.59L10.3 9.45l-7.72 7.72c-.78.78-.78 2.05 0 2.83L4 21.41c.39.39.9.59 1.41.59.51 0 1.02-.2 1.41-.59l7.78-7.78 2.81-2.81c.8-.78.8-2.07 0-2.86zM5.41 20L4 18.59l7.72-7.72 1.47 1.35L5.41 20z\"/>\n",
              "  </svg>\n",
              "      </button>\n",
              "      \n",
              "  <style>\n",
              "    .colab-df-container {\n",
              "      display:flex;\n",
              "      flex-wrap:wrap;\n",
              "      gap: 12px;\n",
              "    }\n",
              "\n",
              "    .colab-df-convert {\n",
              "      background-color: #E8F0FE;\n",
              "      border: none;\n",
              "      border-radius: 50%;\n",
              "      cursor: pointer;\n",
              "      display: none;\n",
              "      fill: #1967D2;\n",
              "      height: 32px;\n",
              "      padding: 0 0 0 0;\n",
              "      width: 32px;\n",
              "    }\n",
              "\n",
              "    .colab-df-convert:hover {\n",
              "      background-color: #E2EBFA;\n",
              "      box-shadow: 0px 1px 2px rgba(60, 64, 67, 0.3), 0px 1px 3px 1px rgba(60, 64, 67, 0.15);\n",
              "      fill: #174EA6;\n",
              "    }\n",
              "\n",
              "    [theme=dark] .colab-df-convert {\n",
              "      background-color: #3B4455;\n",
              "      fill: #D2E3FC;\n",
              "    }\n",
              "\n",
              "    [theme=dark] .colab-df-convert:hover {\n",
              "      background-color: #434B5C;\n",
              "      box-shadow: 0px 1px 3px 1px rgba(0, 0, 0, 0.15);\n",
              "      filter: drop-shadow(0px 1px 2px rgba(0, 0, 0, 0.3));\n",
              "      fill: #FFFFFF;\n",
              "    }\n",
              "  </style>\n",
              "\n",
              "      <script>\n",
              "        const buttonEl =\n",
              "          document.querySelector('#df-5d19d781-b4c5-4f0a-9c9e-5d90dbcf629f button.colab-df-convert');\n",
              "        buttonEl.style.display =\n",
              "          google.colab.kernel.accessAllowed ? 'block' : 'none';\n",
              "\n",
              "        async function convertToInteractive(key) {\n",
              "          const element = document.querySelector('#df-5d19d781-b4c5-4f0a-9c9e-5d90dbcf629f');\n",
              "          const dataTable =\n",
              "            await google.colab.kernel.invokeFunction('convertToInteractive',\n",
              "                                                     [key], {});\n",
              "          if (!dataTable) return;\n",
              "\n",
              "          const docLinkHtml = 'Like what you see? Visit the ' +\n",
              "            '<a target=\"_blank\" href=https://colab.research.google.com/notebooks/data_table.ipynb>data table notebook</a>'\n",
              "            + ' to learn more about interactive tables.';\n",
              "          element.innerHTML = '';\n",
              "          dataTable['output_type'] = 'display_data';\n",
              "          await google.colab.output.renderOutput(dataTable, element);\n",
              "          const docLink = document.createElement('div');\n",
              "          docLink.innerHTML = docLinkHtml;\n",
              "          element.appendChild(docLink);\n",
              "        }\n",
              "      </script>\n",
              "    </div>\n",
              "  </div>\n",
              "  "
            ]
          },
          "metadata": {},
          "execution_count": 21
        }
      ],
      "source": [
        "df.rename(columns = {'Temp':'Item_Weight'}, inplace = True) # Rename column 'Temp' to 'Item_Weight by dictionary key-value pairs.\n",
        "df"
      ]
    },
    {
      "cell_type": "code",
      "execution_count": 22,
      "metadata": {
        "colab": {
          "base_uri": "https://localhost:8080/"
        },
        "id": "ybvI9Gi1_VMV",
        "outputId": "f293469b-cebc-4f6a-8172-614cd16e15e7"
      },
      "outputs": [
        {
          "output_type": "execute_result",
          "data": {
            "text/plain": [
              "Item_Identifier                 0\n",
              "Item_Fat_Content                0\n",
              "Item_Visibility                 0\n",
              "Item_Type                       0\n",
              "Item_MRP                        0\n",
              "Outlet_Identifier               0\n",
              "Outlet_Establishment_Year       0\n",
              "Outlet_Size                  2410\n",
              "Outlet_Location_Type            0\n",
              "Outlet_Type                     0\n",
              "Item_Outlet_Sales               0\n",
              "Item_Weight                     0\n",
              "dtype: int64"
            ]
          },
          "metadata": {},
          "execution_count": 22
        }
      ],
      "source": [
        "df.isna().sum()"
      ]
    },
    {
      "cell_type": "markdown",
      "metadata": {
        "id": "ikxmVHnW4esf"
      },
      "source": [
        "## Addressing Null Values on column 'Outlet_Size'"
      ]
    },
    {
      "cell_type": "markdown",
      "metadata": {
        "id": "4n6OKRZV4z10"
      },
      "source": [
        "Based on Below DataFrame we can confidently assume that if:\n",
        "\n",
        "**'Outlet_Location_Type'** => *Tier 2* the corresponding **'Outlet_Size'** => 'Small'\n",
        "\n",
        "LikeWise condfidently assume that if the:\n",
        "\n",
        " **Outlet_Type** =>* Grocery* Store the corresponding 'Outlet_Size' => 'Small'** \n",
        "\n",
        "**Therefore: we can increase our confident to assume that all Null/NaN values in the Outlet_Size => 'Small'**"
      ]
    },
    {
      "cell_type": "code",
      "execution_count": 23,
      "metadata": {
        "colab": {
          "base_uri": "https://localhost:8080/",
          "height": 0
        },
        "id": "rCbNcLilsD-B",
        "outputId": "83bccc88-fdab-458f-a3a0-a0ae5b4d861c"
      },
      "outputs": [
        {
          "output_type": "execute_result",
          "data": {
            "text/plain": [
              "                                                                                                Outlet_Type\n",
              "Outlet_Identifier Outlet_Establishment_Year Outlet_Location_Type Outlet_Type       Outlet_Size             \n",
              "OUT013            1987                      Tier 3               Supermarket Type1 High                 932\n",
              "OUT018            2009                      Tier 3               Supermarket Type2 Medium               928\n",
              "OUT019            1985                      Tier 1               Grocery Store     Small                527\n",
              "OUT027            1985                      Tier 3               Supermarket Type3 Medium               932\n",
              "OUT035            2004                      Tier 2               Supermarket Type1 Small                930\n",
              "OUT046            1997                      Tier 1               Supermarket Type1 Small                930\n",
              "OUT049            1999                      Tier 1               Supermarket Type1 Medium               930"
            ],
            "text/html": [
              "\n",
              "  <div id=\"df-8b05dda2-cee5-4efb-8e35-944b6463b4ad\">\n",
              "    <div class=\"colab-df-container\">\n",
              "      <div>\n",
              "<style scoped>\n",
              "    .dataframe tbody tr th:only-of-type {\n",
              "        vertical-align: middle;\n",
              "    }\n",
              "\n",
              "    .dataframe tbody tr th {\n",
              "        vertical-align: top;\n",
              "    }\n",
              "\n",
              "    .dataframe thead th {\n",
              "        text-align: right;\n",
              "    }\n",
              "</style>\n",
              "<table border=\"1\" class=\"dataframe\">\n",
              "  <thead>\n",
              "    <tr style=\"text-align: right;\">\n",
              "      <th></th>\n",
              "      <th></th>\n",
              "      <th></th>\n",
              "      <th></th>\n",
              "      <th></th>\n",
              "      <th>Outlet_Type</th>\n",
              "    </tr>\n",
              "    <tr>\n",
              "      <th>Outlet_Identifier</th>\n",
              "      <th>Outlet_Establishment_Year</th>\n",
              "      <th>Outlet_Location_Type</th>\n",
              "      <th>Outlet_Type</th>\n",
              "      <th>Outlet_Size</th>\n",
              "      <th></th>\n",
              "    </tr>\n",
              "  </thead>\n",
              "  <tbody>\n",
              "    <tr>\n",
              "      <th>OUT013</th>\n",
              "      <th>1987</th>\n",
              "      <th>Tier 3</th>\n",
              "      <th>Supermarket Type1</th>\n",
              "      <th>High</th>\n",
              "      <td>932</td>\n",
              "    </tr>\n",
              "    <tr>\n",
              "      <th>OUT018</th>\n",
              "      <th>2009</th>\n",
              "      <th>Tier 3</th>\n",
              "      <th>Supermarket Type2</th>\n",
              "      <th>Medium</th>\n",
              "      <td>928</td>\n",
              "    </tr>\n",
              "    <tr>\n",
              "      <th>OUT019</th>\n",
              "      <th>1985</th>\n",
              "      <th>Tier 1</th>\n",
              "      <th>Grocery Store</th>\n",
              "      <th>Small</th>\n",
              "      <td>527</td>\n",
              "    </tr>\n",
              "    <tr>\n",
              "      <th>OUT027</th>\n",
              "      <th>1985</th>\n",
              "      <th>Tier 3</th>\n",
              "      <th>Supermarket Type3</th>\n",
              "      <th>Medium</th>\n",
              "      <td>932</td>\n",
              "    </tr>\n",
              "    <tr>\n",
              "      <th>OUT035</th>\n",
              "      <th>2004</th>\n",
              "      <th>Tier 2</th>\n",
              "      <th>Supermarket Type1</th>\n",
              "      <th>Small</th>\n",
              "      <td>930</td>\n",
              "    </tr>\n",
              "    <tr>\n",
              "      <th>OUT046</th>\n",
              "      <th>1997</th>\n",
              "      <th>Tier 1</th>\n",
              "      <th>Supermarket Type1</th>\n",
              "      <th>Small</th>\n",
              "      <td>930</td>\n",
              "    </tr>\n",
              "    <tr>\n",
              "      <th>OUT049</th>\n",
              "      <th>1999</th>\n",
              "      <th>Tier 1</th>\n",
              "      <th>Supermarket Type1</th>\n",
              "      <th>Medium</th>\n",
              "      <td>930</td>\n",
              "    </tr>\n",
              "  </tbody>\n",
              "</table>\n",
              "</div>\n",
              "      <button class=\"colab-df-convert\" onclick=\"convertToInteractive('df-8b05dda2-cee5-4efb-8e35-944b6463b4ad')\"\n",
              "              title=\"Convert this dataframe to an interactive table.\"\n",
              "              style=\"display:none;\">\n",
              "        \n",
              "  <svg xmlns=\"http://www.w3.org/2000/svg\" height=\"24px\"viewBox=\"0 0 24 24\"\n",
              "       width=\"24px\">\n",
              "    <path d=\"M0 0h24v24H0V0z\" fill=\"none\"/>\n",
              "    <path d=\"M18.56 5.44l.94 2.06.94-2.06 2.06-.94-2.06-.94-.94-2.06-.94 2.06-2.06.94zm-11 1L8.5 8.5l.94-2.06 2.06-.94-2.06-.94L8.5 2.5l-.94 2.06-2.06.94zm10 10l.94 2.06.94-2.06 2.06-.94-2.06-.94-.94-2.06-.94 2.06-2.06.94z\"/><path d=\"M17.41 7.96l-1.37-1.37c-.4-.4-.92-.59-1.43-.59-.52 0-1.04.2-1.43.59L10.3 9.45l-7.72 7.72c-.78.78-.78 2.05 0 2.83L4 21.41c.39.39.9.59 1.41.59.51 0 1.02-.2 1.41-.59l7.78-7.78 2.81-2.81c.8-.78.8-2.07 0-2.86zM5.41 20L4 18.59l7.72-7.72 1.47 1.35L5.41 20z\"/>\n",
              "  </svg>\n",
              "      </button>\n",
              "      \n",
              "  <style>\n",
              "    .colab-df-container {\n",
              "      display:flex;\n",
              "      flex-wrap:wrap;\n",
              "      gap: 12px;\n",
              "    }\n",
              "\n",
              "    .colab-df-convert {\n",
              "      background-color: #E8F0FE;\n",
              "      border: none;\n",
              "      border-radius: 50%;\n",
              "      cursor: pointer;\n",
              "      display: none;\n",
              "      fill: #1967D2;\n",
              "      height: 32px;\n",
              "      padding: 0 0 0 0;\n",
              "      width: 32px;\n",
              "    }\n",
              "\n",
              "    .colab-df-convert:hover {\n",
              "      background-color: #E2EBFA;\n",
              "      box-shadow: 0px 1px 2px rgba(60, 64, 67, 0.3), 0px 1px 3px 1px rgba(60, 64, 67, 0.15);\n",
              "      fill: #174EA6;\n",
              "    }\n",
              "\n",
              "    [theme=dark] .colab-df-convert {\n",
              "      background-color: #3B4455;\n",
              "      fill: #D2E3FC;\n",
              "    }\n",
              "\n",
              "    [theme=dark] .colab-df-convert:hover {\n",
              "      background-color: #434B5C;\n",
              "      box-shadow: 0px 1px 3px 1px rgba(0, 0, 0, 0.15);\n",
              "      filter: drop-shadow(0px 1px 2px rgba(0, 0, 0, 0.3));\n",
              "      fill: #FFFFFF;\n",
              "    }\n",
              "  </style>\n",
              "\n",
              "      <script>\n",
              "        const buttonEl =\n",
              "          document.querySelector('#df-8b05dda2-cee5-4efb-8e35-944b6463b4ad button.colab-df-convert');\n",
              "        buttonEl.style.display =\n",
              "          google.colab.kernel.accessAllowed ? 'block' : 'none';\n",
              "\n",
              "        async function convertToInteractive(key) {\n",
              "          const element = document.querySelector('#df-8b05dda2-cee5-4efb-8e35-944b6463b4ad');\n",
              "          const dataTable =\n",
              "            await google.colab.kernel.invokeFunction('convertToInteractive',\n",
              "                                                     [key], {});\n",
              "          if (!dataTable) return;\n",
              "\n",
              "          const docLinkHtml = 'Like what you see? Visit the ' +\n",
              "            '<a target=\"_blank\" href=https://colab.research.google.com/notebooks/data_table.ipynb>data table notebook</a>'\n",
              "            + ' to learn more about interactive tables.';\n",
              "          element.innerHTML = '';\n",
              "          dataTable['output_type'] = 'display_data';\n",
              "          await google.colab.output.renderOutput(dataTable, element);\n",
              "          const docLink = document.createElement('div');\n",
              "          docLink.innerHTML = docLinkHtml;\n",
              "          element.appendChild(docLink);\n",
              "        }\n",
              "      </script>\n",
              "    </div>\n",
              "  </div>\n",
              "  "
            ]
          },
          "metadata": {},
          "execution_count": 23
        }
      ],
      "source": [
        "outlet_notNull= df[df['Outlet_Size'].notnull()] # Filter non-Null values\n",
        "#outlet_notNull.head()\n",
        "outlet_notNull.groupby(['Outlet_Identifier','Outlet_Establishment_Year','Outlet_Location_Type','Outlet_Type','Outlet_Size'])[['Outlet_Type']].count() # specify which column will be included to apply and aggregate function on"
      ]
    },
    {
      "cell_type": "code",
      "execution_count": 24,
      "metadata": {
        "colab": {
          "base_uri": "https://localhost:8080/",
          "height": 0
        },
        "id": "N3lsxuHQ3Pw0",
        "outputId": "f32e5e9b-4b42-467f-a00f-47b7d9a48320"
      },
      "outputs": [
        {
          "output_type": "execute_result",
          "data": {
            "text/plain": [
              "                                        Outlet_Type\n",
              "Outlet_Location_Type Outlet_Type                   \n",
              "Tier 2               Supermarket Type1         1855\n",
              "Tier 3               Grocery Store              555"
            ],
            "text/html": [
              "\n",
              "  <div id=\"df-c938ff6d-da6c-45b4-a739-0a465b40913a\">\n",
              "    <div class=\"colab-df-container\">\n",
              "      <div>\n",
              "<style scoped>\n",
              "    .dataframe tbody tr th:only-of-type {\n",
              "        vertical-align: middle;\n",
              "    }\n",
              "\n",
              "    .dataframe tbody tr th {\n",
              "        vertical-align: top;\n",
              "    }\n",
              "\n",
              "    .dataframe thead th {\n",
              "        text-align: right;\n",
              "    }\n",
              "</style>\n",
              "<table border=\"1\" class=\"dataframe\">\n",
              "  <thead>\n",
              "    <tr style=\"text-align: right;\">\n",
              "      <th></th>\n",
              "      <th></th>\n",
              "      <th>Outlet_Type</th>\n",
              "    </tr>\n",
              "    <tr>\n",
              "      <th>Outlet_Location_Type</th>\n",
              "      <th>Outlet_Type</th>\n",
              "      <th></th>\n",
              "    </tr>\n",
              "  </thead>\n",
              "  <tbody>\n",
              "    <tr>\n",
              "      <th>Tier 2</th>\n",
              "      <th>Supermarket Type1</th>\n",
              "      <td>1855</td>\n",
              "    </tr>\n",
              "    <tr>\n",
              "      <th>Tier 3</th>\n",
              "      <th>Grocery Store</th>\n",
              "      <td>555</td>\n",
              "    </tr>\n",
              "  </tbody>\n",
              "</table>\n",
              "</div>\n",
              "      <button class=\"colab-df-convert\" onclick=\"convertToInteractive('df-c938ff6d-da6c-45b4-a739-0a465b40913a')\"\n",
              "              title=\"Convert this dataframe to an interactive table.\"\n",
              "              style=\"display:none;\">\n",
              "        \n",
              "  <svg xmlns=\"http://www.w3.org/2000/svg\" height=\"24px\"viewBox=\"0 0 24 24\"\n",
              "       width=\"24px\">\n",
              "    <path d=\"M0 0h24v24H0V0z\" fill=\"none\"/>\n",
              "    <path d=\"M18.56 5.44l.94 2.06.94-2.06 2.06-.94-2.06-.94-.94-2.06-.94 2.06-2.06.94zm-11 1L8.5 8.5l.94-2.06 2.06-.94-2.06-.94L8.5 2.5l-.94 2.06-2.06.94zm10 10l.94 2.06.94-2.06 2.06-.94-2.06-.94-.94-2.06-.94 2.06-2.06.94z\"/><path d=\"M17.41 7.96l-1.37-1.37c-.4-.4-.92-.59-1.43-.59-.52 0-1.04.2-1.43.59L10.3 9.45l-7.72 7.72c-.78.78-.78 2.05 0 2.83L4 21.41c.39.39.9.59 1.41.59.51 0 1.02-.2 1.41-.59l7.78-7.78 2.81-2.81c.8-.78.8-2.07 0-2.86zM5.41 20L4 18.59l7.72-7.72 1.47 1.35L5.41 20z\"/>\n",
              "  </svg>\n",
              "      </button>\n",
              "      \n",
              "  <style>\n",
              "    .colab-df-container {\n",
              "      display:flex;\n",
              "      flex-wrap:wrap;\n",
              "      gap: 12px;\n",
              "    }\n",
              "\n",
              "    .colab-df-convert {\n",
              "      background-color: #E8F0FE;\n",
              "      border: none;\n",
              "      border-radius: 50%;\n",
              "      cursor: pointer;\n",
              "      display: none;\n",
              "      fill: #1967D2;\n",
              "      height: 32px;\n",
              "      padding: 0 0 0 0;\n",
              "      width: 32px;\n",
              "    }\n",
              "\n",
              "    .colab-df-convert:hover {\n",
              "      background-color: #E2EBFA;\n",
              "      box-shadow: 0px 1px 2px rgba(60, 64, 67, 0.3), 0px 1px 3px 1px rgba(60, 64, 67, 0.15);\n",
              "      fill: #174EA6;\n",
              "    }\n",
              "\n",
              "    [theme=dark] .colab-df-convert {\n",
              "      background-color: #3B4455;\n",
              "      fill: #D2E3FC;\n",
              "    }\n",
              "\n",
              "    [theme=dark] .colab-df-convert:hover {\n",
              "      background-color: #434B5C;\n",
              "      box-shadow: 0px 1px 3px 1px rgba(0, 0, 0, 0.15);\n",
              "      filter: drop-shadow(0px 1px 2px rgba(0, 0, 0, 0.3));\n",
              "      fill: #FFFFFF;\n",
              "    }\n",
              "  </style>\n",
              "\n",
              "      <script>\n",
              "        const buttonEl =\n",
              "          document.querySelector('#df-c938ff6d-da6c-45b4-a739-0a465b40913a button.colab-df-convert');\n",
              "        buttonEl.style.display =\n",
              "          google.colab.kernel.accessAllowed ? 'block' : 'none';\n",
              "\n",
              "        async function convertToInteractive(key) {\n",
              "          const element = document.querySelector('#df-c938ff6d-da6c-45b4-a739-0a465b40913a');\n",
              "          const dataTable =\n",
              "            await google.colab.kernel.invokeFunction('convertToInteractive',\n",
              "                                                     [key], {});\n",
              "          if (!dataTable) return;\n",
              "\n",
              "          const docLinkHtml = 'Like what you see? Visit the ' +\n",
              "            '<a target=\"_blank\" href=https://colab.research.google.com/notebooks/data_table.ipynb>data table notebook</a>'\n",
              "            + ' to learn more about interactive tables.';\n",
              "          element.innerHTML = '';\n",
              "          dataTable['output_type'] = 'display_data';\n",
              "          await google.colab.output.renderOutput(dataTable, element);\n",
              "          const docLink = document.createElement('div');\n",
              "          docLink.innerHTML = docLinkHtml;\n",
              "          element.appendChild(docLink);\n",
              "        }\n",
              "      </script>\n",
              "    </div>\n",
              "  </div>\n",
              "  "
            ]
          },
          "metadata": {},
          "execution_count": 24
        }
      ],
      "source": [
        "outlet_isNUll= df[df['Outlet_Size'].isnull()] # Filter Null values\n",
        "#outlet_isNUll.head()\n",
        "outlet_isNUll.groupby(['Outlet_Location_Type','Outlet_Type'])[['Outlet_Type']].count() # specify which column will be included to apply and aggregate function on"
      ]
    },
    {
      "cell_type": "code",
      "execution_count": 25,
      "metadata": {
        "colab": {
          "base_uri": "https://localhost:8080/"
        },
        "id": "6PlxLNUs_tFl",
        "outputId": "ab1a45fc-6d8c-4d31-82a4-21f6b0592f6f"
      },
      "outputs": [
        {
          "output_type": "stream",
          "name": "stdout",
          "text": [
            "<class 'pandas.core.frame.DataFrame'>\n",
            "Int64Index: 8519 entries, 0 to 8522\n",
            "Data columns (total 12 columns):\n",
            " #   Column                     Non-Null Count  Dtype  \n",
            "---  ------                     --------------  -----  \n",
            " 0   Item_Identifier            8519 non-null   object \n",
            " 1   Item_Fat_Content           8519 non-null   object \n",
            " 2   Item_Visibility            8519 non-null   float64\n",
            " 3   Item_Type                  8519 non-null   object \n",
            " 4   Item_MRP                   8519 non-null   float64\n",
            " 5   Outlet_Identifier          8519 non-null   object \n",
            " 6   Outlet_Establishment_Year  8519 non-null   int64  \n",
            " 7   Outlet_Size                8519 non-null   object \n",
            " 8   Outlet_Location_Type       8519 non-null   object \n",
            " 9   Outlet_Type                8519 non-null   object \n",
            " 10  Item_Outlet_Sales          8519 non-null   float64\n",
            " 11  Item_Weight                8519 non-null   float64\n",
            "dtypes: float64(4), int64(1), object(7)\n",
            "memory usage: 865.2+ KB\n"
          ]
        }
      ],
      "source": [
        "df['Outlet_Size'] = df['Outlet_Size'].fillna('Small') # Fill the column 'Outlet_Size which contains NaN values with a string 'Small'\n",
        "df.info()\n"
      ]
    },
    {
      "cell_type": "markdown",
      "metadata": {
        "id": "mC4fGMo6RIrs"
      },
      "source": [
        "# 6) Confirm that there are no missing values after addressing them."
      ]
    },
    {
      "cell_type": "code",
      "execution_count": 26,
      "metadata": {
        "colab": {
          "base_uri": "https://localhost:8080/"
        },
        "id": "LT1J-_zGQ9QU",
        "outputId": "b2bc70c9-9048-44a2-d944-3330f130fea5"
      },
      "outputs": [
        {
          "output_type": "execute_result",
          "data": {
            "text/plain": [
              "Item_Identifier              0\n",
              "Item_Fat_Content             0\n",
              "Item_Visibility              0\n",
              "Item_Type                    0\n",
              "Item_MRP                     0\n",
              "Outlet_Identifier            0\n",
              "Outlet_Establishment_Year    0\n",
              "Outlet_Size                  0\n",
              "Outlet_Location_Type         0\n",
              "Outlet_Type                  0\n",
              "Item_Outlet_Sales            0\n",
              "Item_Weight                  0\n",
              "dtype: int64"
            ]
          },
          "metadata": {},
          "execution_count": 26
        }
      ],
      "source": [
        "df.isna().sum() # Show that no NaN values in the DataFrame"
      ]
    },
    {
      "cell_type": "markdown",
      "metadata": {
        "id": "EmA7pmAMRRek"
      },
      "source": [
        "# 7) Find and fix any inconsistent categories of data (example: fix cat, Cat, and cats so that they are consistent) "
      ]
    },
    {
      "cell_type": "code",
      "execution_count": 27,
      "metadata": {
        "colab": {
          "base_uri": "https://localhost:8080/",
          "height": 0
        },
        "id": "sftnc_eXR-T9",
        "outputId": "1f2dc160-2ddd-4697-c9c7-25391b5ac692"
      },
      "outputs": [
        {
          "output_type": "execute_result",
          "data": {
            "text/plain": [
              "  Item_Identifier Item_Fat_Content  Item_Visibility              Item_Type  \\\n",
              "0           FDA15          Low Fat         0.016047                  Dairy   \n",
              "1           DRC01          Regular         0.019278            Soft Drinks   \n",
              "2           FDN15          Low Fat         0.016760                   Meat   \n",
              "3           FDX07          Regular         0.000000  Fruits and Vegetables   \n",
              "4           NCD19          Low Fat         0.000000              Household   \n",
              "\n",
              "   Item_MRP Outlet_Identifier  Outlet_Establishment_Year Outlet_Size  \\\n",
              "0  249.8092            OUT049                       1999      Medium   \n",
              "1   48.2692            OUT018                       2009      Medium   \n",
              "2  141.6180            OUT049                       1999      Medium   \n",
              "3  182.0950            OUT010                       1998       Small   \n",
              "4   53.8614            OUT013                       1987        High   \n",
              "\n",
              "  Outlet_Location_Type        Outlet_Type  Item_Outlet_Sales  Item_Weight  \n",
              "0               Tier 1  Supermarket Type1          3735.1380         9.30  \n",
              "1               Tier 3  Supermarket Type2           443.4228         5.92  \n",
              "2               Tier 1  Supermarket Type1          2097.2700        17.50  \n",
              "3               Tier 3      Grocery Store           732.3800        19.20  \n",
              "4               Tier 3  Supermarket Type1           994.7052         8.93  "
            ],
            "text/html": [
              "\n",
              "  <div id=\"df-2181be03-5b06-4729-b454-f7ae6e40c450\">\n",
              "    <div class=\"colab-df-container\">\n",
              "      <div>\n",
              "<style scoped>\n",
              "    .dataframe tbody tr th:only-of-type {\n",
              "        vertical-align: middle;\n",
              "    }\n",
              "\n",
              "    .dataframe tbody tr th {\n",
              "        vertical-align: top;\n",
              "    }\n",
              "\n",
              "    .dataframe thead th {\n",
              "        text-align: right;\n",
              "    }\n",
              "</style>\n",
              "<table border=\"1\" class=\"dataframe\">\n",
              "  <thead>\n",
              "    <tr style=\"text-align: right;\">\n",
              "      <th></th>\n",
              "      <th>Item_Identifier</th>\n",
              "      <th>Item_Fat_Content</th>\n",
              "      <th>Item_Visibility</th>\n",
              "      <th>Item_Type</th>\n",
              "      <th>Item_MRP</th>\n",
              "      <th>Outlet_Identifier</th>\n",
              "      <th>Outlet_Establishment_Year</th>\n",
              "      <th>Outlet_Size</th>\n",
              "      <th>Outlet_Location_Type</th>\n",
              "      <th>Outlet_Type</th>\n",
              "      <th>Item_Outlet_Sales</th>\n",
              "      <th>Item_Weight</th>\n",
              "    </tr>\n",
              "  </thead>\n",
              "  <tbody>\n",
              "    <tr>\n",
              "      <th>0</th>\n",
              "      <td>FDA15</td>\n",
              "      <td>Low Fat</td>\n",
              "      <td>0.016047</td>\n",
              "      <td>Dairy</td>\n",
              "      <td>249.8092</td>\n",
              "      <td>OUT049</td>\n",
              "      <td>1999</td>\n",
              "      <td>Medium</td>\n",
              "      <td>Tier 1</td>\n",
              "      <td>Supermarket Type1</td>\n",
              "      <td>3735.1380</td>\n",
              "      <td>9.30</td>\n",
              "    </tr>\n",
              "    <tr>\n",
              "      <th>1</th>\n",
              "      <td>DRC01</td>\n",
              "      <td>Regular</td>\n",
              "      <td>0.019278</td>\n",
              "      <td>Soft Drinks</td>\n",
              "      <td>48.2692</td>\n",
              "      <td>OUT018</td>\n",
              "      <td>2009</td>\n",
              "      <td>Medium</td>\n",
              "      <td>Tier 3</td>\n",
              "      <td>Supermarket Type2</td>\n",
              "      <td>443.4228</td>\n",
              "      <td>5.92</td>\n",
              "    </tr>\n",
              "    <tr>\n",
              "      <th>2</th>\n",
              "      <td>FDN15</td>\n",
              "      <td>Low Fat</td>\n",
              "      <td>0.016760</td>\n",
              "      <td>Meat</td>\n",
              "      <td>141.6180</td>\n",
              "      <td>OUT049</td>\n",
              "      <td>1999</td>\n",
              "      <td>Medium</td>\n",
              "      <td>Tier 1</td>\n",
              "      <td>Supermarket Type1</td>\n",
              "      <td>2097.2700</td>\n",
              "      <td>17.50</td>\n",
              "    </tr>\n",
              "    <tr>\n",
              "      <th>3</th>\n",
              "      <td>FDX07</td>\n",
              "      <td>Regular</td>\n",
              "      <td>0.000000</td>\n",
              "      <td>Fruits and Vegetables</td>\n",
              "      <td>182.0950</td>\n",
              "      <td>OUT010</td>\n",
              "      <td>1998</td>\n",
              "      <td>Small</td>\n",
              "      <td>Tier 3</td>\n",
              "      <td>Grocery Store</td>\n",
              "      <td>732.3800</td>\n",
              "      <td>19.20</td>\n",
              "    </tr>\n",
              "    <tr>\n",
              "      <th>4</th>\n",
              "      <td>NCD19</td>\n",
              "      <td>Low Fat</td>\n",
              "      <td>0.000000</td>\n",
              "      <td>Household</td>\n",
              "      <td>53.8614</td>\n",
              "      <td>OUT013</td>\n",
              "      <td>1987</td>\n",
              "      <td>High</td>\n",
              "      <td>Tier 3</td>\n",
              "      <td>Supermarket Type1</td>\n",
              "      <td>994.7052</td>\n",
              "      <td>8.93</td>\n",
              "    </tr>\n",
              "  </tbody>\n",
              "</table>\n",
              "</div>\n",
              "      <button class=\"colab-df-convert\" onclick=\"convertToInteractive('df-2181be03-5b06-4729-b454-f7ae6e40c450')\"\n",
              "              title=\"Convert this dataframe to an interactive table.\"\n",
              "              style=\"display:none;\">\n",
              "        \n",
              "  <svg xmlns=\"http://www.w3.org/2000/svg\" height=\"24px\"viewBox=\"0 0 24 24\"\n",
              "       width=\"24px\">\n",
              "    <path d=\"M0 0h24v24H0V0z\" fill=\"none\"/>\n",
              "    <path d=\"M18.56 5.44l.94 2.06.94-2.06 2.06-.94-2.06-.94-.94-2.06-.94 2.06-2.06.94zm-11 1L8.5 8.5l.94-2.06 2.06-.94-2.06-.94L8.5 2.5l-.94 2.06-2.06.94zm10 10l.94 2.06.94-2.06 2.06-.94-2.06-.94-.94-2.06-.94 2.06-2.06.94z\"/><path d=\"M17.41 7.96l-1.37-1.37c-.4-.4-.92-.59-1.43-.59-.52 0-1.04.2-1.43.59L10.3 9.45l-7.72 7.72c-.78.78-.78 2.05 0 2.83L4 21.41c.39.39.9.59 1.41.59.51 0 1.02-.2 1.41-.59l7.78-7.78 2.81-2.81c.8-.78.8-2.07 0-2.86zM5.41 20L4 18.59l7.72-7.72 1.47 1.35L5.41 20z\"/>\n",
              "  </svg>\n",
              "      </button>\n",
              "      \n",
              "  <style>\n",
              "    .colab-df-container {\n",
              "      display:flex;\n",
              "      flex-wrap:wrap;\n",
              "      gap: 12px;\n",
              "    }\n",
              "\n",
              "    .colab-df-convert {\n",
              "      background-color: #E8F0FE;\n",
              "      border: none;\n",
              "      border-radius: 50%;\n",
              "      cursor: pointer;\n",
              "      display: none;\n",
              "      fill: #1967D2;\n",
              "      height: 32px;\n",
              "      padding: 0 0 0 0;\n",
              "      width: 32px;\n",
              "    }\n",
              "\n",
              "    .colab-df-convert:hover {\n",
              "      background-color: #E2EBFA;\n",
              "      box-shadow: 0px 1px 2px rgba(60, 64, 67, 0.3), 0px 1px 3px 1px rgba(60, 64, 67, 0.15);\n",
              "      fill: #174EA6;\n",
              "    }\n",
              "\n",
              "    [theme=dark] .colab-df-convert {\n",
              "      background-color: #3B4455;\n",
              "      fill: #D2E3FC;\n",
              "    }\n",
              "\n",
              "    [theme=dark] .colab-df-convert:hover {\n",
              "      background-color: #434B5C;\n",
              "      box-shadow: 0px 1px 3px 1px rgba(0, 0, 0, 0.15);\n",
              "      filter: drop-shadow(0px 1px 2px rgba(0, 0, 0, 0.3));\n",
              "      fill: #FFFFFF;\n",
              "    }\n",
              "  </style>\n",
              "\n",
              "      <script>\n",
              "        const buttonEl =\n",
              "          document.querySelector('#df-2181be03-5b06-4729-b454-f7ae6e40c450 button.colab-df-convert');\n",
              "        buttonEl.style.display =\n",
              "          google.colab.kernel.accessAllowed ? 'block' : 'none';\n",
              "\n",
              "        async function convertToInteractive(key) {\n",
              "          const element = document.querySelector('#df-2181be03-5b06-4729-b454-f7ae6e40c450');\n",
              "          const dataTable =\n",
              "            await google.colab.kernel.invokeFunction('convertToInteractive',\n",
              "                                                     [key], {});\n",
              "          if (!dataTable) return;\n",
              "\n",
              "          const docLinkHtml = 'Like what you see? Visit the ' +\n",
              "            '<a target=\"_blank\" href=https://colab.research.google.com/notebooks/data_table.ipynb>data table notebook</a>'\n",
              "            + ' to learn more about interactive tables.';\n",
              "          element.innerHTML = '';\n",
              "          dataTable['output_type'] = 'display_data';\n",
              "          await google.colab.output.renderOutput(dataTable, element);\n",
              "          const docLink = document.createElement('div');\n",
              "          docLink.innerHTML = docLinkHtml;\n",
              "          element.appendChild(docLink);\n",
              "        }\n",
              "      </script>\n",
              "    </div>\n",
              "  </div>\n",
              "  "
            ]
          },
          "metadata": {},
          "execution_count": 27
        }
      ],
      "source": [
        "df.head()"
      ]
    },
    {
      "cell_type": "code",
      "execution_count": 28,
      "metadata": {
        "colab": {
          "base_uri": "https://localhost:8080/",
          "height": 0
        },
        "id": "gMNTj77hTQye",
        "outputId": "1a99cbe0-362b-47d4-ad82-80e661f74581"
      },
      "outputs": [
        {
          "output_type": "execute_result",
          "data": {
            "text/plain": [
              "                  Item_Visibility     Item_MRP  Outlet_Establishment_Year  \\\n",
              "Item_Fat_Content                                                            \n",
              "LF                      21.054330   43857.1062                     631348   \n",
              "Low Fat                326.461176  717270.7954                   10165059   \n",
              "Regular                200.617851  409116.0404                    5765712   \n",
              "low fat                  7.313655   15071.7328                     223539   \n",
              "reg                      7.764190   15948.6810                     233923   \n",
              "\n",
              "                  Item_Outlet_Sales  Item_Weight  \n",
              "Item_Fat_Content                                  \n",
              "LF                     6.552424e+05     4095.435  \n",
              "Low Fat                1.101059e+07    66020.930  \n",
              "Regular                6.452310e+06    36636.710  \n",
              "low fat                2.338270e+05     1411.150  \n",
              "reg                    2.295765e+05     1521.480  "
            ],
            "text/html": [
              "\n",
              "  <div id=\"df-80682c6a-5fdc-475f-818b-15cb790b7072\">\n",
              "    <div class=\"colab-df-container\">\n",
              "      <div>\n",
              "<style scoped>\n",
              "    .dataframe tbody tr th:only-of-type {\n",
              "        vertical-align: middle;\n",
              "    }\n",
              "\n",
              "    .dataframe tbody tr th {\n",
              "        vertical-align: top;\n",
              "    }\n",
              "\n",
              "    .dataframe thead th {\n",
              "        text-align: right;\n",
              "    }\n",
              "</style>\n",
              "<table border=\"1\" class=\"dataframe\">\n",
              "  <thead>\n",
              "    <tr style=\"text-align: right;\">\n",
              "      <th></th>\n",
              "      <th>Item_Visibility</th>\n",
              "      <th>Item_MRP</th>\n",
              "      <th>Outlet_Establishment_Year</th>\n",
              "      <th>Item_Outlet_Sales</th>\n",
              "      <th>Item_Weight</th>\n",
              "    </tr>\n",
              "    <tr>\n",
              "      <th>Item_Fat_Content</th>\n",
              "      <th></th>\n",
              "      <th></th>\n",
              "      <th></th>\n",
              "      <th></th>\n",
              "      <th></th>\n",
              "    </tr>\n",
              "  </thead>\n",
              "  <tbody>\n",
              "    <tr>\n",
              "      <th>LF</th>\n",
              "      <td>21.054330</td>\n",
              "      <td>43857.1062</td>\n",
              "      <td>631348</td>\n",
              "      <td>6.552424e+05</td>\n",
              "      <td>4095.435</td>\n",
              "    </tr>\n",
              "    <tr>\n",
              "      <th>Low Fat</th>\n",
              "      <td>326.461176</td>\n",
              "      <td>717270.7954</td>\n",
              "      <td>10165059</td>\n",
              "      <td>1.101059e+07</td>\n",
              "      <td>66020.930</td>\n",
              "    </tr>\n",
              "    <tr>\n",
              "      <th>Regular</th>\n",
              "      <td>200.617851</td>\n",
              "      <td>409116.0404</td>\n",
              "      <td>5765712</td>\n",
              "      <td>6.452310e+06</td>\n",
              "      <td>36636.710</td>\n",
              "    </tr>\n",
              "    <tr>\n",
              "      <th>low fat</th>\n",
              "      <td>7.313655</td>\n",
              "      <td>15071.7328</td>\n",
              "      <td>223539</td>\n",
              "      <td>2.338270e+05</td>\n",
              "      <td>1411.150</td>\n",
              "    </tr>\n",
              "    <tr>\n",
              "      <th>reg</th>\n",
              "      <td>7.764190</td>\n",
              "      <td>15948.6810</td>\n",
              "      <td>233923</td>\n",
              "      <td>2.295765e+05</td>\n",
              "      <td>1521.480</td>\n",
              "    </tr>\n",
              "  </tbody>\n",
              "</table>\n",
              "</div>\n",
              "      <button class=\"colab-df-convert\" onclick=\"convertToInteractive('df-80682c6a-5fdc-475f-818b-15cb790b7072')\"\n",
              "              title=\"Convert this dataframe to an interactive table.\"\n",
              "              style=\"display:none;\">\n",
              "        \n",
              "  <svg xmlns=\"http://www.w3.org/2000/svg\" height=\"24px\"viewBox=\"0 0 24 24\"\n",
              "       width=\"24px\">\n",
              "    <path d=\"M0 0h24v24H0V0z\" fill=\"none\"/>\n",
              "    <path d=\"M18.56 5.44l.94 2.06.94-2.06 2.06-.94-2.06-.94-.94-2.06-.94 2.06-2.06.94zm-11 1L8.5 8.5l.94-2.06 2.06-.94-2.06-.94L8.5 2.5l-.94 2.06-2.06.94zm10 10l.94 2.06.94-2.06 2.06-.94-2.06-.94-.94-2.06-.94 2.06-2.06.94z\"/><path d=\"M17.41 7.96l-1.37-1.37c-.4-.4-.92-.59-1.43-.59-.52 0-1.04.2-1.43.59L10.3 9.45l-7.72 7.72c-.78.78-.78 2.05 0 2.83L4 21.41c.39.39.9.59 1.41.59.51 0 1.02-.2 1.41-.59l7.78-7.78 2.81-2.81c.8-.78.8-2.07 0-2.86zM5.41 20L4 18.59l7.72-7.72 1.47 1.35L5.41 20z\"/>\n",
              "  </svg>\n",
              "      </button>\n",
              "      \n",
              "  <style>\n",
              "    .colab-df-container {\n",
              "      display:flex;\n",
              "      flex-wrap:wrap;\n",
              "      gap: 12px;\n",
              "    }\n",
              "\n",
              "    .colab-df-convert {\n",
              "      background-color: #E8F0FE;\n",
              "      border: none;\n",
              "      border-radius: 50%;\n",
              "      cursor: pointer;\n",
              "      display: none;\n",
              "      fill: #1967D2;\n",
              "      height: 32px;\n",
              "      padding: 0 0 0 0;\n",
              "      width: 32px;\n",
              "    }\n",
              "\n",
              "    .colab-df-convert:hover {\n",
              "      background-color: #E2EBFA;\n",
              "      box-shadow: 0px 1px 2px rgba(60, 64, 67, 0.3), 0px 1px 3px 1px rgba(60, 64, 67, 0.15);\n",
              "      fill: #174EA6;\n",
              "    }\n",
              "\n",
              "    [theme=dark] .colab-df-convert {\n",
              "      background-color: #3B4455;\n",
              "      fill: #D2E3FC;\n",
              "    }\n",
              "\n",
              "    [theme=dark] .colab-df-convert:hover {\n",
              "      background-color: #434B5C;\n",
              "      box-shadow: 0px 1px 3px 1px rgba(0, 0, 0, 0.15);\n",
              "      filter: drop-shadow(0px 1px 2px rgba(0, 0, 0, 0.3));\n",
              "      fill: #FFFFFF;\n",
              "    }\n",
              "  </style>\n",
              "\n",
              "      <script>\n",
              "        const buttonEl =\n",
              "          document.querySelector('#df-80682c6a-5fdc-475f-818b-15cb790b7072 button.colab-df-convert');\n",
              "        buttonEl.style.display =\n",
              "          google.colab.kernel.accessAllowed ? 'block' : 'none';\n",
              "\n",
              "        async function convertToInteractive(key) {\n",
              "          const element = document.querySelector('#df-80682c6a-5fdc-475f-818b-15cb790b7072');\n",
              "          const dataTable =\n",
              "            await google.colab.kernel.invokeFunction('convertToInteractive',\n",
              "                                                     [key], {});\n",
              "          if (!dataTable) return;\n",
              "\n",
              "          const docLinkHtml = 'Like what you see? Visit the ' +\n",
              "            '<a target=\"_blank\" href=https://colab.research.google.com/notebooks/data_table.ipynb>data table notebook</a>'\n",
              "            + ' to learn more about interactive tables.';\n",
              "          element.innerHTML = '';\n",
              "          dataTable['output_type'] = 'display_data';\n",
              "          await google.colab.output.renderOutput(dataTable, element);\n",
              "          const docLink = document.createElement('div');\n",
              "          docLink.innerHTML = docLinkHtml;\n",
              "          element.appendChild(docLink);\n",
              "        }\n",
              "      </script>\n",
              "    </div>\n",
              "  </div>\n",
              "  "
            ]
          },
          "metadata": {},
          "execution_count": 28
        }
      ],
      "source": [
        "df.groupby(['Item_Fat_Content']).sum()\n"
      ]
    },
    {
      "cell_type": "code",
      "execution_count": 29,
      "metadata": {
        "colab": {
          "base_uri": "https://localhost:8080/"
        },
        "id": "rMQCO0JWwkaM",
        "outputId": "b8ccb088-e6ba-40b3-b9c8-b56e2b1f088c"
      },
      "outputs": [
        {
          "output_type": "execute_result",
          "data": {
            "text/plain": [
              "array(['Low Fat', 'Regular', 'low fat', 'LF', 'reg'], dtype=object)"
            ]
          },
          "metadata": {},
          "execution_count": 29
        }
      ],
      "source": [
        "df['Item_Fat_Content'].unique()"
      ]
    },
    {
      "cell_type": "code",
      "execution_count": 30,
      "metadata": {
        "id": "pfg73vYyTxKj"
      },
      "outputs": [],
      "source": [
        "#df['Item_Fat_Content'] = df['Item_Fat_Content'].str.replace('LF', 'Low Fat') \n",
        "df['Item_Fat_Content'].replace({'LF': 'Low Fat', 'low fat': 'Low Fat', 'reg': 'Regular'},inplace=True) "
      ]
    },
    {
      "cell_type": "code",
      "execution_count": 31,
      "metadata": {
        "colab": {
          "base_uri": "https://localhost:8080/",
          "height": 0
        },
        "id": "SqOZvV_vXF_k",
        "outputId": "1b0c6db9-ca3e-4f95-a85e-e0acef51b00b"
      },
      "outputs": [
        {
          "output_type": "execute_result",
          "data": {
            "text/plain": [
              "                  Item_Visibility     Item_MRP  Outlet_Establishment_Year  \\\n",
              "Item_Fat_Content                                                            \n",
              "Low Fat                354.829161  776199.6344                   11019946   \n",
              "Regular                208.382041  425064.7214                    5999635   \n",
              "\n",
              "                  Item_Outlet_Sales  Item_Weight  \n",
              "Item_Fat_Content                                  \n",
              "Low Fat                1.189966e+07    71527.515  \n",
              "Regular                6.681887e+06    38158.190  "
            ],
            "text/html": [
              "\n",
              "  <div id=\"df-62da6a2b-e77c-46e4-a5e8-6bcc21e516a9\">\n",
              "    <div class=\"colab-df-container\">\n",
              "      <div>\n",
              "<style scoped>\n",
              "    .dataframe tbody tr th:only-of-type {\n",
              "        vertical-align: middle;\n",
              "    }\n",
              "\n",
              "    .dataframe tbody tr th {\n",
              "        vertical-align: top;\n",
              "    }\n",
              "\n",
              "    .dataframe thead th {\n",
              "        text-align: right;\n",
              "    }\n",
              "</style>\n",
              "<table border=\"1\" class=\"dataframe\">\n",
              "  <thead>\n",
              "    <tr style=\"text-align: right;\">\n",
              "      <th></th>\n",
              "      <th>Item_Visibility</th>\n",
              "      <th>Item_MRP</th>\n",
              "      <th>Outlet_Establishment_Year</th>\n",
              "      <th>Item_Outlet_Sales</th>\n",
              "      <th>Item_Weight</th>\n",
              "    </tr>\n",
              "    <tr>\n",
              "      <th>Item_Fat_Content</th>\n",
              "      <th></th>\n",
              "      <th></th>\n",
              "      <th></th>\n",
              "      <th></th>\n",
              "      <th></th>\n",
              "    </tr>\n",
              "  </thead>\n",
              "  <tbody>\n",
              "    <tr>\n",
              "      <th>Low Fat</th>\n",
              "      <td>354.829161</td>\n",
              "      <td>776199.6344</td>\n",
              "      <td>11019946</td>\n",
              "      <td>1.189966e+07</td>\n",
              "      <td>71527.515</td>\n",
              "    </tr>\n",
              "    <tr>\n",
              "      <th>Regular</th>\n",
              "      <td>208.382041</td>\n",
              "      <td>425064.7214</td>\n",
              "      <td>5999635</td>\n",
              "      <td>6.681887e+06</td>\n",
              "      <td>38158.190</td>\n",
              "    </tr>\n",
              "  </tbody>\n",
              "</table>\n",
              "</div>\n",
              "      <button class=\"colab-df-convert\" onclick=\"convertToInteractive('df-62da6a2b-e77c-46e4-a5e8-6bcc21e516a9')\"\n",
              "              title=\"Convert this dataframe to an interactive table.\"\n",
              "              style=\"display:none;\">\n",
              "        \n",
              "  <svg xmlns=\"http://www.w3.org/2000/svg\" height=\"24px\"viewBox=\"0 0 24 24\"\n",
              "       width=\"24px\">\n",
              "    <path d=\"M0 0h24v24H0V0z\" fill=\"none\"/>\n",
              "    <path d=\"M18.56 5.44l.94 2.06.94-2.06 2.06-.94-2.06-.94-.94-2.06-.94 2.06-2.06.94zm-11 1L8.5 8.5l.94-2.06 2.06-.94-2.06-.94L8.5 2.5l-.94 2.06-2.06.94zm10 10l.94 2.06.94-2.06 2.06-.94-2.06-.94-.94-2.06-.94 2.06-2.06.94z\"/><path d=\"M17.41 7.96l-1.37-1.37c-.4-.4-.92-.59-1.43-.59-.52 0-1.04.2-1.43.59L10.3 9.45l-7.72 7.72c-.78.78-.78 2.05 0 2.83L4 21.41c.39.39.9.59 1.41.59.51 0 1.02-.2 1.41-.59l7.78-7.78 2.81-2.81c.8-.78.8-2.07 0-2.86zM5.41 20L4 18.59l7.72-7.72 1.47 1.35L5.41 20z\"/>\n",
              "  </svg>\n",
              "      </button>\n",
              "      \n",
              "  <style>\n",
              "    .colab-df-container {\n",
              "      display:flex;\n",
              "      flex-wrap:wrap;\n",
              "      gap: 12px;\n",
              "    }\n",
              "\n",
              "    .colab-df-convert {\n",
              "      background-color: #E8F0FE;\n",
              "      border: none;\n",
              "      border-radius: 50%;\n",
              "      cursor: pointer;\n",
              "      display: none;\n",
              "      fill: #1967D2;\n",
              "      height: 32px;\n",
              "      padding: 0 0 0 0;\n",
              "      width: 32px;\n",
              "    }\n",
              "\n",
              "    .colab-df-convert:hover {\n",
              "      background-color: #E2EBFA;\n",
              "      box-shadow: 0px 1px 2px rgba(60, 64, 67, 0.3), 0px 1px 3px 1px rgba(60, 64, 67, 0.15);\n",
              "      fill: #174EA6;\n",
              "    }\n",
              "\n",
              "    [theme=dark] .colab-df-convert {\n",
              "      background-color: #3B4455;\n",
              "      fill: #D2E3FC;\n",
              "    }\n",
              "\n",
              "    [theme=dark] .colab-df-convert:hover {\n",
              "      background-color: #434B5C;\n",
              "      box-shadow: 0px 1px 3px 1px rgba(0, 0, 0, 0.15);\n",
              "      filter: drop-shadow(0px 1px 2px rgba(0, 0, 0, 0.3));\n",
              "      fill: #FFFFFF;\n",
              "    }\n",
              "  </style>\n",
              "\n",
              "      <script>\n",
              "        const buttonEl =\n",
              "          document.querySelector('#df-62da6a2b-e77c-46e4-a5e8-6bcc21e516a9 button.colab-df-convert');\n",
              "        buttonEl.style.display =\n",
              "          google.colab.kernel.accessAllowed ? 'block' : 'none';\n",
              "\n",
              "        async function convertToInteractive(key) {\n",
              "          const element = document.querySelector('#df-62da6a2b-e77c-46e4-a5e8-6bcc21e516a9');\n",
              "          const dataTable =\n",
              "            await google.colab.kernel.invokeFunction('convertToInteractive',\n",
              "                                                     [key], {});\n",
              "          if (!dataTable) return;\n",
              "\n",
              "          const docLinkHtml = 'Like what you see? Visit the ' +\n",
              "            '<a target=\"_blank\" href=https://colab.research.google.com/notebooks/data_table.ipynb>data table notebook</a>'\n",
              "            + ' to learn more about interactive tables.';\n",
              "          element.innerHTML = '';\n",
              "          dataTable['output_type'] = 'display_data';\n",
              "          await google.colab.output.renderOutput(dataTable, element);\n",
              "          const docLink = document.createElement('div');\n",
              "          docLink.innerHTML = docLinkHtml;\n",
              "          element.appendChild(docLink);\n",
              "        }\n",
              "      </script>\n",
              "    </div>\n",
              "  </div>\n",
              "  "
            ]
          },
          "metadata": {},
          "execution_count": 31
        }
      ],
      "source": [
        "df.groupby(['Item_Fat_Content']).sum()"
      ]
    },
    {
      "cell_type": "markdown",
      "metadata": {
        "id": "4OvYCkayaJk8"
      },
      "source": [
        "# 8) For any numerical columns, obtain the summary statistics of each (min, max, mean)"
      ]
    },
    {
      "cell_type": "code",
      "execution_count": 32,
      "metadata": {
        "colab": {
          "base_uri": "https://localhost:8080/",
          "height": 0
        },
        "id": "OytuX1QYZXBV",
        "outputId": "3842cdf0-46f8-4a63-a2d8-d34de7b442e9"
      },
      "outputs": [
        {
          "output_type": "execute_result",
          "data": {
            "text/plain": [
              "       Item_Visibility     Item_MRP  Outlet_Establishment_Year  \\\n",
              "count      8519.000000  8519.000000                8519.000000   \n",
              "mean          0.066112   141.010019                1997.837892   \n",
              "std           0.051586    62.283594                   8.369105   \n",
              "min           0.000000    31.290000                1985.000000   \n",
              "25%           0.026983    93.844900                1987.000000   \n",
              "50%           0.053925   143.047000                1999.000000   \n",
              "75%           0.094558   185.676600                2004.000000   \n",
              "max           0.328391   266.888400                2009.000000   \n",
              "\n",
              "       Item_Outlet_Sales  Item_Weight  \n",
              "count        8519.000000  8519.000000  \n",
              "mean         2181.188779    12.875420  \n",
              "std          1706.511093     4.646098  \n",
              "min            33.290000     4.555000  \n",
              "25%           834.247400     8.785000  \n",
              "50%          1794.331000    12.650000  \n",
              "75%          3100.630600    16.850000  \n",
              "max         13086.964800    21.350000  "
            ],
            "text/html": [
              "\n",
              "  <div id=\"df-d260fba4-21ae-4e34-9cef-13c5d11f9963\">\n",
              "    <div class=\"colab-df-container\">\n",
              "      <div>\n",
              "<style scoped>\n",
              "    .dataframe tbody tr th:only-of-type {\n",
              "        vertical-align: middle;\n",
              "    }\n",
              "\n",
              "    .dataframe tbody tr th {\n",
              "        vertical-align: top;\n",
              "    }\n",
              "\n",
              "    .dataframe thead th {\n",
              "        text-align: right;\n",
              "    }\n",
              "</style>\n",
              "<table border=\"1\" class=\"dataframe\">\n",
              "  <thead>\n",
              "    <tr style=\"text-align: right;\">\n",
              "      <th></th>\n",
              "      <th>Item_Visibility</th>\n",
              "      <th>Item_MRP</th>\n",
              "      <th>Outlet_Establishment_Year</th>\n",
              "      <th>Item_Outlet_Sales</th>\n",
              "      <th>Item_Weight</th>\n",
              "    </tr>\n",
              "  </thead>\n",
              "  <tbody>\n",
              "    <tr>\n",
              "      <th>count</th>\n",
              "      <td>8519.000000</td>\n",
              "      <td>8519.000000</td>\n",
              "      <td>8519.000000</td>\n",
              "      <td>8519.000000</td>\n",
              "      <td>8519.000000</td>\n",
              "    </tr>\n",
              "    <tr>\n",
              "      <th>mean</th>\n",
              "      <td>0.066112</td>\n",
              "      <td>141.010019</td>\n",
              "      <td>1997.837892</td>\n",
              "      <td>2181.188779</td>\n",
              "      <td>12.875420</td>\n",
              "    </tr>\n",
              "    <tr>\n",
              "      <th>std</th>\n",
              "      <td>0.051586</td>\n",
              "      <td>62.283594</td>\n",
              "      <td>8.369105</td>\n",
              "      <td>1706.511093</td>\n",
              "      <td>4.646098</td>\n",
              "    </tr>\n",
              "    <tr>\n",
              "      <th>min</th>\n",
              "      <td>0.000000</td>\n",
              "      <td>31.290000</td>\n",
              "      <td>1985.000000</td>\n",
              "      <td>33.290000</td>\n",
              "      <td>4.555000</td>\n",
              "    </tr>\n",
              "    <tr>\n",
              "      <th>25%</th>\n",
              "      <td>0.026983</td>\n",
              "      <td>93.844900</td>\n",
              "      <td>1987.000000</td>\n",
              "      <td>834.247400</td>\n",
              "      <td>8.785000</td>\n",
              "    </tr>\n",
              "    <tr>\n",
              "      <th>50%</th>\n",
              "      <td>0.053925</td>\n",
              "      <td>143.047000</td>\n",
              "      <td>1999.000000</td>\n",
              "      <td>1794.331000</td>\n",
              "      <td>12.650000</td>\n",
              "    </tr>\n",
              "    <tr>\n",
              "      <th>75%</th>\n",
              "      <td>0.094558</td>\n",
              "      <td>185.676600</td>\n",
              "      <td>2004.000000</td>\n",
              "      <td>3100.630600</td>\n",
              "      <td>16.850000</td>\n",
              "    </tr>\n",
              "    <tr>\n",
              "      <th>max</th>\n",
              "      <td>0.328391</td>\n",
              "      <td>266.888400</td>\n",
              "      <td>2009.000000</td>\n",
              "      <td>13086.964800</td>\n",
              "      <td>21.350000</td>\n",
              "    </tr>\n",
              "  </tbody>\n",
              "</table>\n",
              "</div>\n",
              "      <button class=\"colab-df-convert\" onclick=\"convertToInteractive('df-d260fba4-21ae-4e34-9cef-13c5d11f9963')\"\n",
              "              title=\"Convert this dataframe to an interactive table.\"\n",
              "              style=\"display:none;\">\n",
              "        \n",
              "  <svg xmlns=\"http://www.w3.org/2000/svg\" height=\"24px\"viewBox=\"0 0 24 24\"\n",
              "       width=\"24px\">\n",
              "    <path d=\"M0 0h24v24H0V0z\" fill=\"none\"/>\n",
              "    <path d=\"M18.56 5.44l.94 2.06.94-2.06 2.06-.94-2.06-.94-.94-2.06-.94 2.06-2.06.94zm-11 1L8.5 8.5l.94-2.06 2.06-.94-2.06-.94L8.5 2.5l-.94 2.06-2.06.94zm10 10l.94 2.06.94-2.06 2.06-.94-2.06-.94-.94-2.06-.94 2.06-2.06.94z\"/><path d=\"M17.41 7.96l-1.37-1.37c-.4-.4-.92-.59-1.43-.59-.52 0-1.04.2-1.43.59L10.3 9.45l-7.72 7.72c-.78.78-.78 2.05 0 2.83L4 21.41c.39.39.9.59 1.41.59.51 0 1.02-.2 1.41-.59l7.78-7.78 2.81-2.81c.8-.78.8-2.07 0-2.86zM5.41 20L4 18.59l7.72-7.72 1.47 1.35L5.41 20z\"/>\n",
              "  </svg>\n",
              "      </button>\n",
              "      \n",
              "  <style>\n",
              "    .colab-df-container {\n",
              "      display:flex;\n",
              "      flex-wrap:wrap;\n",
              "      gap: 12px;\n",
              "    }\n",
              "\n",
              "    .colab-df-convert {\n",
              "      background-color: #E8F0FE;\n",
              "      border: none;\n",
              "      border-radius: 50%;\n",
              "      cursor: pointer;\n",
              "      display: none;\n",
              "      fill: #1967D2;\n",
              "      height: 32px;\n",
              "      padding: 0 0 0 0;\n",
              "      width: 32px;\n",
              "    }\n",
              "\n",
              "    .colab-df-convert:hover {\n",
              "      background-color: #E2EBFA;\n",
              "      box-shadow: 0px 1px 2px rgba(60, 64, 67, 0.3), 0px 1px 3px 1px rgba(60, 64, 67, 0.15);\n",
              "      fill: #174EA6;\n",
              "    }\n",
              "\n",
              "    [theme=dark] .colab-df-convert {\n",
              "      background-color: #3B4455;\n",
              "      fill: #D2E3FC;\n",
              "    }\n",
              "\n",
              "    [theme=dark] .colab-df-convert:hover {\n",
              "      background-color: #434B5C;\n",
              "      box-shadow: 0px 1px 3px 1px rgba(0, 0, 0, 0.15);\n",
              "      filter: drop-shadow(0px 1px 2px rgba(0, 0, 0, 0.3));\n",
              "      fill: #FFFFFF;\n",
              "    }\n",
              "  </style>\n",
              "\n",
              "      <script>\n",
              "        const buttonEl =\n",
              "          document.querySelector('#df-d260fba4-21ae-4e34-9cef-13c5d11f9963 button.colab-df-convert');\n",
              "        buttonEl.style.display =\n",
              "          google.colab.kernel.accessAllowed ? 'block' : 'none';\n",
              "\n",
              "        async function convertToInteractive(key) {\n",
              "          const element = document.querySelector('#df-d260fba4-21ae-4e34-9cef-13c5d11f9963');\n",
              "          const dataTable =\n",
              "            await google.colab.kernel.invokeFunction('convertToInteractive',\n",
              "                                                     [key], {});\n",
              "          if (!dataTable) return;\n",
              "\n",
              "          const docLinkHtml = 'Like what you see? Visit the ' +\n",
              "            '<a target=\"_blank\" href=https://colab.research.google.com/notebooks/data_table.ipynb>data table notebook</a>'\n",
              "            + ' to learn more about interactive tables.';\n",
              "          element.innerHTML = '';\n",
              "          dataTable['output_type'] = 'display_data';\n",
              "          await google.colab.output.renderOutput(dataTable, element);\n",
              "          const docLink = document.createElement('div');\n",
              "          docLink.innerHTML = docLinkHtml;\n",
              "          element.appendChild(docLink);\n",
              "        }\n",
              "      </script>\n",
              "    </div>\n",
              "  </div>\n",
              "  "
            ]
          },
          "metadata": {},
          "execution_count": 32
        }
      ],
      "source": [
        "df.describe()"
      ]
    },
    {
      "cell_type": "markdown",
      "metadata": {
        "id": "PUw9PsloL9l8"
      },
      "source": [
        "# Project 1- Part 4 (Core) "
      ]
    },
    {
      "cell_type": "markdown",
      "metadata": {
        "id": "zZk8i1XwSiPW"
      },
      "source": [
        "## Code and Graph below will show Total count of sold Item Type.\n",
        "##It seems that Fruits and Vegetables are the most bought item."
      ]
    },
    {
      "cell_type": "code",
      "execution_count": 33,
      "metadata": {
        "colab": {
          "base_uri": "https://localhost:8080/"
        },
        "id": "hiQ6JRS2RToH",
        "outputId": "e8c2b414-51a5-4c03-fa8e-d55d8595761d"
      },
      "outputs": [
        {
          "output_type": "execute_result",
          "data": {
            "text/plain": [
              "Item_Type\n",
              "Fruits and Vegetables    1232\n",
              "Snack Foods              1199\n",
              "Household                 910\n",
              "Frozen Foods              855\n",
              "Dairy                     681\n",
              "Canned                    649\n",
              "Baking Goods              647\n",
              "Health and Hygiene        520\n",
              "Soft Drinks               445\n",
              "Meat                      425\n",
              "Breads                    251\n",
              "Hard Drinks               214\n",
              "Others                    169\n",
              "Starchy Foods             148\n",
              "Breakfast                 110\n",
              "Seafood                    64\n",
              "Name: Item_Outlet_Sales, dtype: int64"
            ]
          },
          "metadata": {},
          "execution_count": 33
        }
      ],
      "source": [
        "# groupby columns\n",
        "items = df.groupby(['Item_Type'])['Item_Outlet_Sales'].count().sort_values(ascending = False)\n",
        "items"
      ]
    },
    {
      "cell_type": "code",
      "execution_count": 34,
      "metadata": {
        "colab": {
          "base_uri": "https://localhost:8080/"
        },
        "id": "GKCg5pRAR2jn",
        "outputId": "3751a20f-d374-42e2-9eb3-7ffc7a6323ea"
      },
      "outputs": [
        {
          "output_type": "execute_result",
          "data": {
            "text/plain": [
              "Index(['Fruits and Vegetables', 'Snack Foods', 'Household', 'Frozen Foods',\n",
              "       'Dairy', 'Canned', 'Baking Goods', 'Health and Hygiene', 'Soft Drinks',\n",
              "       'Meat', 'Breads', 'Hard Drinks', 'Others', 'Starchy Foods', 'Breakfast',\n",
              "       'Seafood'],\n",
              "      dtype='object', name='Item_Type')"
            ]
          },
          "metadata": {},
          "execution_count": 34
        }
      ],
      "source": [
        "# index\n",
        "items.index"
      ]
    },
    {
      "cell_type": "code",
      "execution_count": 35,
      "metadata": {
        "colab": {
          "base_uri": "https://localhost:8080/"
        },
        "id": "IqKoBKgAR5rl",
        "outputId": "273b9479-491f-46af-8d3b-ba8ceeba3531"
      },
      "outputs": [
        {
          "output_type": "execute_result",
          "data": {
            "text/plain": [
              "array([1232, 1199,  910,  855,  681,  649,  647,  520,  445,  425,  251,\n",
              "        214,  169,  148,  110,   64])"
            ]
          },
          "metadata": {},
          "execution_count": 35
        }
      ],
      "source": [
        "# values\n",
        "items.values"
      ]
    },
    {
      "cell_type": "markdown",
      "metadata": {
        "id": "EOT_SBh6Xi7U"
      },
      "source": [
        "Code below will create a Barplot that will show wich Item Type is the most bought by costumers."
      ]
    },
    {
      "cell_type": "code",
      "execution_count": 36,
      "metadata": {
        "colab": {
          "base_uri": "https://localhost:8080/",
          "height": 0
        },
        "id": "dpvwi706SqXS",
        "outputId": "1ddd340f-4a51-4cbd-91be-eabd33d4ff81"
      },
      "outputs": [
        {
          "output_type": "display_data",
          "data": {
            "text/plain": [
              "<Figure size 1152x432 with 1 Axes>"
            ],
            "image/png": "[encoded data removed]"
          },
          "metadata": {
            "needs_background": "light"
          }
        }
      ],
      "source": [
        "# Subplots and figure size\n",
        "fig, axes = plt.subplots(nrows = 1, ncols = 1, figsize = (16 ,6));\n",
        "# Bar Graph\n",
        "g = sns.barplot(items.index, items.values, palette = 'cubehelix');\n",
        "\n",
        "# deal with the scientific notation\n",
        "for i in ['top', 'right']:\n",
        "    g.spines[i].set_visible(False);\n",
        "\n",
        "# Display value at the top of the bar      \n",
        "for i in g.patches:\n",
        "    g.text(i.get_x()+i.get_width()/3.5,\n",
        "           i.get_height()+10,\n",
        "           round(i.get_height()),\n",
        "           fontsize=12);\n",
        "# Ticklabel format           \n",
        "plt.ticklabel_format(style='plain', axis='y');\n",
        "#xticks\n",
        "plt.xticks(rotation = 90);\n",
        "#xlabel\n",
        "plt.xlabel('Item Type', fontsize = 20);\n",
        "#ylabel\n",
        "plt.ylabel('Total Items', fontsize = 20);\n",
        "#yticklabel empty\n",
        "g.set(yticklabels=[]);\n",
        "#title\n",
        "plt.title('Total Number of Sold per Items', fontsize = 20);"
      ]
    },
    {
      "cell_type": "markdown",
      "metadata": {
        "id": "tGRMzxwdOfLo"
      },
      "source": [
        "## Code and Graph below will show the Total sales percentage by Outlet Location and Outlet Type. From the Donut Graph below it shows that outlet location *Tier 2* and outlet type *Supermarket 1* has the highest sales combination."
      ]
    },
    {
      "cell_type": "code",
      "execution_count": 37,
      "metadata": {
        "colab": {
          "base_uri": "https://localhost:8080/"
        },
        "id": "SmSdV14L_-pi",
        "outputId": "8e741de6-8f98-4efe-9ca1-c228c36cdb18"
      },
      "outputs": [
        {
          "output_type": "execute_result",
          "data": {
            "text/plain": [
              "Outlet_Location_Type  Outlet_Type      \n",
              "Tier 1                Grocery Store        1.795736e+05\n",
              "                      Supermarket Type1    4.302365e+06\n",
              "Tier 2                Supermarket Type1    6.472314e+06\n",
              "Tier 3                Grocery Store        1.883402e+05\n",
              "                      Supermarket Type1    2.142664e+06\n",
              "                      Supermarket Type2    1.851823e+06\n",
              "                      Supermarket Type3    3.444468e+06\n",
              "Name: Item_Outlet_Sales, dtype: float64"
            ]
          },
          "metadata": {},
          "execution_count": 37
        }
      ],
      "source": [
        "# Groupby columns\n",
        "pie = df.groupby(['Outlet_Location_Type', 'Outlet_Type'])['Item_Outlet_Sales'].sum()\n",
        "pie"
      ]
    },
    {
      "cell_type": "markdown",
      "metadata": {
        "id": "TzYV_jFjVd30"
      },
      "source": [
        "Code below computes the sum of Sales per Outlet location and Type"
      ]
    },
    {
      "cell_type": "code",
      "execution_count": 38,
      "metadata": {
        "id": "pAW5s7EDFidt"
      },
      "outputs": [],
      "source": [
        "# Filter\n",
        "filter1 = (df['Outlet_Location_Type'] == 'Tier 1') & (df['Outlet_Type'] == 'Grocery Store')\n",
        "# sum of Column item Outlet Sales\n",
        "t1_g1 = df[filter1]['Item_Outlet_Sales'].sum()\n",
        "filter2 = (df['Outlet_Location_Type'] == 'Tier 1') & (df['Outlet_Type'] == 'Supermarket Type1')\n",
        "t1_sm1 = df[filter2]['Item_Outlet_Sales'].sum()\n",
        "filter3 = (df['Outlet_Location_Type'] == 'Tier 2') & (df['Outlet_Type'] == 'Supermarket Type1')\n",
        "t2_sm1 = df[filter3]['Item_Outlet_Sales'].sum()\n",
        "filter4 = (df['Outlet_Location_Type'] == 'Tier 3') & (df['Outlet_Type'] == 'Grocery Store')\n",
        "t3_g1 = df[filter4]['Item_Outlet_Sales'].sum()\n",
        "filter5 = (df['Outlet_Location_Type'] == 'Tier 3') & (df['Outlet_Type'] == 'Supermarket Type1')\n",
        "t3_sm1 = df[filter5]['Item_Outlet_Sales'].sum()\n",
        "filter6 = (df['Outlet_Location_Type'] == 'Tier 3') & (df['Outlet_Type'] == 'Supermarket Type2')\n",
        "t3_sm2 = df[filter6]['Item_Outlet_Sales'].sum()\n",
        "filter7 = (df['Outlet_Location_Type'] == 'Tier 3') & (df['Outlet_Type'] == 'Supermarket Type2')\n",
        "t3_sm3 = df[filter7]['Item_Outlet_Sales'].sum()"
      ]
    },
    {
      "cell_type": "markdown",
      "metadata": {
        "id": "KMRO7af8WJ0s"
      },
      "source": [
        "Code below compute the Total sum of Sales per Outlet Location Type.\n",
        "As well make a LIST to be used as labels in our graph."
      ]
    },
    {
      "cell_type": "code",
      "execution_count": 39,
      "metadata": {
        "id": "v_bSGKH2uxBS"
      },
      "outputs": [],
      "source": [
        "# Sum \n",
        "t1 = t1_g1 + t1_sm1\n",
        "t2 = t2_sm1\n",
        "t3 = t3_g1 + t3_sm1 + t3_sm2 + t3_sm3\n",
        "# make List\n",
        "sum_per_tier = [t1, t2, t3]"
      ]
    },
    {
      "cell_type": "code",
      "execution_count": 40,
      "metadata": {
        "id": "eheK9iWpLVVW"
      },
      "outputs": [],
      "source": [
        "# make a List\n",
        "sales_loc_type = [t1_g1, t1_sm1, t2_sm1, t3_g1, t3_sm1, t3_sm2, t3_sm3]"
      ]
    },
    {
      "cell_type": "code",
      "execution_count": 41,
      "metadata": {
        "id": "DnMkio6oLCn4"
      },
      "outputs": [],
      "source": [
        "# make a List\n",
        "rename = ['Grocery Store',\n",
        "          'Supermarket Type1',\n",
        "          'Supermarket Type1',\n",
        "          'Grocery Store',\n",
        "          'Supermarket Type',\n",
        "          'Supermarket Type2',\n",
        "          ' Supermarket Type3']"
      ]
    },
    {
      "cell_type": "markdown",
      "metadata": {
        "id": "SuByHoLFX9lk"
      },
      "source": [
        "Code below will create a 2 Donut Chart that will show the total percentage of sales per Outlet Location Type and Outlet Type"
      ]
    },
    {
      "cell_type": "code",
      "execution_count": 42,
      "metadata": {
        "colab": {
          "base_uri": "https://localhost:8080/",
          "height": 0
        },
        "id": "a50wTlQE8-yp",
        "outputId": "6d48df8c-9f61-4692-e94a-520c5a31563b"
      },
      "outputs": [
        {
          "output_type": "display_data",
          "data": {
            "text/plain": [
              "<Figure size 720x720 with 2 Axes>"
            ],
            "image/png": "[encoded data removed]"
          },
          "metadata": {}
        }
      ],
      "source": [
        "# Figure Size\n",
        "plt.rcParams['figure.figsize'] = (10, 10)\n",
        "# Subplot\n",
        "plt.subplot(2, 2, 1)\n",
        "# labels\n",
        "labels = df['Outlet_Location_Type'].value_counts().sort_index()\n",
        "tier_labels = labels.index\n",
        "tier_labels\n",
        "#colors\n",
        "colors = sns.color_palette('tab10')\n",
        "#explosion\n",
        "explode = (0.05, 0.05, 0.05)\n",
        "# Pie chart\n",
        "plt.pie(sum_per_tier,\n",
        "        labels = tier_labels,\n",
        "        colors = colors,\n",
        "        radius= 1,\n",
        "        autopct = '%1.1f%%',\n",
        "        pctdistance = 0.85,\n",
        "        startangle = 90,\n",
        "        explode = explode);\n",
        "# Draw circle\n",
        "centre_circle = plt.Circle((0,0),0.70,fc='white')\n",
        "fig = plt.gcf()\n",
        "fig.gca().add_artist(centre_circle)\n",
        "# Equal aspect ratio ensures that pie is drawn as a circle\n",
        "plt.axis('equal')  \n",
        "plt.tight_layout()\n",
        "#legend location\n",
        "plt.legend(loc = 4)\n",
        "plt.title('Sales % as per Outlet Location Type', fontsize = 16, fontstyle = 'italic')\n",
        "\n",
        "\n",
        "# Subplot\n",
        "plt.subplot(2, 2, 2)\n",
        "#colors\n",
        "colors_outlet_type = sns.color_palette('pastel');\n",
        "#explsion\n",
        "explode = (0.05, 0.05, 0.05, 0.05, 0.05, 0.05, 0.05);\n",
        "# Pie chart\n",
        "plt.pie(sales_loc_type,\n",
        "        labels = rename,\n",
        "        colors=colors_outlet_type,\n",
        "        radius= 1,\n",
        "        autopct='%1.1f%%',\n",
        "        pctdistance=0.85,\n",
        "        startangle=90,\n",
        "        explode = explode);\n",
        "# Draw circle\n",
        "centre_circle = plt.Circle((0,0),0.70,fc='white');\n",
        "fig = plt.gcf()\n",
        "fig.gca().add_artist(centre_circle);\n",
        "# Equal aspect ratio ensures that pie is drawn as a circle\n",
        "plt.axis('equal')  \n",
        "plt.tight_layout()\n",
        "# legend location\n",
        "plt.legend(bbox_to_anchor = (1.75, 0.3))\n",
        "# Title \n",
        "plt.title('Sales % as per Oulet Type',\n",
        "          fontsize = 16,\n",
        "          fontstyle = 'italic');"
      ]
    },
    {
      "cell_type": "code",
      "execution_count": 43,
      "metadata": {
        "colab": {
          "base_uri": "https://localhost:8080/",
          "height": 0
        },
        "id": "brbM4xwMZ5h_",
        "outputId": "4ed60d46-e0f2-4b49-c110-0f5b9bd11c7a"
      },
      "outputs": [
        {
          "output_type": "display_data",
          "data": {
            "text/plain": [
              "<Figure size 864x360 with 1 Axes>"
            ],
            "image/png": "[encoded data removed]"
          },
          "metadata": {}
        }
      ],
      "source": [
        "# Figure Size\n",
        "plt.rcParams['figure.figsize'] = (12, 5)\n",
        "# Colors\n",
        "colors = sns.color_palette('tab10');\n",
        "colors_outlet_type = sns.color_palette('pastel');\n",
        "# labels\n",
        "labels = ['Tier 1', 'Tier 2', 'Tier 3'];\n",
        "# Plot\n",
        "plt.pie(sum_per_tier,\n",
        "        labels = tier_labels\n",
        "        , labeldistance = None,\n",
        "        colors = colors,\n",
        "        radius = 1,\n",
        "        textprops = {'color': 'k','fontsize': 20},\n",
        "        startangle = 90,\n",
        "        frame = True);\n",
        "plt.pie(sales_loc_type,\n",
        "        labels = rename,\n",
        "        labeldistance = None,\n",
        "        colors = colors_outlet_type,\n",
        "        radius= 0.7,\n",
        "        startangle = 90)\n",
        "# Draw circle\n",
        "centre_circle = plt.Circle((0,0),0.5,\n",
        "                           color = 'black',\n",
        "                           fc = 'white',\n",
        "                           linewidth = 0);\n",
        "fig = plt.gcf()\n",
        "fig.gca().add_artist(centre_circle);\n",
        " # Equal aspect ratio ensures that pie is drawn as a circle\n",
        "plt.axis('equal');\n",
        "plt.tight_layout();\n",
        "# legend location\n",
        "plt.legend(bbox_to_anchor = (1, 1));\n",
        "# Title \n",
        "plt.title('Total Sales per Location and Type Summary',\n",
        "          fontsize = 20,\n",
        "          fontstyle = 'italic');\n"
      ]
    },
    {
      "cell_type": "markdown",
      "source": [
        "# Project 1 - Part 5 (Core)\n",
        "\n",
        "Below Diagram will be our guide for our Feature Engineering Workflow\n",
        "\n",
        "![image.png](data:image/png;base64,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)"
      ],
      "metadata": {
        "id": "HnKgDVhO0z_t"
      }
    },
    {
      "cell_type": "markdown",
      "source": [
        "## Identify the target (X) and features (y): Assign the \"Item_Outlet_Sales\" column as your target and the rest of the relevant variables as your features matrix.  "
      ],
      "metadata": {
        "id": "3vzPgATo1HW8"
      }
    },
    {
      "cell_type": "code",
      "source": [
        "# Dataset information\n",
        "df.info()"
      ],
      "metadata": {
        "colab": {
          "base_uri": "https://localhost:8080/"
        },
        "id": "sZP3uciK056d",
        "outputId": "bb24d7ac-6bc3-413a-ec06-7c303e23e4a6"
      },
      "execution_count": 44,
      "outputs": [
        {
          "output_type": "stream",
          "name": "stdout",
          "text": [
            "<class 'pandas.core.frame.DataFrame'>\n",
            "Int64Index: 8519 entries, 0 to 8522\n",
            "Data columns (total 12 columns):\n",
            " #   Column                     Non-Null Count  Dtype  \n",
            "---  ------                     --------------  -----  \n",
            " 0   Item_Identifier            8519 non-null   object \n",
            " 1   Item_Fat_Content           8519 non-null   object \n",
            " 2   Item_Visibility            8519 non-null   float64\n",
            " 3   Item_Type                  8519 non-null   object \n",
            " 4   Item_MRP                   8519 non-null   float64\n",
            " 5   Outlet_Identifier          8519 non-null   object \n",
            " 6   Outlet_Establishment_Year  8519 non-null   int64  \n",
            " 7   Outlet_Size                8519 non-null   object \n",
            " 8   Outlet_Location_Type       8519 non-null   object \n",
            " 9   Outlet_Type                8519 non-null   object \n",
            " 10  Item_Outlet_Sales          8519 non-null   float64\n",
            " 11  Item_Weight                8519 non-null   float64\n",
            "dtypes: float64(4), int64(1), object(7)\n",
            "memory usage: 865.2+ KB\n"
          ]
        }
      ]
    },
    {
      "cell_type": "code",
      "source": [
        "# diplay columns\n",
        "df.head()"
      ],
      "metadata": {
        "colab": {
          "base_uri": "https://localhost:8080/",
          "height": 0
        },
        "id": "fNzylEam3AcG",
        "outputId": "828e785c-3947-4f2f-e3ad-78ee529f15f2"
      },
      "execution_count": 45,
      "outputs": [
        {
          "output_type": "execute_result",
          "data": {
            "text/plain": [
              "  Item_Identifier Item_Fat_Content  Item_Visibility              Item_Type  \\\n",
              "0           FDA15          Low Fat         0.016047                  Dairy   \n",
              "1           DRC01          Regular         0.019278            Soft Drinks   \n",
              "2           FDN15          Low Fat         0.016760                   Meat   \n",
              "3           FDX07          Regular         0.000000  Fruits and Vegetables   \n",
              "4           NCD19          Low Fat         0.000000              Household   \n",
              "\n",
              "   Item_MRP Outlet_Identifier  Outlet_Establishment_Year Outlet_Size  \\\n",
              "0  249.8092            OUT049                       1999      Medium   \n",
              "1   48.2692            OUT018                       2009      Medium   \n",
              "2  141.6180            OUT049                       1999      Medium   \n",
              "3  182.0950            OUT010                       1998       Small   \n",
              "4   53.8614            OUT013                       1987        High   \n",
              "\n",
              "  Outlet_Location_Type        Outlet_Type  Item_Outlet_Sales  Item_Weight  \n",
              "0               Tier 1  Supermarket Type1          3735.1380         9.30  \n",
              "1               Tier 3  Supermarket Type2           443.4228         5.92  \n",
              "2               Tier 1  Supermarket Type1          2097.2700        17.50  \n",
              "3               Tier 3      Grocery Store           732.3800        19.20  \n",
              "4               Tier 3  Supermarket Type1           994.7052         8.93  "
            ],
            "text/html": [
              "\n",
              "  <div id=\"df-159f555c-94ed-474e-a2d9-62ce3cd30c1d\">\n",
              "    <div class=\"colab-df-container\">\n",
              "      <div>\n",
              "<style scoped>\n",
              "    .dataframe tbody tr th:only-of-type {\n",
              "        vertical-align: middle;\n",
              "    }\n",
              "\n",
              "    .dataframe tbody tr th {\n",
              "        vertical-align: top;\n",
              "    }\n",
              "\n",
              "    .dataframe thead th {\n",
              "        text-align: right;\n",
              "    }\n",
              "</style>\n",
              "<table border=\"1\" class=\"dataframe\">\n",
              "  <thead>\n",
              "    <tr style=\"text-align: right;\">\n",
              "      <th></th>\n",
              "      <th>Item_Identifier</th>\n",
              "      <th>Item_Fat_Content</th>\n",
              "      <th>Item_Visibility</th>\n",
              "      <th>Item_Type</th>\n",
              "      <th>Item_MRP</th>\n",
              "      <th>Outlet_Identifier</th>\n",
              "      <th>Outlet_Establishment_Year</th>\n",
              "      <th>Outlet_Size</th>\n",
              "      <th>Outlet_Location_Type</th>\n",
              "      <th>Outlet_Type</th>\n",
              "      <th>Item_Outlet_Sales</th>\n",
              "      <th>Item_Weight</th>\n",
              "    </tr>\n",
              "  </thead>\n",
              "  <tbody>\n",
              "    <tr>\n",
              "      <th>0</th>\n",
              "      <td>FDA15</td>\n",
              "      <td>Low Fat</td>\n",
              "      <td>0.016047</td>\n",
              "      <td>Dairy</td>\n",
              "      <td>249.8092</td>\n",
              "      <td>OUT049</td>\n",
              "      <td>1999</td>\n",
              "      <td>Medium</td>\n",
              "      <td>Tier 1</td>\n",
              "      <td>Supermarket Type1</td>\n",
              "      <td>3735.1380</td>\n",
              "      <td>9.30</td>\n",
              "    </tr>\n",
              "    <tr>\n",
              "      <th>1</th>\n",
              "      <td>DRC01</td>\n",
              "      <td>Regular</td>\n",
              "      <td>0.019278</td>\n",
              "      <td>Soft Drinks</td>\n",
              "      <td>48.2692</td>\n",
              "      <td>OUT018</td>\n",
              "      <td>2009</td>\n",
              "      <td>Medium</td>\n",
              "      <td>Tier 3</td>\n",
              "      <td>Supermarket Type2</td>\n",
              "      <td>443.4228</td>\n",
              "      <td>5.92</td>\n",
              "    </tr>\n",
              "    <tr>\n",
              "      <th>2</th>\n",
              "      <td>FDN15</td>\n",
              "      <td>Low Fat</td>\n",
              "      <td>0.016760</td>\n",
              "      <td>Meat</td>\n",
              "      <td>141.6180</td>\n",
              "      <td>OUT049</td>\n",
              "      <td>1999</td>\n",
              "      <td>Medium</td>\n",
              "      <td>Tier 1</td>\n",
              "      <td>Supermarket Type1</td>\n",
              "      <td>2097.2700</td>\n",
              "      <td>17.50</td>\n",
              "    </tr>\n",
              "    <tr>\n",
              "      <th>3</th>\n",
              "      <td>FDX07</td>\n",
              "      <td>Regular</td>\n",
              "      <td>0.000000</td>\n",
              "      <td>Fruits and Vegetables</td>\n",
              "      <td>182.0950</td>\n",
              "      <td>OUT010</td>\n",
              "      <td>1998</td>\n",
              "      <td>Small</td>\n",
              "      <td>Tier 3</td>\n",
              "      <td>Grocery Store</td>\n",
              "      <td>732.3800</td>\n",
              "      <td>19.20</td>\n",
              "    </tr>\n",
              "    <tr>\n",
              "      <th>4</th>\n",
              "      <td>NCD19</td>\n",
              "      <td>Low Fat</td>\n",
              "      <td>0.000000</td>\n",
              "      <td>Household</td>\n",
              "      <td>53.8614</td>\n",
              "      <td>OUT013</td>\n",
              "      <td>1987</td>\n",
              "      <td>High</td>\n",
              "      <td>Tier 3</td>\n",
              "      <td>Supermarket Type1</td>\n",
              "      <td>994.7052</td>\n",
              "      <td>8.93</td>\n",
              "    </tr>\n",
              "  </tbody>\n",
              "</table>\n",
              "</div>\n",
              "      <button class=\"colab-df-convert\" onclick=\"convertToInteractive('df-159f555c-94ed-474e-a2d9-62ce3cd30c1d')\"\n",
              "              title=\"Convert this dataframe to an interactive table.\"\n",
              "              style=\"display:none;\">\n",
              "        \n",
              "  <svg xmlns=\"http://www.w3.org/2000/svg\" height=\"24px\"viewBox=\"0 0 24 24\"\n",
              "       width=\"24px\">\n",
              "    <path d=\"M0 0h24v24H0V0z\" fill=\"none\"/>\n",
              "    <path d=\"M18.56 5.44l.94 2.06.94-2.06 2.06-.94-2.06-.94-.94-2.06-.94 2.06-2.06.94zm-11 1L8.5 8.5l.94-2.06 2.06-.94-2.06-.94L8.5 2.5l-.94 2.06-2.06.94zm10 10l.94 2.06.94-2.06 2.06-.94-2.06-.94-.94-2.06-.94 2.06-2.06.94z\"/><path d=\"M17.41 7.96l-1.37-1.37c-.4-.4-.92-.59-1.43-.59-.52 0-1.04.2-1.43.59L10.3 9.45l-7.72 7.72c-.78.78-.78 2.05 0 2.83L4 21.41c.39.39.9.59 1.41.59.51 0 1.02-.2 1.41-.59l7.78-7.78 2.81-2.81c.8-.78.8-2.07 0-2.86zM5.41 20L4 18.59l7.72-7.72 1.47 1.35L5.41 20z\"/>\n",
              "  </svg>\n",
              "      </button>\n",
              "      \n",
              "  <style>\n",
              "    .colab-df-container {\n",
              "      display:flex;\n",
              "      flex-wrap:wrap;\n",
              "      gap: 12px;\n",
              "    }\n",
              "\n",
              "    .colab-df-convert {\n",
              "      background-color: #E8F0FE;\n",
              "      border: none;\n",
              "      border-radius: 50%;\n",
              "      cursor: pointer;\n",
              "      display: none;\n",
              "      fill: #1967D2;\n",
              "      height: 32px;\n",
              "      padding: 0 0 0 0;\n",
              "      width: 32px;\n",
              "    }\n",
              "\n",
              "    .colab-df-convert:hover {\n",
              "      background-color: #E2EBFA;\n",
              "      box-shadow: 0px 1px 2px rgba(60, 64, 67, 0.3), 0px 1px 3px 1px rgba(60, 64, 67, 0.15);\n",
              "      fill: #174EA6;\n",
              "    }\n",
              "\n",
              "    [theme=dark] .colab-df-convert {\n",
              "      background-color: #3B4455;\n",
              "      fill: #D2E3FC;\n",
              "    }\n",
              "\n",
              "    [theme=dark] .colab-df-convert:hover {\n",
              "      background-color: #434B5C;\n",
              "      box-shadow: 0px 1px 3px 1px rgba(0, 0, 0, 0.15);\n",
              "      filter: drop-shadow(0px 1px 2px rgba(0, 0, 0, 0.3));\n",
              "      fill: #FFFFFF;\n",
              "    }\n",
              "  </style>\n",
              "\n",
              "      <script>\n",
              "        const buttonEl =\n",
              "          document.querySelector('#df-159f555c-94ed-474e-a2d9-62ce3cd30c1d button.colab-df-convert');\n",
              "        buttonEl.style.display =\n",
              "          google.colab.kernel.accessAllowed ? 'block' : 'none';\n",
              "\n",
              "        async function convertToInteractive(key) {\n",
              "          const element = document.querySelector('#df-159f555c-94ed-474e-a2d9-62ce3cd30c1d');\n",
              "          const dataTable =\n",
              "            await google.colab.kernel.invokeFunction('convertToInteractive',\n",
              "                                                     [key], {});\n",
              "          if (!dataTable) return;\n",
              "\n",
              "          const docLinkHtml = 'Like what you see? Visit the ' +\n",
              "            '<a target=\"_blank\" href=https://colab.research.google.com/notebooks/data_table.ipynb>data table notebook</a>'\n",
              "            + ' to learn more about interactive tables.';\n",
              "          element.innerHTML = '';\n",
              "          dataTable['output_type'] = 'display_data';\n",
              "          await google.colab.output.renderOutput(dataTable, element);\n",
              "          const docLink = document.createElement('div');\n",
              "          docLink.innerHTML = docLinkHtml;\n",
              "          element.appendChild(docLink);\n",
              "        }\n",
              "      </script>\n",
              "    </div>\n",
              "  </div>\n",
              "  "
            ]
          },
          "metadata": {},
          "execution_count": 45
        }
      ]
    },
    {
      "cell_type": "markdown",
      "source": [
        "Perfrom Ordinal Encoding on column Outlet_Size"
      ],
      "metadata": {
        "id": "vbtuLG6i3QbE"
      }
    },
    {
      "cell_type": "code",
      "source": [
        "# check values in column\n",
        "df['Outlet_Size'].value_counts()"
      ],
      "metadata": {
        "colab": {
          "base_uri": "https://localhost:8080/"
        },
        "id": "PvNSvraQ3PY0",
        "outputId": "8a1dd967-60d5-4d8d-f396-9dab45e4cad7"
      },
      "execution_count": 46,
      "outputs": [
        {
          "output_type": "execute_result",
          "data": {
            "text/plain": [
              "Small     4797\n",
              "Medium    2790\n",
              "High       932\n",
              "Name: Outlet_Size, dtype: int64"
            ]
          },
          "metadata": {},
          "execution_count": 46
        }
      ]
    },
    {
      "cell_type": "code",
      "source": [
        "# Ordinal Encoding\n",
        "df['Outlet_Size'] = df['Outlet_Size'].replace({'Small': 0, 'Medium': 1, 'High':2})\n",
        "df['Outlet_Size'].value_counts()"
      ],
      "metadata": {
        "colab": {
          "base_uri": "https://localhost:8080/"
        },
        "id": "hPdraHRh3d0U",
        "outputId": "bf57c2d7-31e3-4623-9ce5-5296b4869dd1"
      },
      "execution_count": 47,
      "outputs": [
        {
          "output_type": "execute_result",
          "data": {
            "text/plain": [
              "0    4797\n",
              "1    2790\n",
              "2     932\n",
              "Name: Outlet_Size, dtype: int64"
            ]
          },
          "metadata": {},
          "execution_count": 47
        }
      ]
    },
    {
      "cell_type": "markdown",
      "source": [
        "## Perform a train test split "
      ],
      "metadata": {
        "id": "aZnC3Xpc5S80"
      }
    },
    {
      "cell_type": "markdown",
      "source": [
        "Features, Target and Split"
      ],
      "metadata": {
        "id": "Z7iwWF6j4R3i"
      }
    },
    {
      "cell_type": "code",
      "source": [
        "# assign feature as variable X and target as variable y\n",
        "X = df.drop('Item_Outlet_Sales', axis = 1)\n",
        "y = df['Item_Outlet_Sales']\n",
        "# Split\n",
        "X_train, X_test, y_train, y_test = train_test_split(X, y, random_state = 42)"
      ],
      "metadata": {
        "id": "w7iAaPfV2TX0"
      },
      "execution_count": 48,
      "outputs": []
    },
    {
      "cell_type": "markdown",
      "source": [
        "### Create a pre processing pipeline to prepare the dataset for Machine Learning"
      ],
      "metadata": {
        "id": "pCTrplJG5NE9"
      }
    },
    {
      "cell_type": "markdown",
      "source": [
        "Instantiate column selectors"
      ],
      "metadata": {
        "id": "ag9XYP8g49T9"
      }
    },
    {
      "cell_type": "code",
      "source": [
        "num_selector = make_column_selector(dtype_include = 'number')\n",
        "cat_selector = make_column_selector(dtype_include = 'object')"
      ],
      "metadata": {
        "id": "WbxuUoHZ25KN"
      },
      "execution_count": 49,
      "outputs": []
    },
    {
      "cell_type": "markdown",
      "source": [
        "Instantiate Transformers"
      ],
      "metadata": {
        "id": "_zY0wJqV5rWz"
      }
    },
    {
      "cell_type": "code",
      "source": [
        "# Scale\n",
        "scaler = StandardScaler()\n",
        "# OneHotEncoder\n",
        "ohe = OneHotEncoder(handle_unknown = 'ignore', sparse = False)"
      ],
      "metadata": {
        "id": "K7sUCkdk5k_1"
      },
      "execution_count": 50,
      "outputs": []
    },
    {
      "cell_type": "markdown",
      "source": [
        "Instantiate Pipelines"
      ],
      "metadata": {
        "id": "MB6K6_CV6OJL"
      }
    },
    {
      "cell_type": "code",
      "source": [
        "# numerical pipeline\n",
        "num_pipe = make_pipeline(scaler)\n",
        "num_pipe"
      ],
      "metadata": {
        "colab": {
          "base_uri": "https://localhost:8080/",
          "height": 0
        },
        "id": "-SADF_qS6JGi",
        "outputId": "da4cfe0a-3458-4759-a163-ed09f79ad213"
      },
      "execution_count": 51,
      "outputs": [
        {
          "output_type": "execute_result",
          "data": {
            "text/plain": [
              "Pipeline(steps=[('standardscaler', StandardScaler())])"
            ],
            "text/html": [
              "<style>#sk-f1d45643-3ca3-4dcf-b8c3-1c4d40b1511c {color: black;background-color: white;}#sk-f1d45643-3ca3-4dcf-b8c3-1c4d40b1511c pre{padding: 0;}#sk-f1d45643-3ca3-4dcf-b8c3-1c4d40b1511c div.sk-toggleable {background-color: white;}#sk-f1d45643-3ca3-4dcf-b8c3-1c4d40b1511c label.sk-toggleable__label {cursor: pointer;display: block;width: 100%;margin-bottom: 0;padding: 0.3em;box-sizing: border-box;text-align: center;}#sk-f1d45643-3ca3-4dcf-b8c3-1c4d40b1511c label.sk-toggleable__label-arrow:before {content: \"▸\";float: left;margin-right: 0.25em;color: #696969;}#sk-f1d45643-3ca3-4dcf-b8c3-1c4d40b1511c label.sk-toggleable__label-arrow:hover:before {color: black;}#sk-f1d45643-3ca3-4dcf-b8c3-1c4d40b1511c div.sk-estimator:hover label.sk-toggleable__label-arrow:before {color: black;}#sk-f1d45643-3ca3-4dcf-b8c3-1c4d40b1511c div.sk-toggleable__content {max-height: 0;max-width: 0;overflow: hidden;text-align: left;background-color: #f0f8ff;}#sk-f1d45643-3ca3-4dcf-b8c3-1c4d40b1511c div.sk-toggleable__content pre {margin: 0.2em;color: black;border-radius: 0.25em;background-color: #f0f8ff;}#sk-f1d45643-3ca3-4dcf-b8c3-1c4d40b1511c input.sk-toggleable__control:checked~div.sk-toggleable__content {max-height: 200px;max-width: 100%;overflow: auto;}#sk-f1d45643-3ca3-4dcf-b8c3-1c4d40b1511c input.sk-toggleable__control:checked~label.sk-toggleable__label-arrow:before {content: \"▾\";}#sk-f1d45643-3ca3-4dcf-b8c3-1c4d40b1511c div.sk-estimator input.sk-toggleable__control:checked~label.sk-toggleable__label {background-color: #d4ebff;}#sk-f1d45643-3ca3-4dcf-b8c3-1c4d40b1511c div.sk-label input.sk-toggleable__control:checked~label.sk-toggleable__label {background-color: #d4ebff;}#sk-f1d45643-3ca3-4dcf-b8c3-1c4d40b1511c input.sk-hidden--visually {border: 0;clip: rect(1px 1px 1px 1px);clip: rect(1px, 1px, 1px, 1px);height: 1px;margin: -1px;overflow: hidden;padding: 0;position: absolute;width: 1px;}#sk-f1d45643-3ca3-4dcf-b8c3-1c4d40b1511c div.sk-estimator {font-family: monospace;background-color: #f0f8ff;border: 1px dotted black;border-radius: 0.25em;box-sizing: border-box;margin-bottom: 0.5em;}#sk-f1d45643-3ca3-4dcf-b8c3-1c4d40b1511c div.sk-estimator:hover {background-color: #d4ebff;}#sk-f1d45643-3ca3-4dcf-b8c3-1c4d40b1511c div.sk-parallel-item::after {content: \"\";width: 100%;border-bottom: 1px solid gray;flex-grow: 1;}#sk-f1d45643-3ca3-4dcf-b8c3-1c4d40b1511c div.sk-label:hover label.sk-toggleable__label {background-color: #d4ebff;}#sk-f1d45643-3ca3-4dcf-b8c3-1c4d40b1511c div.sk-serial::before {content: \"\";position: absolute;border-left: 1px solid gray;box-sizing: border-box;top: 2em;bottom: 0;left: 50%;}#sk-f1d45643-3ca3-4dcf-b8c3-1c4d40b1511c div.sk-serial {display: flex;flex-direction: column;align-items: center;background-color: white;padding-right: 0.2em;padding-left: 0.2em;}#sk-f1d45643-3ca3-4dcf-b8c3-1c4d40b1511c div.sk-item {z-index: 1;}#sk-f1d45643-3ca3-4dcf-b8c3-1c4d40b1511c div.sk-parallel {display: flex;align-items: stretch;justify-content: center;background-color: white;}#sk-f1d45643-3ca3-4dcf-b8c3-1c4d40b1511c div.sk-parallel::before {content: \"\";position: absolute;border-left: 1px solid gray;box-sizing: border-box;top: 2em;bottom: 0;left: 50%;}#sk-f1d45643-3ca3-4dcf-b8c3-1c4d40b1511c div.sk-parallel-item {display: flex;flex-direction: column;position: relative;background-color: white;}#sk-f1d45643-3ca3-4dcf-b8c3-1c4d40b1511c div.sk-parallel-item:first-child::after {align-self: flex-end;width: 50%;}#sk-f1d45643-3ca3-4dcf-b8c3-1c4d40b1511c div.sk-parallel-item:last-child::after {align-self: flex-start;width: 50%;}#sk-f1d45643-3ca3-4dcf-b8c3-1c4d40b1511c div.sk-parallel-item:only-child::after {width: 0;}#sk-f1d45643-3ca3-4dcf-b8c3-1c4d40b1511c div.sk-dashed-wrapped {border: 1px dashed gray;margin: 0 0.4em 0.5em 0.4em;box-sizing: border-box;padding-bottom: 0.4em;background-color: white;position: relative;}#sk-f1d45643-3ca3-4dcf-b8c3-1c4d40b1511c div.sk-label label {font-family: monospace;font-weight: bold;background-color: white;display: inline-block;line-height: 1.2em;}#sk-f1d45643-3ca3-4dcf-b8c3-1c4d40b1511c div.sk-label-container {position: relative;z-index: 2;text-align: center;}#sk-f1d45643-3ca3-4dcf-b8c3-1c4d40b1511c div.sk-container {/* jupyter's `normalize.less` sets `[hidden] { display: none; }` but bootstrap.min.css set `[hidden] { display: none !important; }` so we also need the `!important` here to be able to override the default hidden behavior on the sphinx rendered scikit-learn.org. See: https://github.com/scikit-learn/scikit-learn/issues/21755 */display: inline-block !important;position: relative;}#sk-f1d45643-3ca3-4dcf-b8c3-1c4d40b1511c div.sk-text-repr-fallback {display: none;}</style><div id=\"sk-f1d45643-3ca3-4dcf-b8c3-1c4d40b1511c\" class=\"sk-top-container\"><div class=\"sk-text-repr-fallback\"><pre>Pipeline(steps=[(&#x27;standardscaler&#x27;, StandardScaler())])</pre><b>Please rerun this cell to show the HTML repr or trust the notebook.</b></div><div class=\"sk-container\" hidden><div class=\"sk-item sk-dashed-wrapped\"><div class=\"sk-label-container\"><div class=\"sk-label sk-toggleable\"><input class=\"sk-toggleable__control sk-hidden--visually\" id=\"59eb971b-ef2b-443e-810d-f8c2e2cb3a29\" type=\"checkbox\" ><label for=\"59eb971b-ef2b-443e-810d-f8c2e2cb3a29\" class=\"sk-toggleable__label sk-toggleable__label-arrow\">Pipeline</label><div class=\"sk-toggleable__content\"><pre>Pipeline(steps=[(&#x27;standardscaler&#x27;, StandardScaler())])</pre></div></div></div><div class=\"sk-serial\"><div class=\"sk-item\"><div class=\"sk-estimator sk-toggleable\"><input class=\"sk-toggleable__control sk-hidden--visually\" id=\"9e173100-558a-4e85-a4b4-8442b3cdf54e\" type=\"checkbox\" ><label for=\"9e173100-558a-4e85-a4b4-8442b3cdf54e\" class=\"sk-toggleable__label sk-toggleable__label-arrow\">StandardScaler</label><div class=\"sk-toggleable__content\"><pre>StandardScaler()</pre></div></div></div></div></div></div></div>"
            ]
          },
          "metadata": {},
          "execution_count": 51
        }
      ]
    },
    {
      "cell_type": "code",
      "source": [
        "#categorical pipeline\n",
        "cat_pipe = make_pipeline(ohe)\n",
        "cat_pipe"
      ],
      "metadata": {
        "colab": {
          "base_uri": "https://localhost:8080/",
          "height": 0
        },
        "id": "55M0v_sj6Zcr",
        "outputId": "4a82df64-2849-4517-9817-3480ef8254ee"
      },
      "execution_count": 52,
      "outputs": [
        {
          "output_type": "execute_result",
          "data": {
            "text/plain": [
              "Pipeline(steps=[('onehotencoder',\n",
              "                 OneHotEncoder(handle_unknown='ignore', sparse=False))])"
            ],
            "text/html": [
              "<style>#sk-4b9a3b2d-b8f4-4d22-9ae0-2bc4db907380 {color: black;background-color: white;}#sk-4b9a3b2d-b8f4-4d22-9ae0-2bc4db907380 pre{padding: 0;}#sk-4b9a3b2d-b8f4-4d22-9ae0-2bc4db907380 div.sk-toggleable {background-color: white;}#sk-4b9a3b2d-b8f4-4d22-9ae0-2bc4db907380 label.sk-toggleable__label {cursor: pointer;display: block;width: 100%;margin-bottom: 0;padding: 0.3em;box-sizing: border-box;text-align: center;}#sk-4b9a3b2d-b8f4-4d22-9ae0-2bc4db907380 label.sk-toggleable__label-arrow:before {content: \"▸\";float: left;margin-right: 0.25em;color: #696969;}#sk-4b9a3b2d-b8f4-4d22-9ae0-2bc4db907380 label.sk-toggleable__label-arrow:hover:before {color: black;}#sk-4b9a3b2d-b8f4-4d22-9ae0-2bc4db907380 div.sk-estimator:hover label.sk-toggleable__label-arrow:before {color: black;}#sk-4b9a3b2d-b8f4-4d22-9ae0-2bc4db907380 div.sk-toggleable__content {max-height: 0;max-width: 0;overflow: hidden;text-align: left;background-color: #f0f8ff;}#sk-4b9a3b2d-b8f4-4d22-9ae0-2bc4db907380 div.sk-toggleable__content pre {margin: 0.2em;color: black;border-radius: 0.25em;background-color: #f0f8ff;}#sk-4b9a3b2d-b8f4-4d22-9ae0-2bc4db907380 input.sk-toggleable__control:checked~div.sk-toggleable__content {max-height: 200px;max-width: 100%;overflow: auto;}#sk-4b9a3b2d-b8f4-4d22-9ae0-2bc4db907380 input.sk-toggleable__control:checked~label.sk-toggleable__label-arrow:before {content: \"▾\";}#sk-4b9a3b2d-b8f4-4d22-9ae0-2bc4db907380 div.sk-estimator input.sk-toggleable__control:checked~label.sk-toggleable__label {background-color: #d4ebff;}#sk-4b9a3b2d-b8f4-4d22-9ae0-2bc4db907380 div.sk-label input.sk-toggleable__control:checked~label.sk-toggleable__label {background-color: #d4ebff;}#sk-4b9a3b2d-b8f4-4d22-9ae0-2bc4db907380 input.sk-hidden--visually {border: 0;clip: rect(1px 1px 1px 1px);clip: rect(1px, 1px, 1px, 1px);height: 1px;margin: -1px;overflow: hidden;padding: 0;position: absolute;width: 1px;}#sk-4b9a3b2d-b8f4-4d22-9ae0-2bc4db907380 div.sk-estimator {font-family: monospace;background-color: #f0f8ff;border: 1px dotted black;border-radius: 0.25em;box-sizing: border-box;margin-bottom: 0.5em;}#sk-4b9a3b2d-b8f4-4d22-9ae0-2bc4db907380 div.sk-estimator:hover {background-color: #d4ebff;}#sk-4b9a3b2d-b8f4-4d22-9ae0-2bc4db907380 div.sk-parallel-item::after {content: \"\";width: 100%;border-bottom: 1px solid gray;flex-grow: 1;}#sk-4b9a3b2d-b8f4-4d22-9ae0-2bc4db907380 div.sk-label:hover label.sk-toggleable__label {background-color: #d4ebff;}#sk-4b9a3b2d-b8f4-4d22-9ae0-2bc4db907380 div.sk-serial::before {content: \"\";position: absolute;border-left: 1px solid gray;box-sizing: border-box;top: 2em;bottom: 0;left: 50%;}#sk-4b9a3b2d-b8f4-4d22-9ae0-2bc4db907380 div.sk-serial {display: flex;flex-direction: column;align-items: center;background-color: white;padding-right: 0.2em;padding-left: 0.2em;}#sk-4b9a3b2d-b8f4-4d22-9ae0-2bc4db907380 div.sk-item {z-index: 1;}#sk-4b9a3b2d-b8f4-4d22-9ae0-2bc4db907380 div.sk-parallel {display: flex;align-items: stretch;justify-content: center;background-color: white;}#sk-4b9a3b2d-b8f4-4d22-9ae0-2bc4db907380 div.sk-parallel::before {content: \"\";position: absolute;border-left: 1px solid gray;box-sizing: border-box;top: 2em;bottom: 0;left: 50%;}#sk-4b9a3b2d-b8f4-4d22-9ae0-2bc4db907380 div.sk-parallel-item {display: flex;flex-direction: column;position: relative;background-color: white;}#sk-4b9a3b2d-b8f4-4d22-9ae0-2bc4db907380 div.sk-parallel-item:first-child::after {align-self: flex-end;width: 50%;}#sk-4b9a3b2d-b8f4-4d22-9ae0-2bc4db907380 div.sk-parallel-item:last-child::after {align-self: flex-start;width: 50%;}#sk-4b9a3b2d-b8f4-4d22-9ae0-2bc4db907380 div.sk-parallel-item:only-child::after {width: 0;}#sk-4b9a3b2d-b8f4-4d22-9ae0-2bc4db907380 div.sk-dashed-wrapped {border: 1px dashed gray;margin: 0 0.4em 0.5em 0.4em;box-sizing: border-box;padding-bottom: 0.4em;background-color: white;position: relative;}#sk-4b9a3b2d-b8f4-4d22-9ae0-2bc4db907380 div.sk-label label {font-family: monospace;font-weight: bold;background-color: white;display: inline-block;line-height: 1.2em;}#sk-4b9a3b2d-b8f4-4d22-9ae0-2bc4db907380 div.sk-label-container {position: relative;z-index: 2;text-align: center;}#sk-4b9a3b2d-b8f4-4d22-9ae0-2bc4db907380 div.sk-container {/* jupyter's `normalize.less` sets `[hidden] { display: none; }` but bootstrap.min.css set `[hidden] { display: none !important; }` so we also need the `!important` here to be able to override the default hidden behavior on the sphinx rendered scikit-learn.org. See: https://github.com/scikit-learn/scikit-learn/issues/21755 */display: inline-block !important;position: relative;}#sk-4b9a3b2d-b8f4-4d22-9ae0-2bc4db907380 div.sk-text-repr-fallback {display: none;}</style><div id=\"sk-4b9a3b2d-b8f4-4d22-9ae0-2bc4db907380\" class=\"sk-top-container\"><div class=\"sk-text-repr-fallback\"><pre>Pipeline(steps=[(&#x27;onehotencoder&#x27;,\n",
              "                 OneHotEncoder(handle_unknown=&#x27;ignore&#x27;, sparse=False))])</pre><b>Please rerun this cell to show the HTML repr or trust the notebook.</b></div><div class=\"sk-container\" hidden><div class=\"sk-item sk-dashed-wrapped\"><div class=\"sk-label-container\"><div class=\"sk-label sk-toggleable\"><input class=\"sk-toggleable__control sk-hidden--visually\" id=\"bd373aa2-c10b-4b95-9254-d9d26fb23ae4\" type=\"checkbox\" ><label for=\"bd373aa2-c10b-4b95-9254-d9d26fb23ae4\" class=\"sk-toggleable__label sk-toggleable__label-arrow\">Pipeline</label><div class=\"sk-toggleable__content\"><pre>Pipeline(steps=[(&#x27;onehotencoder&#x27;,\n",
              "                 OneHotEncoder(handle_unknown=&#x27;ignore&#x27;, sparse=False))])</pre></div></div></div><div class=\"sk-serial\"><div class=\"sk-item\"><div class=\"sk-estimator sk-toggleable\"><input class=\"sk-toggleable__control sk-hidden--visually\" id=\"6c2cd728-134b-402a-a563-56ec2104dd75\" type=\"checkbox\" ><label for=\"6c2cd728-134b-402a-a563-56ec2104dd75\" class=\"sk-toggleable__label sk-toggleable__label-arrow\">OneHotEncoder</label><div class=\"sk-toggleable__content\"><pre>OneHotEncoder(handle_unknown=&#x27;ignore&#x27;, sparse=False)</pre></div></div></div></div></div></div></div>"
            ]
          },
          "metadata": {},
          "execution_count": 52
        }
      ]
    },
    {
      "cell_type": "markdown",
      "source": [
        "Instantiate ColumnTransformer"
      ],
      "metadata": {
        "id": "gsXv7KNJ6pVb"
      }
    },
    {
      "cell_type": "code",
      "source": [
        "# create tuple for numerical and categorical\n",
        "num_tuple = (num_pipe, num_selector)\n",
        "cat_tuple = (cat_pipe, cat_selector)\n",
        "# Column Transformer\n",
        "preprocessor = make_column_transformer(num_tuple, cat_tuple, remainder = 'passthrough')\n",
        "preprocessor"
      ],
      "metadata": {
        "colab": {
          "base_uri": "https://localhost:8080/",
          "height": 0
        },
        "id": "PfvUIIGw6ei0",
        "outputId": "0199d480-0fb9-40bd-9e4d-513e11335e8c"
      },
      "execution_count": 53,
      "outputs": [
        {
          "output_type": "execute_result",
          "data": {
            "text/plain": [
              "ColumnTransformer(remainder='passthrough',\n",
              "                  transformers=[('pipeline-1',\n",
              "                                 Pipeline(steps=[('standardscaler',\n",
              "                                                  StandardScaler())]),\n",
              "                                 <sklearn.compose._column_transformer.make_column_selector object at 0x7f7020339490>),\n",
              "                                ('pipeline-2',\n",
              "                                 Pipeline(steps=[('onehotencoder',\n",
              "                                                  OneHotEncoder(handle_unknown='ignore',\n",
              "                                                                sparse=False))]),\n",
              "                                 <sklearn.compose._column_transformer.make_column_selector object at 0x7f7020339d90>)])"
            ],
            "text/html": [
              "<style>#sk-56abc9d0-b73b-4e26-98e2-e37d689dfd33 {color: black;background-color: white;}#sk-56abc9d0-b73b-4e26-98e2-e37d689dfd33 pre{padding: 0;}#sk-56abc9d0-b73b-4e26-98e2-e37d689dfd33 div.sk-toggleable {background-color: white;}#sk-56abc9d0-b73b-4e26-98e2-e37d689dfd33 label.sk-toggleable__label {cursor: pointer;display: block;width: 100%;margin-bottom: 0;padding: 0.3em;box-sizing: border-box;text-align: center;}#sk-56abc9d0-b73b-4e26-98e2-e37d689dfd33 label.sk-toggleable__label-arrow:before {content: \"▸\";float: left;margin-right: 0.25em;color: #696969;}#sk-56abc9d0-b73b-4e26-98e2-e37d689dfd33 label.sk-toggleable__label-arrow:hover:before {color: black;}#sk-56abc9d0-b73b-4e26-98e2-e37d689dfd33 div.sk-estimator:hover label.sk-toggleable__label-arrow:before {color: black;}#sk-56abc9d0-b73b-4e26-98e2-e37d689dfd33 div.sk-toggleable__content {max-height: 0;max-width: 0;overflow: hidden;text-align: left;background-color: #f0f8ff;}#sk-56abc9d0-b73b-4e26-98e2-e37d689dfd33 div.sk-toggleable__content pre {margin: 0.2em;color: black;border-radius: 0.25em;background-color: #f0f8ff;}#sk-56abc9d0-b73b-4e26-98e2-e37d689dfd33 input.sk-toggleable__control:checked~div.sk-toggleable__content {max-height: 200px;max-width: 100%;overflow: auto;}#sk-56abc9d0-b73b-4e26-98e2-e37d689dfd33 input.sk-toggleable__control:checked~label.sk-toggleable__label-arrow:before {content: \"▾\";}#sk-56abc9d0-b73b-4e26-98e2-e37d689dfd33 div.sk-estimator input.sk-toggleable__control:checked~label.sk-toggleable__label {background-color: #d4ebff;}#sk-56abc9d0-b73b-4e26-98e2-e37d689dfd33 div.sk-label input.sk-toggleable__control:checked~label.sk-toggleable__label {background-color: #d4ebff;}#sk-56abc9d0-b73b-4e26-98e2-e37d689dfd33 input.sk-hidden--visually {border: 0;clip: rect(1px 1px 1px 1px);clip: rect(1px, 1px, 1px, 1px);height: 1px;margin: -1px;overflow: hidden;padding: 0;position: absolute;width: 1px;}#sk-56abc9d0-b73b-4e26-98e2-e37d689dfd33 div.sk-estimator {font-family: monospace;background-color: #f0f8ff;border: 1px dotted black;border-radius: 0.25em;box-sizing: border-box;margin-bottom: 0.5em;}#sk-56abc9d0-b73b-4e26-98e2-e37d689dfd33 div.sk-estimator:hover {background-color: #d4ebff;}#sk-56abc9d0-b73b-4e26-98e2-e37d689dfd33 div.sk-parallel-item::after {content: \"\";width: 100%;border-bottom: 1px solid gray;flex-grow: 1;}#sk-56abc9d0-b73b-4e26-98e2-e37d689dfd33 div.sk-label:hover label.sk-toggleable__label {background-color: #d4ebff;}#sk-56abc9d0-b73b-4e26-98e2-e37d689dfd33 div.sk-serial::before {content: \"\";position: absolute;border-left: 1px solid gray;box-sizing: border-box;top: 2em;bottom: 0;left: 50%;}#sk-56abc9d0-b73b-4e26-98e2-e37d689dfd33 div.sk-serial {display: flex;flex-direction: column;align-items: center;background-color: white;padding-right: 0.2em;padding-left: 0.2em;}#sk-56abc9d0-b73b-4e26-98e2-e37d689dfd33 div.sk-item {z-index: 1;}#sk-56abc9d0-b73b-4e26-98e2-e37d689dfd33 div.sk-parallel {display: flex;align-items: stretch;justify-content: center;background-color: white;}#sk-56abc9d0-b73b-4e26-98e2-e37d689dfd33 div.sk-parallel::before {content: \"\";position: absolute;border-left: 1px solid gray;box-sizing: border-box;top: 2em;bottom: 0;left: 50%;}#sk-56abc9d0-b73b-4e26-98e2-e37d689dfd33 div.sk-parallel-item {display: flex;flex-direction: column;position: relative;background-color: white;}#sk-56abc9d0-b73b-4e26-98e2-e37d689dfd33 div.sk-parallel-item:first-child::after {align-self: flex-end;width: 50%;}#sk-56abc9d0-b73b-4e26-98e2-e37d689dfd33 div.sk-parallel-item:last-child::after {align-self: flex-start;width: 50%;}#sk-56abc9d0-b73b-4e26-98e2-e37d689dfd33 div.sk-parallel-item:only-child::after {width: 0;}#sk-56abc9d0-b73b-4e26-98e2-e37d689dfd33 div.sk-dashed-wrapped {border: 1px dashed gray;margin: 0 0.4em 0.5em 0.4em;box-sizing: border-box;padding-bottom: 0.4em;background-color: white;position: relative;}#sk-56abc9d0-b73b-4e26-98e2-e37d689dfd33 div.sk-label label {font-family: monospace;font-weight: bold;background-color: white;display: inline-block;line-height: 1.2em;}#sk-56abc9d0-b73b-4e26-98e2-e37d689dfd33 div.sk-label-container {position: relative;z-index: 2;text-align: center;}#sk-56abc9d0-b73b-4e26-98e2-e37d689dfd33 div.sk-container {/* jupyter's `normalize.less` sets `[hidden] { display: none; }` but bootstrap.min.css set `[hidden] { display: none !important; }` so we also need the `!important` here to be able to override the default hidden behavior on the sphinx rendered scikit-learn.org. See: https://github.com/scikit-learn/scikit-learn/issues/21755 */display: inline-block !important;position: relative;}#sk-56abc9d0-b73b-4e26-98e2-e37d689dfd33 div.sk-text-repr-fallback {display: none;}</style><div id=\"sk-56abc9d0-b73b-4e26-98e2-e37d689dfd33\" class=\"sk-top-container\"><div class=\"sk-text-repr-fallback\"><pre>ColumnTransformer(remainder=&#x27;passthrough&#x27;,\n",
              "                  transformers=[(&#x27;pipeline-1&#x27;,\n",
              "                                 Pipeline(steps=[(&#x27;standardscaler&#x27;,\n",
              "                                                  StandardScaler())]),\n",
              "                                 &lt;sklearn.compose._column_transformer.make_column_selector object at 0x7f7020339490&gt;),\n",
              "                                (&#x27;pipeline-2&#x27;,\n",
              "                                 Pipeline(steps=[(&#x27;onehotencoder&#x27;,\n",
              "                                                  OneHotEncoder(handle_unknown=&#x27;ignore&#x27;,\n",
              "                                                                sparse=False))]),\n",
              "                                 &lt;sklearn.compose._column_transformer.make_column_selector object at 0x7f7020339d90&gt;)])</pre><b>Please rerun this cell to show the HTML repr or trust the notebook.</b></div><div class=\"sk-container\" hidden><div class=\"sk-item sk-dashed-wrapped\"><div class=\"sk-label-container\"><div class=\"sk-label sk-toggleable\"><input class=\"sk-toggleable__control sk-hidden--visually\" id=\"94fbac69-3831-4e6d-b49d-16459bcdcda6\" type=\"checkbox\" ><label for=\"94fbac69-3831-4e6d-b49d-16459bcdcda6\" class=\"sk-toggleable__label sk-toggleable__label-arrow\">ColumnTransformer</label><div class=\"sk-toggleable__content\"><pre>ColumnTransformer(remainder=&#x27;passthrough&#x27;,\n",
              "                  transformers=[(&#x27;pipeline-1&#x27;,\n",
              "                                 Pipeline(steps=[(&#x27;standardscaler&#x27;,\n",
              "                                                  StandardScaler())]),\n",
              "                                 &lt;sklearn.compose._column_transformer.make_column_selector object at 0x7f7020339490&gt;),\n",
              "                                (&#x27;pipeline-2&#x27;,\n",
              "                                 Pipeline(steps=[(&#x27;onehotencoder&#x27;,\n",
              "                                                  OneHotEncoder(handle_unknown=&#x27;ignore&#x27;,\n",
              "                                                                sparse=False))]),\n",
              "                                 &lt;sklearn.compose._column_transformer.make_column_selector object at 0x7f7020339d90&gt;)])</pre></div></div></div><div class=\"sk-parallel\"><div class=\"sk-parallel-item\"><div class=\"sk-item\"><div class=\"sk-label-container\"><div class=\"sk-label sk-toggleable\"><input class=\"sk-toggleable__control sk-hidden--visually\" id=\"7e2ab516-3de3-4890-9acd-112d25c6bfed\" type=\"checkbox\" ><label for=\"7e2ab516-3de3-4890-9acd-112d25c6bfed\" class=\"sk-toggleable__label sk-toggleable__label-arrow\">pipeline-1</label><div class=\"sk-toggleable__content\"><pre>&lt;sklearn.compose._column_transformer.make_column_selector object at 0x7f7020339490&gt;</pre></div></div></div><div class=\"sk-serial\"><div class=\"sk-item\"><div class=\"sk-serial\"><div class=\"sk-item\"><div class=\"sk-estimator sk-toggleable\"><input class=\"sk-toggleable__control sk-hidden--visually\" id=\"42afe016-c4d5-41f5-b415-5a09c45dc914\" type=\"checkbox\" ><label for=\"42afe016-c4d5-41f5-b415-5a09c45dc914\" class=\"sk-toggleable__label sk-toggleable__label-arrow\">StandardScaler</label><div class=\"sk-toggleable__content\"><pre>StandardScaler()</pre></div></div></div></div></div></div></div></div><div class=\"sk-parallel-item\"><div class=\"sk-item\"><div class=\"sk-label-container\"><div class=\"sk-label sk-toggleable\"><input class=\"sk-toggleable__control sk-hidden--visually\" id=\"9cc800a1-7201-48db-a940-ddefe52db421\" type=\"checkbox\" ><label for=\"9cc800a1-7201-48db-a940-ddefe52db421\" class=\"sk-toggleable__label sk-toggleable__label-arrow\">pipeline-2</label><div class=\"sk-toggleable__content\"><pre>&lt;sklearn.compose._column_transformer.make_column_selector object at 0x7f7020339d90&gt;</pre></div></div></div><div class=\"sk-serial\"><div class=\"sk-item\"><div class=\"sk-serial\"><div class=\"sk-item\"><div class=\"sk-estimator sk-toggleable\"><input class=\"sk-toggleable__control sk-hidden--visually\" id=\"efbed42d-dc6c-4fba-954f-8cf78a7c5659\" type=\"checkbox\" ><label for=\"efbed42d-dc6c-4fba-954f-8cf78a7c5659\" class=\"sk-toggleable__label sk-toggleable__label-arrow\">OneHotEncoder</label><div class=\"sk-toggleable__content\"><pre>OneHotEncoder(handle_unknown=&#x27;ignore&#x27;, sparse=False)</pre></div></div></div></div></div></div></div></div><div class=\"sk-parallel-item\"><div class=\"sk-item\"><div class=\"sk-label-container\"><div class=\"sk-label sk-toggleable\"><input class=\"sk-toggleable__control sk-hidden--visually\" id=\"1cb36748-b287-4b00-9c5e-f0ab6bf15a78\" type=\"checkbox\" ><label for=\"1cb36748-b287-4b00-9c5e-f0ab6bf15a78\" class=\"sk-toggleable__label sk-toggleable__label-arrow\">remainder</label><div class=\"sk-toggleable__content\"><pre></pre></div></div></div><div class=\"sk-serial\"><div class=\"sk-item\"><div class=\"sk-estimator sk-toggleable\"><input class=\"sk-toggleable__control sk-hidden--visually\" id=\"db841c2f-b418-4572-8c36-7ccc7d4f4439\" type=\"checkbox\" ><label for=\"db841c2f-b418-4572-8c36-7ccc7d4f4439\" class=\"sk-toggleable__label sk-toggleable__label-arrow\">passthrough</label><div class=\"sk-toggleable__content\"><pre>passthrough</pre></div></div></div></div></div></div></div></div></div></div>"
            ]
          },
          "metadata": {},
          "execution_count": 53
        }
      ]
    },
    {
      "cell_type": "markdown",
      "source": [
        "## fit on train\n"
      ],
      "metadata": {
        "id": "T-t1Qw2x7X8z"
      }
    },
    {
      "cell_type": "code",
      "source": [
        "# fit on train\n",
        "preprocessor.fit(X_train)"
      ],
      "metadata": {
        "colab": {
          "base_uri": "https://localhost:8080/",
          "height": 0
        },
        "id": "WhKYFL5S7TcU",
        "outputId": "06bd0c60-097a-4bdf-cf0a-adde0fd25256"
      },
      "execution_count": 54,
      "outputs": [
        {
          "output_type": "execute_result",
          "data": {
            "text/plain": [
              "ColumnTransformer(remainder='passthrough',\n",
              "                  transformers=[('pipeline-1',\n",
              "                                 Pipeline(steps=[('standardscaler',\n",
              "                                                  StandardScaler())]),\n",
              "                                 <sklearn.compose._column_transformer.make_column_selector object at 0x7f7020339490>),\n",
              "                                ('pipeline-2',\n",
              "                                 Pipeline(steps=[('onehotencoder',\n",
              "                                                  OneHotEncoder(handle_unknown='ignore',\n",
              "                                                                sparse=False))]),\n",
              "                                 <sklearn.compose._column_transformer.make_column_selector object at 0x7f7020339d90>)])"
            ],
            "text/html": [
              "<style>#sk-5b3da923-44b7-4090-aa6e-f4a03b4694e0 {color: black;background-color: white;}#sk-5b3da923-44b7-4090-aa6e-f4a03b4694e0 pre{padding: 0;}#sk-5b3da923-44b7-4090-aa6e-f4a03b4694e0 div.sk-toggleable {background-color: white;}#sk-5b3da923-44b7-4090-aa6e-f4a03b4694e0 label.sk-toggleable__label {cursor: pointer;display: block;width: 100%;margin-bottom: 0;padding: 0.3em;box-sizing: border-box;text-align: center;}#sk-5b3da923-44b7-4090-aa6e-f4a03b4694e0 label.sk-toggleable__label-arrow:before {content: \"▸\";float: left;margin-right: 0.25em;color: #696969;}#sk-5b3da923-44b7-4090-aa6e-f4a03b4694e0 label.sk-toggleable__label-arrow:hover:before {color: black;}#sk-5b3da923-44b7-4090-aa6e-f4a03b4694e0 div.sk-estimator:hover label.sk-toggleable__label-arrow:before {color: black;}#sk-5b3da923-44b7-4090-aa6e-f4a03b4694e0 div.sk-toggleable__content {max-height: 0;max-width: 0;overflow: hidden;text-align: left;background-color: #f0f8ff;}#sk-5b3da923-44b7-4090-aa6e-f4a03b4694e0 div.sk-toggleable__content pre {margin: 0.2em;color: black;border-radius: 0.25em;background-color: #f0f8ff;}#sk-5b3da923-44b7-4090-aa6e-f4a03b4694e0 input.sk-toggleable__control:checked~div.sk-toggleable__content {max-height: 200px;max-width: 100%;overflow: auto;}#sk-5b3da923-44b7-4090-aa6e-f4a03b4694e0 input.sk-toggleable__control:checked~label.sk-toggleable__label-arrow:before {content: \"▾\";}#sk-5b3da923-44b7-4090-aa6e-f4a03b4694e0 div.sk-estimator input.sk-toggleable__control:checked~label.sk-toggleable__label {background-color: #d4ebff;}#sk-5b3da923-44b7-4090-aa6e-f4a03b4694e0 div.sk-label input.sk-toggleable__control:checked~label.sk-toggleable__label {background-color: #d4ebff;}#sk-5b3da923-44b7-4090-aa6e-f4a03b4694e0 input.sk-hidden--visually {border: 0;clip: rect(1px 1px 1px 1px);clip: rect(1px, 1px, 1px, 1px);height: 1px;margin: -1px;overflow: hidden;padding: 0;position: absolute;width: 1px;}#sk-5b3da923-44b7-4090-aa6e-f4a03b4694e0 div.sk-estimator {font-family: monospace;background-color: #f0f8ff;border: 1px dotted black;border-radius: 0.25em;box-sizing: border-box;margin-bottom: 0.5em;}#sk-5b3da923-44b7-4090-aa6e-f4a03b4694e0 div.sk-estimator:hover {background-color: #d4ebff;}#sk-5b3da923-44b7-4090-aa6e-f4a03b4694e0 div.sk-parallel-item::after {content: \"\";width: 100%;border-bottom: 1px solid gray;flex-grow: 1;}#sk-5b3da923-44b7-4090-aa6e-f4a03b4694e0 div.sk-label:hover label.sk-toggleable__label {background-color: #d4ebff;}#sk-5b3da923-44b7-4090-aa6e-f4a03b4694e0 div.sk-serial::before {content: \"\";position: absolute;border-left: 1px solid gray;box-sizing: border-box;top: 2em;bottom: 0;left: 50%;}#sk-5b3da923-44b7-4090-aa6e-f4a03b4694e0 div.sk-serial {display: flex;flex-direction: column;align-items: center;background-color: white;padding-right: 0.2em;padding-left: 0.2em;}#sk-5b3da923-44b7-4090-aa6e-f4a03b4694e0 div.sk-item {z-index: 1;}#sk-5b3da923-44b7-4090-aa6e-f4a03b4694e0 div.sk-parallel {display: flex;align-items: stretch;justify-content: center;background-color: white;}#sk-5b3da923-44b7-4090-aa6e-f4a03b4694e0 div.sk-parallel::before {content: \"\";position: absolute;border-left: 1px solid gray;box-sizing: border-box;top: 2em;bottom: 0;left: 50%;}#sk-5b3da923-44b7-4090-aa6e-f4a03b4694e0 div.sk-parallel-item {display: flex;flex-direction: column;position: relative;background-color: white;}#sk-5b3da923-44b7-4090-aa6e-f4a03b4694e0 div.sk-parallel-item:first-child::after {align-self: flex-end;width: 50%;}#sk-5b3da923-44b7-4090-aa6e-f4a03b4694e0 div.sk-parallel-item:last-child::after {align-self: flex-start;width: 50%;}#sk-5b3da923-44b7-4090-aa6e-f4a03b4694e0 div.sk-parallel-item:only-child::after {width: 0;}#sk-5b3da923-44b7-4090-aa6e-f4a03b4694e0 div.sk-dashed-wrapped {border: 1px dashed gray;margin: 0 0.4em 0.5em 0.4em;box-sizing: border-box;padding-bottom: 0.4em;background-color: white;position: relative;}#sk-5b3da923-44b7-4090-aa6e-f4a03b4694e0 div.sk-label label {font-family: monospace;font-weight: bold;background-color: white;display: inline-block;line-height: 1.2em;}#sk-5b3da923-44b7-4090-aa6e-f4a03b4694e0 div.sk-label-container {position: relative;z-index: 2;text-align: center;}#sk-5b3da923-44b7-4090-aa6e-f4a03b4694e0 div.sk-container {/* jupyter's `normalize.less` sets `[hidden] { display: none; }` but bootstrap.min.css set `[hidden] { display: none !important; }` so we also need the `!important` here to be able to override the default hidden behavior on the sphinx rendered scikit-learn.org. See: https://github.com/scikit-learn/scikit-learn/issues/21755 */display: inline-block !important;position: relative;}#sk-5b3da923-44b7-4090-aa6e-f4a03b4694e0 div.sk-text-repr-fallback {display: none;}</style><div id=\"sk-5b3da923-44b7-4090-aa6e-f4a03b4694e0\" class=\"sk-top-container\"><div class=\"sk-text-repr-fallback\"><pre>ColumnTransformer(remainder=&#x27;passthrough&#x27;,\n",
              "                  transformers=[(&#x27;pipeline-1&#x27;,\n",
              "                                 Pipeline(steps=[(&#x27;standardscaler&#x27;,\n",
              "                                                  StandardScaler())]),\n",
              "                                 &lt;sklearn.compose._column_transformer.make_column_selector object at 0x7f7020339490&gt;),\n",
              "                                (&#x27;pipeline-2&#x27;,\n",
              "                                 Pipeline(steps=[(&#x27;onehotencoder&#x27;,\n",
              "                                                  OneHotEncoder(handle_unknown=&#x27;ignore&#x27;,\n",
              "                                                                sparse=False))]),\n",
              "                                 &lt;sklearn.compose._column_transformer.make_column_selector object at 0x7f7020339d90&gt;)])</pre><b>Please rerun this cell to show the HTML repr or trust the notebook.</b></div><div class=\"sk-container\" hidden><div class=\"sk-item sk-dashed-wrapped\"><div class=\"sk-label-container\"><div class=\"sk-label sk-toggleable\"><input class=\"sk-toggleable__control sk-hidden--visually\" id=\"0288a855-7758-42d3-afed-93e953c52ebe\" type=\"checkbox\" ><label for=\"0288a855-7758-42d3-afed-93e953c52ebe\" class=\"sk-toggleable__label sk-toggleable__label-arrow\">ColumnTransformer</label><div class=\"sk-toggleable__content\"><pre>ColumnTransformer(remainder=&#x27;passthrough&#x27;,\n",
              "                  transformers=[(&#x27;pipeline-1&#x27;,\n",
              "                                 Pipeline(steps=[(&#x27;standardscaler&#x27;,\n",
              "                                                  StandardScaler())]),\n",
              "                                 &lt;sklearn.compose._column_transformer.make_column_selector object at 0x7f7020339490&gt;),\n",
              "                                (&#x27;pipeline-2&#x27;,\n",
              "                                 Pipeline(steps=[(&#x27;onehotencoder&#x27;,\n",
              "                                                  OneHotEncoder(handle_unknown=&#x27;ignore&#x27;,\n",
              "                                                                sparse=False))]),\n",
              "                                 &lt;sklearn.compose._column_transformer.make_column_selector object at 0x7f7020339d90&gt;)])</pre></div></div></div><div class=\"sk-parallel\"><div class=\"sk-parallel-item\"><div class=\"sk-item\"><div class=\"sk-label-container\"><div class=\"sk-label sk-toggleable\"><input class=\"sk-toggleable__control sk-hidden--visually\" id=\"5c28c66d-e844-42c2-aad0-eb199e6dab08\" type=\"checkbox\" ><label for=\"5c28c66d-e844-42c2-aad0-eb199e6dab08\" class=\"sk-toggleable__label sk-toggleable__label-arrow\">pipeline-1</label><div class=\"sk-toggleable__content\"><pre>&lt;sklearn.compose._column_transformer.make_column_selector object at 0x7f7020339490&gt;</pre></div></div></div><div class=\"sk-serial\"><div class=\"sk-item\"><div class=\"sk-serial\"><div class=\"sk-item\"><div class=\"sk-estimator sk-toggleable\"><input class=\"sk-toggleable__control sk-hidden--visually\" id=\"eae5842b-e719-42b9-a885-4d5b891f8c1c\" type=\"checkbox\" ><label for=\"eae5842b-e719-42b9-a885-4d5b891f8c1c\" class=\"sk-toggleable__label sk-toggleable__label-arrow\">StandardScaler</label><div class=\"sk-toggleable__content\"><pre>StandardScaler()</pre></div></div></div></div></div></div></div></div><div class=\"sk-parallel-item\"><div class=\"sk-item\"><div class=\"sk-label-container\"><div class=\"sk-label sk-toggleable\"><input class=\"sk-toggleable__control sk-hidden--visually\" id=\"d95c9490-bbd5-46ee-9aa6-251555eb60a4\" type=\"checkbox\" ><label for=\"d95c9490-bbd5-46ee-9aa6-251555eb60a4\" class=\"sk-toggleable__label sk-toggleable__label-arrow\">pipeline-2</label><div class=\"sk-toggleable__content\"><pre>&lt;sklearn.compose._column_transformer.make_column_selector object at 0x7f7020339d90&gt;</pre></div></div></div><div class=\"sk-serial\"><div class=\"sk-item\"><div class=\"sk-serial\"><div class=\"sk-item\"><div class=\"sk-estimator sk-toggleable\"><input class=\"sk-toggleable__control sk-hidden--visually\" id=\"bd9b9113-c9f6-4a79-a965-0699d835a113\" type=\"checkbox\" ><label for=\"bd9b9113-c9f6-4a79-a965-0699d835a113\" class=\"sk-toggleable__label sk-toggleable__label-arrow\">OneHotEncoder</label><div class=\"sk-toggleable__content\"><pre>OneHotEncoder(handle_unknown=&#x27;ignore&#x27;, sparse=False)</pre></div></div></div></div></div></div></div></div><div class=\"sk-parallel-item\"><div class=\"sk-item\"><div class=\"sk-label-container\"><div class=\"sk-label sk-toggleable\"><input class=\"sk-toggleable__control sk-hidden--visually\" id=\"bb7b826e-b015-4ec3-b8df-6ac0bcbc861f\" type=\"checkbox\" ><label for=\"bb7b826e-b015-4ec3-b8df-6ac0bcbc861f\" class=\"sk-toggleable__label sk-toggleable__label-arrow\">remainder</label><div class=\"sk-toggleable__content\"><pre>[]</pre></div></div></div><div class=\"sk-serial\"><div class=\"sk-item\"><div class=\"sk-estimator sk-toggleable\"><input class=\"sk-toggleable__control sk-hidden--visually\" id=\"75f8b3a3-76c7-4efd-b4b9-e7f9032e9b95\" type=\"checkbox\" ><label for=\"75f8b3a3-76c7-4efd-b4b9-e7f9032e9b95\" class=\"sk-toggleable__label sk-toggleable__label-arrow\">passthrough</label><div class=\"sk-toggleable__content\"><pre>passthrough</pre></div></div></div></div></div></div></div></div></div></div>"
            ]
          },
          "metadata": {},
          "execution_count": 54
        }
      ]
    },
    {
      "cell_type": "markdown",
      "source": [
        "Transform Train and Test"
      ],
      "metadata": {
        "id": "RIpLDaky7gV7"
      }
    },
    {
      "cell_type": "code",
      "source": [
        "# transform train and test\n",
        "X_train_processed = preprocessor.transform(X_train)\n",
        "X_test_processed = preprocessor.transform(X_test)\n",
        "# result in Numpy array\n",
        "X_train_processed"
      ],
      "metadata": {
        "colab": {
          "base_uri": "https://localhost:8080/"
        },
        "id": "OVgk2ffT7d37",
        "outputId": "a8635d0f-066b-4f29-b181-bc3707296c43"
      },
      "execution_count": 55,
      "outputs": [
        {
          "output_type": "execute_result",
          "data": {
            "text/plain": [
              "array([[-0.70557556,  1.83797352,  1.3320594 , ...,  0.        ,\n",
              "         1.        ,  0.        ],\n",
              "       [ 1.30400847, -0.28141255, -1.53516775, ...,  0.        ,\n",
              "         0.        ,  0.        ],\n",
              "       [ 0.3463181 ,  1.69116347,  0.13738142, ...,  1.        ,\n",
              "         0.        ,  0.        ],\n",
              "       ...,\n",
              "       [ 1.08837392, -0.74905057, -0.10155417, ...,  1.        ,\n",
              "         0.        ,  0.        ],\n",
              "       [-0.22039966, -0.37557106,  1.09312381, ...,  1.        ,\n",
              "         0.        ,  0.        ],\n",
              "       [-1.28403877, -0.51653555,  1.09312381, ...,  1.        ,\n",
              "         0.        ,  0.        ]])"
            ]
          },
          "metadata": {},
          "execution_count": 55
        }
      ]
    },
    {
      "cell_type": "code",
      "source": [
        "# from scipy import stats\n",
        "# for arr in X_train_processed: #do not need the loop at this point, but looks prettier\n",
        "#     print(stats.describe(arr))"
      ],
      "metadata": {
        "id": "oodwUc0qkK4T"
      },
      "execution_count": 56,
      "outputs": []
    },
    {
      "cell_type": "markdown",
      "source": [
        "# Project 1 - Final (Core)"
      ],
      "metadata": {
        "id": "q_PBwB2ATOVt"
      }
    },
    {
      "cell_type": "markdown",
      "source": [
        "## 1) Your first task is to build a linear regression model to predict sales.\n",
        "\n",
        "*    Build a linear regression model."
      ],
      "metadata": {
        "id": "Q2-Chpp7TQi0"
      }
    },
    {
      "cell_type": "code",
      "source": [
        "# Make an instance of the model\n",
        "reg = LinearRegression()"
      ],
      "metadata": {
        "id": "GOgsu5X8TQAF"
      },
      "execution_count": 57,
      "outputs": []
    },
    {
      "cell_type": "markdown",
      "source": [
        "Model is learning the relationship between X and y"
      ],
      "metadata": {
        "id": "b81P64yQVmbk"
      }
    },
    {
      "cell_type": "code",
      "source": [
        "# Fit to the model\n",
        "reg.fit(X_train_processed, y_train)"
      ],
      "metadata": {
        "colab": {
          "base_uri": "https://localhost:8080/",
          "height": 0
        },
        "id": "CdKymw1OVCKW",
        "outputId": "1344fc76-1b1c-4488-bbdb-f5ab7710b424"
      },
      "execution_count": 58,
      "outputs": [
        {
          "output_type": "execute_result",
          "data": {
            "text/plain": [
              "LinearRegression()"
            ],
            "text/html": [
              "<style>#sk-87df7935-3e41-4e37-9270-01780ad257fc {color: black;background-color: white;}#sk-87df7935-3e41-4e37-9270-01780ad257fc pre{padding: 0;}#sk-87df7935-3e41-4e37-9270-01780ad257fc div.sk-toggleable {background-color: white;}#sk-87df7935-3e41-4e37-9270-01780ad257fc label.sk-toggleable__label {cursor: pointer;display: block;width: 100%;margin-bottom: 0;padding: 0.3em;box-sizing: border-box;text-align: center;}#sk-87df7935-3e41-4e37-9270-01780ad257fc label.sk-toggleable__label-arrow:before {content: \"▸\";float: left;margin-right: 0.25em;color: #696969;}#sk-87df7935-3e41-4e37-9270-01780ad257fc label.sk-toggleable__label-arrow:hover:before {color: black;}#sk-87df7935-3e41-4e37-9270-01780ad257fc div.sk-estimator:hover label.sk-toggleable__label-arrow:before {color: black;}#sk-87df7935-3e41-4e37-9270-01780ad257fc div.sk-toggleable__content {max-height: 0;max-width: 0;overflow: hidden;text-align: left;background-color: #f0f8ff;}#sk-87df7935-3e41-4e37-9270-01780ad257fc div.sk-toggleable__content pre {margin: 0.2em;color: black;border-radius: 0.25em;background-color: #f0f8ff;}#sk-87df7935-3e41-4e37-9270-01780ad257fc input.sk-toggleable__control:checked~div.sk-toggleable__content {max-height: 200px;max-width: 100%;overflow: auto;}#sk-87df7935-3e41-4e37-9270-01780ad257fc input.sk-toggleable__control:checked~label.sk-toggleable__label-arrow:before {content: \"▾\";}#sk-87df7935-3e41-4e37-9270-01780ad257fc div.sk-estimator input.sk-toggleable__control:checked~label.sk-toggleable__label {background-color: #d4ebff;}#sk-87df7935-3e41-4e37-9270-01780ad257fc div.sk-label input.sk-toggleable__control:checked~label.sk-toggleable__label {background-color: #d4ebff;}#sk-87df7935-3e41-4e37-9270-01780ad257fc input.sk-hidden--visually {border: 0;clip: rect(1px 1px 1px 1px);clip: rect(1px, 1px, 1px, 1px);height: 1px;margin: -1px;overflow: hidden;padding: 0;position: absolute;width: 1px;}#sk-87df7935-3e41-4e37-9270-01780ad257fc div.sk-estimator {font-family: monospace;background-color: #f0f8ff;border: 1px dotted black;border-radius: 0.25em;box-sizing: border-box;margin-bottom: 0.5em;}#sk-87df7935-3e41-4e37-9270-01780ad257fc div.sk-estimator:hover {background-color: #d4ebff;}#sk-87df7935-3e41-4e37-9270-01780ad257fc div.sk-parallel-item::after {content: \"\";width: 100%;border-bottom: 1px solid gray;flex-grow: 1;}#sk-87df7935-3e41-4e37-9270-01780ad257fc div.sk-label:hover label.sk-toggleable__label {background-color: #d4ebff;}#sk-87df7935-3e41-4e37-9270-01780ad257fc div.sk-serial::before {content: \"\";position: absolute;border-left: 1px solid gray;box-sizing: border-box;top: 2em;bottom: 0;left: 50%;}#sk-87df7935-3e41-4e37-9270-01780ad257fc div.sk-serial {display: flex;flex-direction: column;align-items: center;background-color: white;padding-right: 0.2em;padding-left: 0.2em;}#sk-87df7935-3e41-4e37-9270-01780ad257fc div.sk-item {z-index: 1;}#sk-87df7935-3e41-4e37-9270-01780ad257fc div.sk-parallel {display: flex;align-items: stretch;justify-content: center;background-color: white;}#sk-87df7935-3e41-4e37-9270-01780ad257fc div.sk-parallel::before {content: \"\";position: absolute;border-left: 1px solid gray;box-sizing: border-box;top: 2em;bottom: 0;left: 50%;}#sk-87df7935-3e41-4e37-9270-01780ad257fc div.sk-parallel-item {display: flex;flex-direction: column;position: relative;background-color: white;}#sk-87df7935-3e41-4e37-9270-01780ad257fc div.sk-parallel-item:first-child::after {align-self: flex-end;width: 50%;}#sk-87df7935-3e41-4e37-9270-01780ad257fc div.sk-parallel-item:last-child::after {align-self: flex-start;width: 50%;}#sk-87df7935-3e41-4e37-9270-01780ad257fc div.sk-parallel-item:only-child::after {width: 0;}#sk-87df7935-3e41-4e37-9270-01780ad257fc div.sk-dashed-wrapped {border: 1px dashed gray;margin: 0 0.4em 0.5em 0.4em;box-sizing: border-box;padding-bottom: 0.4em;background-color: white;position: relative;}#sk-87df7935-3e41-4e37-9270-01780ad257fc div.sk-label label {font-family: monospace;font-weight: bold;background-color: white;display: inline-block;line-height: 1.2em;}#sk-87df7935-3e41-4e37-9270-01780ad257fc div.sk-label-container {position: relative;z-index: 2;text-align: center;}#sk-87df7935-3e41-4e37-9270-01780ad257fc div.sk-container {/* jupyter's `normalize.less` sets `[hidden] { display: none; }` but bootstrap.min.css set `[hidden] { display: none !important; }` so we also need the `!important` here to be able to override the default hidden behavior on the sphinx rendered scikit-learn.org. See: https://github.com/scikit-learn/scikit-learn/issues/21755 */display: inline-block !important;position: relative;}#sk-87df7935-3e41-4e37-9270-01780ad257fc div.sk-text-repr-fallback {display: none;}</style><div id=\"sk-87df7935-3e41-4e37-9270-01780ad257fc\" class=\"sk-top-container\"><div class=\"sk-text-repr-fallback\"><pre>LinearRegression()</pre><b>Please rerun this cell to show the HTML repr or trust the notebook.</b></div><div class=\"sk-container\" hidden><div class=\"sk-item\"><div class=\"sk-estimator sk-toggleable\"><input class=\"sk-toggleable__control sk-hidden--visually\" id=\"b7258203-d149-4ae7-bb66-3757b4e80591\" type=\"checkbox\" checked><label for=\"b7258203-d149-4ae7-bb66-3757b4e80591\" class=\"sk-toggleable__label sk-toggleable__label-arrow\">LinearRegression</label><div class=\"sk-toggleable__content\"><pre>LinearRegression()</pre></div></div></div></div></div>"
            ]
          },
          "metadata": {},
          "execution_count": 58
        }
      ]
    },
    {
      "cell_type": "markdown",
      "source": [
        "Obtaining the predictions"
      ],
      "metadata": {
        "id": "0X3CxREkV5gj"
      }
    },
    {
      "cell_type": "code",
      "source": [
        "# to obtrain the predictions of the train set\n",
        "train_preds = reg.predict(X_train_processed)\n",
        "# To obtain the predictions of the test set\n",
        "test_preds = reg.predict(X_test_processed)\n",
        "train_preds"
      ],
      "metadata": {
        "colab": {
          "base_uri": "https://localhost:8080/"
        },
        "id": "_v2Z_NtvWkpL",
        "outputId": "11a6cef9-eeaa-4194-c4bf-142f7bbba2af"
      },
      "execution_count": 59,
      "outputs": [
        {
          "output_type": "execute_result",
          "data": {
            "text/plain": [
              "array([2683.5 ,  -74.75, 3969.5 , ..., 1627.25, 1108.5 , 1610.  ])"
            ]
          },
          "metadata": {},
          "execution_count": 59
        }
      ]
    },
    {
      "cell_type": "markdown",
      "source": [
        "*    Evaluate the performance of your model based on r^2."
      ],
      "metadata": {
        "id": "Fgi0p6gKWjzs"
      }
    },
    {
      "cell_type": "code",
      "source": [
        "#value of r^2 \n",
        "r2_train = r2_score(y_train, train_preds)\n",
        "r2_test = r2_score(y_test, test_preds)\n",
        "# value of r^2 for train\n",
        "# print(f'r2_train:', r2_train,'\\n')\n",
        "# print(f'r2_test:', r2_test,'\\n')\n",
        "r2_train"
      ],
      "metadata": {
        "colab": {
          "base_uri": "https://localhost:8080/"
        },
        "id": "DqKM6nX_Vsf8",
        "outputId": "b612c6dd-1270-4962-e000-8afad5bc8353"
      },
      "execution_count": 60,
      "outputs": [
        {
          "output_type": "execute_result",
          "data": {
            "text/plain": [
              "0.6709903073099658"
            ]
          },
          "metadata": {},
          "execution_count": 60
        }
      ]
    },
    {
      "cell_type": "code",
      "source": [
        "# test score\n",
        "r2_test"
      ],
      "metadata": {
        "colab": {
          "base_uri": "https://localhost:8080/"
        },
        "id": "GzCpjYyYU0j9",
        "outputId": "fd0d931a-a820-45a5-c603-0d26a345ea54"
      },
      "execution_count": 61,
      "outputs": [
        {
          "output_type": "execute_result",
          "data": {
            "text/plain": [
              "-4.2201613882650107e+18"
            ]
          },
          "metadata": {},
          "execution_count": 61
        }
      ]
    },
    {
      "cell_type": "markdown",
      "source": [
        "*    Evaluate the performance of your model based on rmse."
      ],
      "metadata": {
        "id": "hV88RWd9XcRq"
      }
    },
    {
      "cell_type": "code",
      "source": [
        "# Root mean squared error for test and train\n",
        "rmse_train = np.sqrt(mean_squared_error(y_train, train_preds))\n",
        "rmse_test = np.sqrt(mean_squared_error(y_test, test_preds))\n",
        "# print(f'rmse_train:', rmse_train, '\\n')\n",
        "# print(f'rmse_test:', rmse_test)\n",
        "rmse_train"
      ],
      "metadata": {
        "colab": {
          "base_uri": "https://localhost:8080/"
        },
        "id": "1sYLrA6VXdgl",
        "outputId": "d30a809a-5f16-4347-9b4d-123dc178bae6"
      },
      "execution_count": 62,
      "outputs": [
        {
          "output_type": "execute_result",
          "data": {
            "text/plain": [
              "980.6157803099394"
            ]
          },
          "metadata": {},
          "execution_count": 62
        }
      ]
    },
    {
      "cell_type": "code",
      "source": [
        "# test score\n",
        "rmse_test"
      ],
      "metadata": {
        "colab": {
          "base_uri": "https://localhost:8080/"
        },
        "id": "mjsgFoHwU_jF",
        "outputId": "4434bfe9-3e5d-4899-c162-d1d267d48857"
      },
      "execution_count": 63,
      "outputs": [
        {
          "output_type": "execute_result",
          "data": {
            "text/plain": [
              "3485131217171.3228"
            ]
          },
          "metadata": {},
          "execution_count": 63
        }
      ]
    },
    {
      "cell_type": "markdown",
      "source": [
        "## 2) Your second task is to build a regression tree model to predict sales."
      ],
      "metadata": {
        "id": "2MAN5RHnb8Zy"
      }
    },
    {
      "cell_type": "markdown",
      "source": [
        "*    Build a simple regression tree model.\n",
        "\n",
        "check for the optimal value of max_depth"
      ],
      "metadata": {
        "id": "c_dr3p4Nb-5a"
      }
    },
    {
      "cell_type": "code",
      "source": [
        "# List of values to try for max_depth:\n",
        "max_depth_range = list(range(1,50)) # will try every value between 0 and 50\n",
        "# List to store the score for each value of max_depth\n",
        "r2 = []\n",
        "for depth in max_depth_range:\n",
        "    dec_tree = DecisionTreeRegressor(max_depth = depth,\n",
        "                                     random_state = 42)\n",
        "    dec_tree.fit(X_train_processed, y_train)\n",
        "    score = dec_tree.score(X_test_processed, y_test)\n",
        "    r2.append(score)\n",
        "\n",
        "# Visualize which max_depth leads to the highest r2 score\n",
        "import matplotlib.pyplot as plt\n",
        "plt.rcParams['figure.figsize'] = (10, 4)\n",
        "plt.plot(max_depth_range, r2)\n",
        "plt.xlabel('max_depth')\n",
        "plt.ylabel('r2')\n",
        "plt.grid()\n",
        "plt.show()"
      ],
      "metadata": {
        "colab": {
          "base_uri": "https://localhost:8080/",
          "height": 0
        },
        "id": "TtJp5OKlmHQX",
        "outputId": "4a8ef693-3b9d-48a1-eb41-5c8cf76a4034"
      },
      "execution_count": 64,
      "outputs": [
        {
          "output_type": "display_data",
          "data": {
            "text/plain": [
              "<Figure size 720x288 with 1 Axes>"
            ],
            "image/png": "[encoded data removed]"
          },
          "metadata": {
            "needs_background": "light"
          }
        }
      ]
    },
    {
      "cell_type": "markdown",
      "source": [
        "From code below max_depth = 5 is the optimal value for this model"
      ],
      "metadata": {
        "id": "SmGLAtilvItH"
      }
    },
    {
      "cell_type": "code",
      "source": [
        "val = tuple(zip(max_depth_range, r2))\n",
        "opt = pd.DataFrame(val, columns = ['max_depth_range', 'r2'])\n",
        "opt[opt['r2'] == max(opt['r2'])]"
      ],
      "metadata": {
        "colab": {
          "base_uri": "https://localhost:8080/",
          "height": 0
        },
        "id": "snMrzvGCLvuF",
        "outputId": "71b4ebe1-2e24-4924-f8bc-7b300a70286c"
      },
      "execution_count": 65,
      "outputs": [
        {
          "output_type": "execute_result",
          "data": {
            "text/plain": [
              "   max_depth_range        r2\n",
              "4                5  0.591169"
            ],
            "text/html": [
              "\n",
              "  <div id=\"df-ae79ef59-be25-477a-96f4-7df3979ef293\">\n",
              "    <div class=\"colab-df-container\">\n",
              "      <div>\n",
              "<style scoped>\n",
              "    .dataframe tbody tr th:only-of-type {\n",
              "        vertical-align: middle;\n",
              "    }\n",
              "\n",
              "    .dataframe tbody tr th {\n",
              "        vertical-align: top;\n",
              "    }\n",
              "\n",
              "    .dataframe thead th {\n",
              "        text-align: right;\n",
              "    }\n",
              "</style>\n",
              "<table border=\"1\" class=\"dataframe\">\n",
              "  <thead>\n",
              "    <tr style=\"text-align: right;\">\n",
              "      <th></th>\n",
              "      <th>max_depth_range</th>\n",
              "      <th>r2</th>\n",
              "    </tr>\n",
              "  </thead>\n",
              "  <tbody>\n",
              "    <tr>\n",
              "      <th>4</th>\n",
              "      <td>5</td>\n",
              "      <td>0.591169</td>\n",
              "    </tr>\n",
              "  </tbody>\n",
              "</table>\n",
              "</div>\n",
              "      <button class=\"colab-df-convert\" onclick=\"convertToInteractive('df-ae79ef59-be25-477a-96f4-7df3979ef293')\"\n",
              "              title=\"Convert this dataframe to an interactive table.\"\n",
              "              style=\"display:none;\">\n",
              "        \n",
              "  <svg xmlns=\"http://www.w3.org/2000/svg\" height=\"24px\"viewBox=\"0 0 24 24\"\n",
              "       width=\"24px\">\n",
              "    <path d=\"M0 0h24v24H0V0z\" fill=\"none\"/>\n",
              "    <path d=\"M18.56 5.44l.94 2.06.94-2.06 2.06-.94-2.06-.94-.94-2.06-.94 2.06-2.06.94zm-11 1L8.5 8.5l.94-2.06 2.06-.94-2.06-.94L8.5 2.5l-.94 2.06-2.06.94zm10 10l.94 2.06.94-2.06 2.06-.94-2.06-.94-.94-2.06-.94 2.06-2.06.94z\"/><path d=\"M17.41 7.96l-1.37-1.37c-.4-.4-.92-.59-1.43-.59-.52 0-1.04.2-1.43.59L10.3 9.45l-7.72 7.72c-.78.78-.78 2.05 0 2.83L4 21.41c.39.39.9.59 1.41.59.51 0 1.02-.2 1.41-.59l7.78-7.78 2.81-2.81c.8-.78.8-2.07 0-2.86zM5.41 20L4 18.59l7.72-7.72 1.47 1.35L5.41 20z\"/>\n",
              "  </svg>\n",
              "      </button>\n",
              "      \n",
              "  <style>\n",
              "    .colab-df-container {\n",
              "      display:flex;\n",
              "      flex-wrap:wrap;\n",
              "      gap: 12px;\n",
              "    }\n",
              "\n",
              "    .colab-df-convert {\n",
              "      background-color: #E8F0FE;\n",
              "      border: none;\n",
              "      border-radius: 50%;\n",
              "      cursor: pointer;\n",
              "      display: none;\n",
              "      fill: #1967D2;\n",
              "      height: 32px;\n",
              "      padding: 0 0 0 0;\n",
              "      width: 32px;\n",
              "    }\n",
              "\n",
              "    .colab-df-convert:hover {\n",
              "      background-color: #E2EBFA;\n",
              "      box-shadow: 0px 1px 2px rgba(60, 64, 67, 0.3), 0px 1px 3px 1px rgba(60, 64, 67, 0.15);\n",
              "      fill: #174EA6;\n",
              "    }\n",
              "\n",
              "    [theme=dark] .colab-df-convert {\n",
              "      background-color: #3B4455;\n",
              "      fill: #D2E3FC;\n",
              "    }\n",
              "\n",
              "    [theme=dark] .colab-df-convert:hover {\n",
              "      background-color: #434B5C;\n",
              "      box-shadow: 0px 1px 3px 1px rgba(0, 0, 0, 0.15);\n",
              "      filter: drop-shadow(0px 1px 2px rgba(0, 0, 0, 0.3));\n",
              "      fill: #FFFFFF;\n",
              "    }\n",
              "  </style>\n",
              "\n",
              "      <script>\n",
              "        const buttonEl =\n",
              "          document.querySelector('#df-ae79ef59-be25-477a-96f4-7df3979ef293 button.colab-df-convert');\n",
              "        buttonEl.style.display =\n",
              "          google.colab.kernel.accessAllowed ? 'block' : 'none';\n",
              "\n",
              "        async function convertToInteractive(key) {\n",
              "          const element = document.querySelector('#df-ae79ef59-be25-477a-96f4-7df3979ef293');\n",
              "          const dataTable =\n",
              "            await google.colab.kernel.invokeFunction('convertToInteractive',\n",
              "                                                     [key], {});\n",
              "          if (!dataTable) return;\n",
              "\n",
              "          const docLinkHtml = 'Like what you see? Visit the ' +\n",
              "            '<a target=\"_blank\" href=https://colab.research.google.com/notebooks/data_table.ipynb>data table notebook</a>'\n",
              "            + ' to learn more about interactive tables.';\n",
              "          element.innerHTML = '';\n",
              "          dataTable['output_type'] = 'display_data';\n",
              "          await google.colab.output.renderOutput(dataTable, element);\n",
              "          const docLink = document.createElement('div');\n",
              "          docLink.innerHTML = docLinkHtml;\n",
              "          element.appendChild(docLink);\n",
              "        }\n",
              "      </script>\n",
              "    </div>\n",
              "  </div>\n",
              "  "
            ]
          },
          "metadata": {},
          "execution_count": 65
        }
      ]
    },
    {
      "cell_type": "markdown",
      "source": [
        "onther method to find the max_depth by using DICT"
      ],
      "metadata": {
        "id": "QFqSfoQKNBZs"
      }
    },
    {
      "cell_type": "code",
      "source": [
        "# using naive method\n",
        "# to convert lists to dictionary\n",
        "res = {}\n",
        "for key in max_depth_range:\n",
        "    for value in r2:\n",
        "        res[key] = value\n",
        "        r2.remove(value)\n",
        "        break  \n",
        "  \n",
        "# Printing resultant dictionary \n",
        "print ('DICT : ' +  str(res))"
      ],
      "metadata": {
        "colab": {
          "base_uri": "https://localhost:8080/"
        },
        "id": "rTHdS3tAoSF4",
        "outputId": "ef426bfe-3e05-4396-b697-33d95ccf1f59"
      },
      "execution_count": 66,
      "outputs": [
        {
          "output_type": "stream",
          "name": "stdout",
          "text": [
            "DICT : {1: 0.22519655543114314, 2: 0.42698292892866274, 3: 0.5148240695054436, 4: 0.5776914204372343, 5: 0.5911691080162262, 6: 0.5910866136083895, 7: 0.5803581425445994, 8: 0.5598184378767399, 9: 0.5493594188080496, 10: 0.5417396020181844, 11: 0.5231822362620224, 12: 0.505359404100097, 13: 0.5008844840453461, 14: 0.4723314989570129, 15: 0.4410633798032554, 16: 0.42995965518936674, 17: 0.410772674599579, 18: 0.37676422260808773, 19: 0.3780873952313629, 20: 0.3696351694306109, 21: 0.36518173361875783, 22: 0.3429115039180568, 23: 0.355176786728838, 24: 0.33700298271140783, 25: 0.34398125923264955, 26: 0.3094651913179368, 27: 0.31554943855832185, 28: 0.2982855955891204, 29: 0.28212210153068384, 30: 0.29024723781097483, 31: 0.2600121202314165, 32: 0.2648046610795852, 33: 0.2683697332528783, 34: 0.2574577229097258, 35: 0.252153732621772, 36: 0.2538785490759988, 37: 0.25790087332572365, 38: 0.2458033988461552, 39: 0.2374385678074491, 40: 0.25236258253337684, 41: 0.2402791318669849, 42: 0.24062473928731354, 43: 0.22557227926518053, 44: 0.22331985743119154, 45: 0.2562803277576058, 46: 0.22253496263571615, 47: 0.22722805248332534, 48: 0.22475705102359733, 49: 0.22719025329753573}\n"
          ]
        }
      ]
    },
    {
      "cell_type": "code",
      "source": [
        "str(res)"
      ],
      "metadata": {
        "colab": {
          "base_uri": "https://localhost:8080/",
          "height": 0
        },
        "id": "3NHcgqMcUqaP",
        "outputId": "f964294b-e835-404f-b1c6-fc605cad6d2a"
      },
      "execution_count": 67,
      "outputs": [
        {
          "output_type": "execute_result",
          "data": {
            "text/plain": [
              "'{1: 0.22519655543114314, 2: 0.42698292892866274, 3: 0.5148240695054436, 4: 0.5776914204372343, 5: 0.5911691080162262, 6: 0.5910866136083895, 7: 0.5803581425445994, 8: 0.5598184378767399, 9: 0.5493594188080496, 10: 0.5417396020181844, 11: 0.5231822362620224, 12: 0.505359404100097, 13: 0.5008844840453461, 14: 0.4723314989570129, 15: 0.4410633798032554, 16: 0.42995965518936674, 17: 0.410772674599579, 18: 0.37676422260808773, 19: 0.3780873952313629, 20: 0.3696351694306109, 21: 0.36518173361875783, 22: 0.3429115039180568, 23: 0.355176786728838, 24: 0.33700298271140783, 25: 0.34398125923264955, 26: 0.3094651913179368, 27: 0.31554943855832185, 28: 0.2982855955891204, 29: 0.28212210153068384, 30: 0.29024723781097483, 31: 0.2600121202314165, 32: 0.2648046610795852, 33: 0.2683697332528783, 34: 0.2574577229097258, 35: 0.252153732621772, 36: 0.2538785490759988, 37: 0.25790087332572365, 38: 0.2458033988461552, 39: 0.2374385678074491, 40: 0.25236258253337684, 41: 0.2402791318669849, 42: 0.24062473928731354, 43: 0.22557227926518053, 44: 0.22331985743119154, 45: 0.2562803277576058, 46: 0.22253496263571615, 47: 0.22722805248332534, 48: 0.22475705102359733, 49: 0.22719025329753573}'"
            ],
            "application/vnd.google.colaboratory.intrinsic+json": {
              "type": "string"
            }
          },
          "metadata": {},
          "execution_count": 67
        }
      ]
    },
    {
      "cell_type": "markdown",
      "source": [
        "Make an instance of the Model using max_depth = 5 as the optimal value"
      ],
      "metadata": {
        "id": "3PGY8guDu78f"
      }
    },
    {
      "cell_type": "code",
      "source": [
        "# Instanstiate the model\n",
        "dec_tree = DecisionTreeRegressor(max_depth =5, random_state = 42)"
      ],
      "metadata": {
        "id": "XGjK9ln5Xi6M"
      },
      "execution_count": 68,
      "outputs": []
    },
    {
      "cell_type": "markdown",
      "source": [
        " Fit the model using your training data.  The model is learning the relationship between the features (X) and the target (y).\n"
      ],
      "metadata": {
        "id": "iF0OeYZjdOn6"
      }
    },
    {
      "cell_type": "code",
      "source": [
        "# Fit to the model\n",
        "dec_tree.fit(X_train_processed, y_train)"
      ],
      "metadata": {
        "colab": {
          "base_uri": "https://localhost:8080/",
          "height": 0
        },
        "id": "wxpg9JhddN2r",
        "outputId": "50a5a06f-c930-46d6-a3fc-00756144d44e"
      },
      "execution_count": 69,
      "outputs": [
        {
          "output_type": "execute_result",
          "data": {
            "text/plain": [
              "DecisionTreeRegressor(max_depth=5, random_state=42)"
            ],
            "text/html": [
              "<style>#sk-2357cd0b-e67b-4fe9-ae26-697a9e3f6621 {color: black;background-color: white;}#sk-2357cd0b-e67b-4fe9-ae26-697a9e3f6621 pre{padding: 0;}#sk-2357cd0b-e67b-4fe9-ae26-697a9e3f6621 div.sk-toggleable {background-color: white;}#sk-2357cd0b-e67b-4fe9-ae26-697a9e3f6621 label.sk-toggleable__label {cursor: pointer;display: block;width: 100%;margin-bottom: 0;padding: 0.3em;box-sizing: border-box;text-align: center;}#sk-2357cd0b-e67b-4fe9-ae26-697a9e3f6621 label.sk-toggleable__label-arrow:before {content: \"▸\";float: left;margin-right: 0.25em;color: #696969;}#sk-2357cd0b-e67b-4fe9-ae26-697a9e3f6621 label.sk-toggleable__label-arrow:hover:before {color: black;}#sk-2357cd0b-e67b-4fe9-ae26-697a9e3f6621 div.sk-estimator:hover label.sk-toggleable__label-arrow:before {color: black;}#sk-2357cd0b-e67b-4fe9-ae26-697a9e3f6621 div.sk-toggleable__content {max-height: 0;max-width: 0;overflow: hidden;text-align: left;background-color: #f0f8ff;}#sk-2357cd0b-e67b-4fe9-ae26-697a9e3f6621 div.sk-toggleable__content pre {margin: 0.2em;color: black;border-radius: 0.25em;background-color: #f0f8ff;}#sk-2357cd0b-e67b-4fe9-ae26-697a9e3f6621 input.sk-toggleable__control:checked~div.sk-toggleable__content {max-height: 200px;max-width: 100%;overflow: auto;}#sk-2357cd0b-e67b-4fe9-ae26-697a9e3f6621 input.sk-toggleable__control:checked~label.sk-toggleable__label-arrow:before {content: \"▾\";}#sk-2357cd0b-e67b-4fe9-ae26-697a9e3f6621 div.sk-estimator input.sk-toggleable__control:checked~label.sk-toggleable__label {background-color: #d4ebff;}#sk-2357cd0b-e67b-4fe9-ae26-697a9e3f6621 div.sk-label input.sk-toggleable__control:checked~label.sk-toggleable__label {background-color: #d4ebff;}#sk-2357cd0b-e67b-4fe9-ae26-697a9e3f6621 input.sk-hidden--visually {border: 0;clip: rect(1px 1px 1px 1px);clip: rect(1px, 1px, 1px, 1px);height: 1px;margin: -1px;overflow: hidden;padding: 0;position: absolute;width: 1px;}#sk-2357cd0b-e67b-4fe9-ae26-697a9e3f6621 div.sk-estimator {font-family: monospace;background-color: #f0f8ff;border: 1px dotted black;border-radius: 0.25em;box-sizing: border-box;margin-bottom: 0.5em;}#sk-2357cd0b-e67b-4fe9-ae26-697a9e3f6621 div.sk-estimator:hover {background-color: #d4ebff;}#sk-2357cd0b-e67b-4fe9-ae26-697a9e3f6621 div.sk-parallel-item::after {content: \"\";width: 100%;border-bottom: 1px solid gray;flex-grow: 1;}#sk-2357cd0b-e67b-4fe9-ae26-697a9e3f6621 div.sk-label:hover label.sk-toggleable__label {background-color: #d4ebff;}#sk-2357cd0b-e67b-4fe9-ae26-697a9e3f6621 div.sk-serial::before {content: \"\";position: absolute;border-left: 1px solid gray;box-sizing: border-box;top: 2em;bottom: 0;left: 50%;}#sk-2357cd0b-e67b-4fe9-ae26-697a9e3f6621 div.sk-serial {display: flex;flex-direction: column;align-items: center;background-color: white;padding-right: 0.2em;padding-left: 0.2em;}#sk-2357cd0b-e67b-4fe9-ae26-697a9e3f6621 div.sk-item {z-index: 1;}#sk-2357cd0b-e67b-4fe9-ae26-697a9e3f6621 div.sk-parallel {display: flex;align-items: stretch;justify-content: center;background-color: white;}#sk-2357cd0b-e67b-4fe9-ae26-697a9e3f6621 div.sk-parallel::before {content: \"\";position: absolute;border-left: 1px solid gray;box-sizing: border-box;top: 2em;bottom: 0;left: 50%;}#sk-2357cd0b-e67b-4fe9-ae26-697a9e3f6621 div.sk-parallel-item {display: flex;flex-direction: column;position: relative;background-color: white;}#sk-2357cd0b-e67b-4fe9-ae26-697a9e3f6621 div.sk-parallel-item:first-child::after {align-self: flex-end;width: 50%;}#sk-2357cd0b-e67b-4fe9-ae26-697a9e3f6621 div.sk-parallel-item:last-child::after {align-self: flex-start;width: 50%;}#sk-2357cd0b-e67b-4fe9-ae26-697a9e3f6621 div.sk-parallel-item:only-child::after {width: 0;}#sk-2357cd0b-e67b-4fe9-ae26-697a9e3f6621 div.sk-dashed-wrapped {border: 1px dashed gray;margin: 0 0.4em 0.5em 0.4em;box-sizing: border-box;padding-bottom: 0.4em;background-color: white;position: relative;}#sk-2357cd0b-e67b-4fe9-ae26-697a9e3f6621 div.sk-label label {font-family: monospace;font-weight: bold;background-color: white;display: inline-block;line-height: 1.2em;}#sk-2357cd0b-e67b-4fe9-ae26-697a9e3f6621 div.sk-label-container {position: relative;z-index: 2;text-align: center;}#sk-2357cd0b-e67b-4fe9-ae26-697a9e3f6621 div.sk-container {/* jupyter's `normalize.less` sets `[hidden] { display: none; }` but bootstrap.min.css set `[hidden] { display: none !important; }` so we also need the `!important` here to be able to override the default hidden behavior on the sphinx rendered scikit-learn.org. See: https://github.com/scikit-learn/scikit-learn/issues/21755 */display: inline-block !important;position: relative;}#sk-2357cd0b-e67b-4fe9-ae26-697a9e3f6621 div.sk-text-repr-fallback {display: none;}</style><div id=\"sk-2357cd0b-e67b-4fe9-ae26-697a9e3f6621\" class=\"sk-top-container\"><div class=\"sk-text-repr-fallback\"><pre>DecisionTreeRegressor(max_depth=5, random_state=42)</pre><b>Please rerun this cell to show the HTML repr or trust the notebook.</b></div><div class=\"sk-container\" hidden><div class=\"sk-item\"><div class=\"sk-estimator sk-toggleable\"><input class=\"sk-toggleable__control sk-hidden--visually\" id=\"f5b5bd1a-d89b-4662-a28b-845ae7e481be\" type=\"checkbox\" checked><label for=\"f5b5bd1a-d89b-4662-a28b-845ae7e481be\" class=\"sk-toggleable__label sk-toggleable__label-arrow\">DecisionTreeRegressor</label><div class=\"sk-toggleable__content\"><pre>DecisionTreeRegressor(max_depth=5, random_state=42)</pre></div></div></div></div></div>"
            ]
          },
          "metadata": {},
          "execution_count": 69
        }
      ]
    },
    {
      "cell_type": "markdown",
      "source": [
        "Predict the target values for the training set and the test test."
      ],
      "metadata": {
        "id": "an8kGc7Ede2C"
      }
    },
    {
      "cell_type": "code",
      "source": [
        "train_preds = dec_tree.predict(X_train_processed)\n",
        "test_preds = dec_tree.predict(X_test_processed)\n",
        "\n",
        "print(f'train_preds:', train_preds, '\\n')\n",
        "print(f'test_preds:', test_preds, '\\n')"
      ],
      "metadata": {
        "colab": {
          "base_uri": "https://localhost:8080/"
        },
        "id": "aqjfyN7fdZJr",
        "outputId": "d842c881-d12a-4c42-f526-37ac6f38a326"
      },
      "execution_count": 70,
      "outputs": [
        {
          "output_type": "stream",
          "name": "stdout",
          "text": [
            "train_preds: [3210.50410744  291.57790213 3941.85506759 ... 1525.45153462 1996.76414603\n",
            " 1525.45153462] \n",
            "\n",
            "test_preds: [1996.76414603 1525.45153462  227.32824966 ... 1525.45153462 3941.85506759\n",
            " 3210.50410744] \n",
            "\n"
          ]
        }
      ]
    },
    {
      "cell_type": "markdown",
      "source": [
        "Evaluate the Model"
      ],
      "metadata": {
        "id": "D-8gsldldqMb"
      }
    },
    {
      "cell_type": "markdown",
      "source": [
        "*    Compare the performance of your model based on r^2."
      ],
      "metadata": {
        "id": "XYkVWoFxewPx"
      }
    },
    {
      "cell_type": "code",
      "source": [
        "#value of r^2 \n",
        "r2_train = r2_score(y_train, train_preds)\n",
        "r2_test = r2_score(y_test, test_preds)\n",
        "# value of r^2 for train\n",
        "\n",
        "# print(f'r2_train:', r2_train,'\\n')\n",
        "# print(f'r2_test:', r2_test,'\\n')\n",
        "r2_train"
      ],
      "metadata": {
        "colab": {
          "base_uri": "https://localhost:8080/"
        },
        "id": "2zg2XAo0dvSa",
        "outputId": "781a11f4-ca36-4d77-d30c-1656da6d245e"
      },
      "execution_count": 71,
      "outputs": [
        {
          "output_type": "execute_result",
          "data": {
            "text/plain": [
              "0.6058569565835543"
            ]
          },
          "metadata": {},
          "execution_count": 71
        }
      ]
    },
    {
      "cell_type": "code",
      "source": [
        "# test score\n",
        "r2_test"
      ],
      "metadata": {
        "colab": {
          "base_uri": "https://localhost:8080/"
        },
        "id": "evtBzjOfUJR8",
        "outputId": "6cd8bf30-cdbb-4a4d-a30b-373be199dfca"
      },
      "execution_count": 72,
      "outputs": [
        {
          "output_type": "execute_result",
          "data": {
            "text/plain": [
              "0.5911691080162262"
            ]
          },
          "metadata": {},
          "execution_count": 72
        }
      ]
    },
    {
      "cell_type": "markdown",
      "source": [
        "*    Compare the performance of your model based on rmse.  "
      ],
      "metadata": {
        "id": "zbeDLp5gezQK"
      }
    },
    {
      "cell_type": "code",
      "source": [
        "# Root mean squared error for test and train\n",
        "rmse_train = np.sqrt(mean_squared_error(y_train, train_preds))\n",
        "rmse_test = np.sqrt(mean_squared_error(y_test, test_preds))\n",
        "# value of r^2 for train\n",
        "# print(f'rmse_train:', rmse_train, '\\n')\n",
        "# print(f'rmse_test:', rmse_test)\n",
        "rmse_train"
      ],
      "metadata": {
        "colab": {
          "base_uri": "https://localhost:8080/"
        },
        "id": "30z6XuWTehlj",
        "outputId": "d6239255-bbbf-4693-c0e5-1063ce4ffddd"
      },
      "execution_count": 73,
      "outputs": [
        {
          "output_type": "execute_result",
          "data": {
            "text/plain": [
              "1073.300827825967"
            ]
          },
          "metadata": {},
          "execution_count": 73
        }
      ]
    },
    {
      "cell_type": "code",
      "source": [
        "# test score\n",
        "rmse_test"
      ],
      "metadata": {
        "colab": {
          "base_uri": "https://localhost:8080/"
        },
        "id": "CMxgk1IMUXju",
        "outputId": "1dd82d28-cfda-4cc3-f30f-6ef0d728092b"
      },
      "execution_count": 74,
      "outputs": [
        {
          "output_type": "execute_result",
          "data": {
            "text/plain": [
              "1084.742001697323"
            ]
          },
          "metadata": {},
          "execution_count": 74
        }
      ]
    },
    {
      "cell_type": "markdown",
      "source": [
        "## 3) You now have tried 2 different models on your data set. You need to determine which model to implement.\n"
      ],
      "metadata": {
        "id": "tupw1GAwfTli"
      }
    },
    {
      "cell_type": "markdown",
      "source": [
        "*    Overall, which model do you recommend?"
      ],
      "metadata": {
        "id": "1yKli8ncfdU6"
      }
    },
    {
      "cell_type": "markdown",
      "source": [
        "I would recommend using the the Random Forest Model for this for this project"
      ],
      "metadata": {
        "id": "MqJfi5W8grlj"
      }
    },
    {
      "cell_type": "markdown",
      "source": [
        "*    Justify your recommendation."
      ],
      "metadata": {
        "id": "YDALtWfIgwx5"
      }
    },
    {
      "cell_type": "markdown",
      "source": [
        "From the result we can see that \"Random Forest Model\" has a better score result on the test data compared to Linear Regression Model."
      ],
      "metadata": {
        "id": "u8CaL8Nzg1Jk"
      }
    },
    {
      "cell_type": "markdown",
      "source": [
        "## 4) To finalize this project, you need to prepare an executive (non-technical) presentation about your project.\n",
        "\n",
        "*    Create a slide deck for a non-technical audience presenting this data, your analysis, and model recommendations.\n",
        "*    Do not include data cleaning, pre-processing, or exploration steps in your presentation.\n",
        "*    Do include 2 insights from your analysis supported with appropriate \"reporting\" quality visuals.\n",
        "*    Prepare a short (5 minute) audio presentation using your slides (Google Slides, PowePoint, etc). \n",
        "*    Record yourself giving this presentation. Feel free to use any software available (Zoom, OBS, etc.). Include this recording on your GitHub repo.  Your presentation requires audio, but video is optional.\n",
        "*    Finalize your README with an overview of the project, an explanation of the data (including visualizations), and a summary of the results and recommendations. Think of this as an executive summary or an overview of your project.\n",
        "*    Make sure your GitHub repository is organized and professional. Remember, this should be used to showcase your data science skills and abilities.\n",
        "*    Commit all of your work to GitHub and turn in a link to your GitHub repo with your final project. Make sure you include your presentation slides and recording on your GitHub repo as well."
      ],
      "metadata": {
        "id": "fPfkmh6YhNOS"
      }
    },
    {
      "cell_type": "markdown",
      "source": [
        "Below code wil concatenate prediction results( train_preds, test_preds) with our original split data set(X_train, X_test) to create a visualization for our prediction sales."
      ],
      "metadata": {
        "id": "ls9LE3SppWtY"
      }
    }
  ],
  "metadata": {
    "colab": {
      "collapsed_sections": [
        "E94Jzga5EYtY",
        "KqGlIfKC0Y6d",
        "o4t5w6aV0qMV",
        "DGO95ymX0yy9",
        "eX_b_j5Y05qG",
        "U8UTjrbu1AVF",
        "mC4fGMo6RIrs",
        "EmA7pmAMRRek",
        "4OvYCkayaJk8",
        "PUw9PsloL9l8",
        "HnKgDVhO0z_t",
        "q_PBwB2ATOVt",
        "Q2-Chpp7TQi0",
        "2MAN5RHnb8Zy",
        "tupw1GAwfTli"
      ],
      "name": "Sales Predection Project.ipynb",
      "provenance": [],
      "mount_file_id": "12mwlm8jIwfArGkEgpv3TsxmAmseAs5gb",
      "authorship_tag": "ABX9TyNsypwWALwDRVl2I0vZpWyD",
      "include_colab_link": true
    },
    "kernelspec": {
      "display_name": "Python 3",
      "name": "python3"
    },
    "language_info": {
      "name": "python"
    }
  },
  "nbformat": 4,
  "nbformat_minor": 0
}